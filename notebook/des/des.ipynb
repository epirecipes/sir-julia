{
  "cells": [
    {
      "cell_type": "markdown",
      "source": [
        "# Discrete event simulation using SimJulia\nSimon Frost (@sdwfrost), 2020-04-27\n\n## Libraries"
      ],
      "metadata": {}
    },
    {
      "outputs": [],
      "cell_type": "code",
      "source": [
        "using ResumableFunctions\nusing SimJulia\nusing Distributions\nusing DataFrames\nusing Random\nusing StatsPlots\nusing BenchmarkTools"
      ],
      "metadata": {},
      "execution_count": null
    },
    {
      "cell_type": "markdown",
      "source": [
        "## Utility functions"
      ],
      "metadata": {}
    },
    {
      "outputs": [],
      "cell_type": "code",
      "source": [
        "function increment!(a::Array{Int64})\n    push!(a,a[length(a)]+1)\nend\n\nfunction decrement!(a::Array{Int64})\n    push!(a,a[length(a)]-1)\nend\n\nfunction carryover!(a::Array{Int64})\n    push!(a,a[length(a)])\nend;"
      ],
      "metadata": {},
      "execution_count": null
    },
    {
      "cell_type": "markdown",
      "source": [
        "## Transitions"
      ],
      "metadata": {}
    },
    {
      "outputs": [],
      "cell_type": "code",
      "source": [
        "mutable struct SIRPerson\n    id::Int64 # numeric ID\n    status::Symbol # :S,I,R\nend;"
      ],
      "metadata": {},
      "execution_count": null
    },
    {
      "outputs": [],
      "cell_type": "code",
      "source": [
        "mutable struct SIRModel\n    sim::Simulation\n    β::Float64\n    c::Float64\n    γ::Float64\n    ta::Array{Float64}\n    Sa::Array{Int64}\n    Ia::Array{Int64}\n    Ra::Array{Int64}\n    allIndividuals::Array{SIRPerson}\nend;"
      ],
      "metadata": {},
      "execution_count": null
    },
    {
      "cell_type": "markdown",
      "source": [
        "These functions update the state of the 'world' when either an infection or recovery occurs."
      ],
      "metadata": {}
    },
    {
      "outputs": [],
      "cell_type": "code",
      "source": [
        "function infection_update!(sim::Simulation,m::SIRModel)\n    push!(m.ta,now(sim))\n    decrement!(m.Sa)\n    increment!(m.Ia)\n    carryover!(m.Ra)\nend;"
      ],
      "metadata": {},
      "execution_count": null
    },
    {
      "outputs": [],
      "cell_type": "code",
      "source": [
        "function recovery_update!(sim::Simulation,m::SIRModel)\n    push!(m.ta,now(sim))\n    carryover!(m.Sa)\n    decrement!(m.Ia)\n    increment!(m.Ra)\nend;"
      ],
      "metadata": {},
      "execution_count": null
    },
    {
      "cell_type": "markdown",
      "source": [
        "The following is the main simulation function. It's not efficient, as it involves activating a process for all susceptibles; a more efficient algorithm would involve just considering infected individuals, and activating each susceptible individual when infection occurs. This however requires more bookkeeping and detracts from the ability to easily compare between implementations."
      ],
      "metadata": {}
    },
    {
      "outputs": [],
      "cell_type": "code",
      "source": [
        "@resumable function live(sim::Simulation, individual::SIRPerson, m::SIRModel)\n  while individual.status==:S\n      # Wait until next contact\n      @yield timeout(sim,rand(Distributions.Exponential(1/m.c)))\n      # Choose random alter\n      alter=individual\n      while alter==individual\n          N=length(m.allIndividuals)\n          index=rand(Distributions.DiscreteUniform(1,N))\n          alter=m.allIndividuals[index]\n      end\n      # If alter is infected\n      if alter.status==:I\n          infect = rand(Distributions.Uniform(0,1))\n          if infect < m.β\n              individual.status=:I\n              infection_update!(sim,m)\n          end\n      end\n  end\n  if individual.status==:I\n      # Wait until recovery\n      @yield timeout(sim,rand(Distributions.Exponential(1/m.γ)))\n      individual.status=:R\n      recovery_update!(sim,m)\n  end\nend;"
      ],
      "metadata": {},
      "execution_count": null
    },
    {
      "outputs": [],
      "cell_type": "code",
      "source": [
        "function MakeSIRModel(u0,p)\n    (S,I,R) = u0\n    N = S+I+R\n    (β,c,γ) = p\n    sim = Simulation()\n    allIndividuals=Array{SIRPerson,1}(undef,N)\n    for i in 1:S\n        p=SIRPerson(i,:S)\n        allIndividuals[i]=p\n    end\n    for i in (S+1):(S+I)\n        p=SIRPerson(i,:I)\n        allIndividuals[i]=p\n    end\n    for i  in (S+I+1):N\n        p=SIRPerson(i,:R)\n        allIndividuals[i]=p\n    end\n    ta=Array{Float64,1}(undef,0)\n    push!(ta,0.0)\n    Sa=Array{Int64,1}(undef,0)\n    push!(Sa,S)\n    Ia=Array{Int64,1}(undef,0)\n    push!(Ia,I)\n    Ra=Array{Int64,1}(undef,0)\n    push!(Ra,R)\n    SIRModel(sim,β,c,γ,ta,Sa,Ia,Ra,allIndividuals)\nend;"
      ],
      "metadata": {},
      "execution_count": null
    },
    {
      "outputs": [],
      "cell_type": "code",
      "source": [
        "function activate(m::SIRModel)\n     [@process live(m.sim,individual,m) for individual in m.allIndividuals]\nend;"
      ],
      "metadata": {},
      "execution_count": null
    },
    {
      "outputs": [],
      "cell_type": "code",
      "source": [
        "function sir_run(m::SIRModel,tf::Float64)\n    SimJulia.run(m.sim,tf)\nend;"
      ],
      "metadata": {},
      "execution_count": null
    },
    {
      "outputs": [],
      "cell_type": "code",
      "source": [
        "function out(m::SIRModel)\n    result = DataFrame()\n    result[!,:t] = m.ta\n    result[!,:S] = m.Sa\n    result[!,:I] = m.Ia\n    result[!,:R] = m.Ra\n    result\nend;"
      ],
      "metadata": {},
      "execution_count": null
    },
    {
      "cell_type": "markdown",
      "source": [
        "## Time domain"
      ],
      "metadata": {}
    },
    {
      "outputs": [],
      "cell_type": "code",
      "source": [
        "tmax = 40.0;"
      ],
      "metadata": {},
      "execution_count": null
    },
    {
      "cell_type": "markdown",
      "source": [
        "## Initial conditions"
      ],
      "metadata": {}
    },
    {
      "outputs": [],
      "cell_type": "code",
      "source": [
        "u0 = [990,10,0];"
      ],
      "metadata": {},
      "execution_count": null
    },
    {
      "cell_type": "markdown",
      "source": [
        "## Parameter values"
      ],
      "metadata": {}
    },
    {
      "outputs": [],
      "cell_type": "code",
      "source": [
        "p = [0.05,10.0,0.25];"
      ],
      "metadata": {},
      "execution_count": null
    },
    {
      "cell_type": "markdown",
      "source": [
        "## Random number seed"
      ],
      "metadata": {}
    },
    {
      "outputs": [],
      "cell_type": "code",
      "source": [
        "Random.seed!(1234);"
      ],
      "metadata": {},
      "execution_count": null
    },
    {
      "cell_type": "markdown",
      "source": [
        "## Running the model"
      ],
      "metadata": {}
    },
    {
      "outputs": [],
      "cell_type": "code",
      "source": [
        "des_model = MakeSIRModel(u0,p)\nactivate(des_model)\nsir_run(des_model,tmax)"
      ],
      "metadata": {},
      "execution_count": null
    },
    {
      "cell_type": "markdown",
      "source": [
        "## Postprocessing"
      ],
      "metadata": {}
    },
    {
      "outputs": [],
      "cell_type": "code",
      "source": [
        "data_des=out(des_model);"
      ],
      "metadata": {},
      "execution_count": null
    },
    {
      "cell_type": "markdown",
      "source": [
        "## Plotting"
      ],
      "metadata": {}
    },
    {
      "outputs": [],
      "cell_type": "code",
      "source": [
        "@df data_des plot(:t,\n    [:S :I :R],\n    labels = [\"S\" \"I\" \"R\"],\n    xlab=\"Time\",\n    ylab=\"Number\")"
      ],
      "metadata": {},
      "execution_count": null
    },
    {
      "cell_type": "markdown",
      "source": [
        "## A model with a fixed delay\n\nOne of the advantages of a discrete event framework is that it is straightforward to include different distributions for the transitions between states. We can update the above example to include a fixed delay using the following code."
      ],
      "metadata": {}
    },
    {
      "outputs": [],
      "cell_type": "code",
      "source": [
        "@resumable function live_delay(sim::Simulation, individual::SIRPerson, m::SIRModel)\n  while individual.status==:S\n      # Wait until next contact\n      @yield timeout(sim,rand(Distributions.Exponential(1/m.c)))\n      # Choose random alter\n      alter=individual\n      while alter==individual\n          N=length(m.allIndividuals)\n          index=rand(Distributions.DiscreteUniform(1,N))\n          alter=m.allIndividuals[index]\n      end\n      # If alter is infected\n      if alter.status==:I\n          infect = rand(Distributions.Uniform(0,1))\n          if infect < m.β\n              individual.status=:I\n              infection_update!(sim,m)\n          end\n      end\n  end\n  # The following is modified to capture a fixed infection delay\n  if individual.status==:I\n      # Wait until recovery, here fixed\n      @yield timeout(sim,1/m.γ)\n      individual.status=:R\n      recovery_update!(sim,m)\n  end\nend;"
      ],
      "metadata": {},
      "execution_count": null
    },
    {
      "outputs": [],
      "cell_type": "code",
      "source": [
        "function activate_delay(m::SIRModel)\n     [@process live_delay(m.sim,individual,m) for individual in m.allIndividuals]\nend;"
      ],
      "metadata": {},
      "execution_count": null
    },
    {
      "outputs": [],
      "cell_type": "code",
      "source": [
        "des_delay_model = MakeSIRModel(u0,p)\nactivate_delay(des_delay_model)\nsir_run(des_delay_model,tmax)"
      ],
      "metadata": {},
      "execution_count": null
    },
    {
      "outputs": [],
      "cell_type": "code",
      "source": [
        "data_delay_des=out(des_delay_model);"
      ],
      "metadata": {},
      "execution_count": null
    },
    {
      "outputs": [],
      "cell_type": "code",
      "source": [
        "@df data_delay_des plot(:t,\n    [:S :I :R],\n    labels = [\"S\" \"I\" \"R\"],\n    xlab=\"Time\",\n    ylab=\"Number\")"
      ],
      "metadata": {},
      "execution_count": null
    },
    {
      "cell_type": "markdown",
      "source": [
        "## Benchmarking"
      ],
      "metadata": {}
    },
    {
      "outputs": [],
      "cell_type": "code",
      "source": [
        "@benchmark begin\n    des_model = MakeSIRModel(u0,p)\n    activate(des_model)\n    sir_run(des_model,tmax)\nend"
      ],
      "metadata": {},
      "execution_count": null
    }
  ],
  "nbformat_minor": 2,
  "metadata": {
    "language_info": {
      "file_extension": ".jl",
      "mimetype": "application/julia",
      "name": "julia",
      "version": "1.11.1"
    },
    "kernelspec": {
      "name": "julia-1.11",
      "display_name": "Julia 1.11.1",
      "language": "julia"
    }
  },
  "nbformat": 4
}
