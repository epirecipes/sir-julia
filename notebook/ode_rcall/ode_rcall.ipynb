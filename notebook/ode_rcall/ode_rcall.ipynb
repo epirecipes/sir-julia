{
  "cells": [
    {
      "cell_type": "markdown",
      "source": [
        "# Ordinary differential equation model with the vector field defined in R\nSimon Frost (@sdwfrost), 2024-06-03\n\n## Introduction\n\nWhile Julia is a high-level language, it is possible to define the vector field for an ordinary differential equation (ODE) in another language and call it from Julia. This can be useful if the vector field is already defined in R, for example, in another codebase. We use the `RCall` library to interface Julia with R.\n\n## Libraries"
      ],
      "metadata": {}
    },
    {
      "outputs": [],
      "cell_type": "code",
      "source": [
        "using OrdinaryDiffEq\nusing RCall\nusing Plots\nusing BenchmarkTools"
      ],
      "metadata": {},
      "execution_count": null
    },
    {
      "cell_type": "markdown",
      "source": [
        "## Transitions\n\nWe define the vector field in R using an out-of-place definition; R passes arguments by value rather than by reference, so this approach is necessary."
      ],
      "metadata": {}
    },
    {
      "outputs": [],
      "cell_type": "code",
      "source": [
        "R\"\"\"\nsir_ode_op_r <- function(u,p,t){\n    S <- u[1]\n    I <- u[2]\n    R <- u[3]\n    N <- S+I+R\n    beta <- p[1]\n    cee <- p[2]\n    gamma <- p[3]\n    dS <- -beta*cee*I/N*S\n    dI <- beta*cee*I/N*S - gamma*I\n    dR <- gamma*I\n    return(c(dS,dI,dR))\n}\n\"\"\";"
      ],
      "metadata": {},
      "execution_count": null
    },
    {
      "cell_type": "markdown",
      "source": [
        "We can then wrap the R function in a Julia function, converting the output to an `Array`."
      ],
      "metadata": {}
    },
    {
      "outputs": [],
      "cell_type": "code",
      "source": [
        "function sir_ode_op_jl(u,p,t)\n    robj = rcall(:sir_ode_op_r, u, p, t)\n    return convert(Array,robj)\nend;"
      ],
      "metadata": {},
      "execution_count": null
    },
    {
      "cell_type": "markdown",
      "source": [
        "We can then proceed to solve the ODE using the `sir_ode_op_jl` function as we would if the vector field were defined in Julia."
      ],
      "metadata": {}
    },
    {
      "outputs": [],
      "cell_type": "code",
      "source": [
        "δt = 0.1\ntmax = 40.0\ntspan = (0.0,tmax);\nu0 = [990.0,10.0,0.0] # S,I,R\np = [0.05,10.0,0.25]; # β,c,γ"
      ],
      "metadata": {},
      "execution_count": null
    },
    {
      "cell_type": "markdown",
      "source": [
        "To ensure that the out-of-place version works, we specify `ODEProblem{false}`."
      ],
      "metadata": {}
    },
    {
      "outputs": [],
      "cell_type": "code",
      "source": [
        "prob_ode_op = ODEProblem{false}(sir_ode_op_jl, u0, tspan, p)\nsol_ode_op = solve(prob_ode_op, Tsit5(), dt = δt)\nplot(sol_ode_op, labels=[\"S\" \"I\" \"R\"], lw = 2, xlabel = \"Time\", ylabel = \"Number\")"
      ],
      "metadata": {},
      "execution_count": null
    },
    {
      "cell_type": "markdown",
      "source": [
        "## Benchmarking"
      ],
      "metadata": {}
    },
    {
      "outputs": [],
      "cell_type": "code",
      "source": [
        "@benchmark solve(prob_ode_op, Tsit5(), dt = δt)"
      ],
      "metadata": {},
      "execution_count": null
    },
    {
      "cell_type": "markdown",
      "source": [
        "### Julia out-of-place version\n\nWe can compare the performance of the R-based ODE with the Julia-based ODE."
      ],
      "metadata": {}
    },
    {
      "outputs": [],
      "cell_type": "code",
      "source": [
        "function sir_ode_op_julia(u,p,t)\n    (S,I,R) = u\n    (β,c,γ) = p\n    N = S+I+R\n    dS = -β*c*I/N*S\n    dI = β*c*I/N*S - γ*I\n    dR = γ*I\n    [dS,dI,dR]\nend\nprob_ode_julia = ODEProblem(sir_ode_op_julia, u0, tspan, p)\nsol_ode_julia = solve(prob_ode_julia, Tsit5(), dt = δt)\n@benchmark solve(prob_ode_julia, Tsit5(), dt = δt)"
      ],
      "metadata": {},
      "execution_count": null
    },
    {
      "cell_type": "markdown",
      "source": [
        "On my machine, the Julia code runs 20 times faster than the R code; this reflects both the slower R code plus the overhead of the foreign function calls.\n\nAt the time of writing, `modelingtoolkitize` does not work with R functions, unlike the Python version of this notebook."
      ],
      "metadata": {}
    }
  ],
  "nbformat_minor": 2,
  "metadata": {
    "language_info": {
      "file_extension": ".jl",
      "mimetype": "application/julia",
      "name": "julia",
      "version": "1.9.0"
    },
    "kernelspec": {
      "name": "julia-1.9",
      "display_name": "Julia 1.9.0",
      "language": "julia"
    }
  },
  "nbformat": 4
}
