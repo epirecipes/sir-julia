{
  "cells": [
    {
      "cell_type": "markdown",
      "source": [
        "# Optimal control of an SIR epidemic with a non-pharmaceutical intervention using Optimization.jl\nSimon Frost (@sdwfrost), 2023-03-03\n\n## Introduction\n\nThis example considers the optimal control of an SIR epidemic through an intervention which reduces the infection rate, according to the following set of equations. `S` is the number of susceptible individuals, `I` is the number of infected individuals, and `C` is the total number of cases. The infection rate is reduced according to a policy `υ(t)`. The optimal control problem is specified as the policy that minimizes the total number of cases (i.e. the final size) under the constraints (a) that `υ` cannot exceed a maximum value and (b) there is a cost, measured as the integral of `υ` over time, which cannot exceed a certain level.\n\n$$\n\\begin{align*}\n\\dfrac{\\mathrm dS}{\\mathrm dt} &= -\\beta (1 - \\upsilon(t)) S I, \\\\\n\\dfrac{\\mathrm dI}{\\mathrm dt} &= \\beta (1 - \\upsilon(t)) S I - \\gamma I,\\\\ \n\\dfrac{\\mathrm dC}{\\mathrm dt} &= \\beta (1 - \\upsilon(t)) S I\\\\\n\\end{align*}\n$$\n\nThe policy, `υ(t)` is defined over a continuous domain (time). However, [Britton and Leskela (2022)](https://arxiv.org/abs/2202.07780) have shown that the optimal policy for the above model is one with a single lockdown at the maximum level for `υ`, which is sustained until the cost has been reached, as in the lockdown example [here](https://github.com/epirecipes/sir-julia/blob/master/markdown/ode_lockdown/ode_lockdown.md) and studied by [Bliman and Duprez (2021)](https://doi.org/10.1016/j.jtbi.2020.110557). Hence, for a given maximum intervention and total cost, we only need to optimize the time at which the lockdown takes place.\n\n## Packages"
      ],
      "metadata": {}
    },
    {
      "outputs": [],
      "cell_type": "code",
      "source": [
        "using OrdinaryDiffEq\nusing DiffEqCallbacks\nusing Integrals\nusing Optimization\nusing OptimizationOptimJL\nusing Plots;"
      ],
      "metadata": {},
      "execution_count": null
    },
    {
      "cell_type": "markdown",
      "source": [
        "## Transitions\n\nWe treat the policy `υ` as a fixed parameter, which we will vary over the course of the simulation using callbacks."
      ],
      "metadata": {}
    },
    {
      "outputs": [],
      "cell_type": "code",
      "source": [
        "function sir_ode!(du,u,p,t)\n    (S, I, C) = u\n    (β, γ, υ) = p\n    @inbounds begin\n        du[1] = -β*(1-υ)*S*I\n        du[2] = β*(1-υ)*S*I - γ*I\n        du[3] = β*(1-υ)*S*I\n    end\n    nothing\nend;"
      ],
      "metadata": {},
      "execution_count": null
    },
    {
      "cell_type": "markdown",
      "source": [
        "## Utility functions\n\nWe define a function `simulate` that uses callbacks to set the parameter `υ>0` during the period (t₁, t₂], and returns an `ODESolution`."
      ],
      "metadata": {}
    },
    {
      "outputs": [],
      "cell_type": "code",
      "source": [
        "function simulate(p, u0, t₁, dur, ss, alg)\n    t₂ = t₁ + dur\n    lockdown_times = [t₁, t₂]\n    β, γ, υ = p\n    function affect!(integrator)\n        if integrator.t < lockdown_times[2]\n            integrator.p[3] = υ\n        else\n            integrator.p[3] = 0.0\n        end\n    end\n    cb = PresetTimeCallback(lockdown_times, affect!)\n    tspan = (0.0, t₂+ss)\n    # Start with υ=0   \n    prob = ODEProblem(sir_ode!, u0, tspan, [β, γ, 0.0])\n    sol = solve(prob, alg, callback = cb)\n    return sol\nend;"
      ],
      "metadata": {},
      "execution_count": null
    },
    {
      "cell_type": "markdown",
      "source": [
        "We define a function to compute the final size; this is calculated by setting a time parameter `ss` sufficiently long that the system has reached equilibrium at `t=t₁+dur+ss`."
      ],
      "metadata": {}
    },
    {
      "outputs": [],
      "cell_type": "code",
      "source": [
        "function final_size(p, u0, t₁, dur, ss, alg)\n    sol = simulate(p, u0, t₁, dur, ss, alg)\n    return sol[end][3]\nend;"
      ],
      "metadata": {},
      "execution_count": null
    },
    {
      "cell_type": "markdown",
      "source": [
        "## Initial conditions\n\nThe initial conditions (for `S`, `I`, and `C`) affect the optimal intervention time."
      ],
      "metadata": {}
    },
    {
      "outputs": [],
      "cell_type": "code",
      "source": [
        "u0 = [0.99, 0.01, 0.0];"
      ],
      "metadata": {},
      "execution_count": null
    },
    {
      "cell_type": "markdown",
      "source": [
        "## Parameter values\n\nWe set the duration of the intervention, `dur`, as well as the infectivity parameter, `β`, the recovery rate, `γ`, and the intervention level, `υ`."
      ],
      "metadata": {}
    },
    {
      "outputs": [],
      "cell_type": "code",
      "source": [
        "dur = 20.0\np = [0.5, 0.25, 0.5]; # β, γ, υ"
      ],
      "metadata": {},
      "execution_count": null
    },
    {
      "cell_type": "markdown",
      "source": [
        "## Time domain\n\nWe define a constant, `ss` to run the model after the intervention period in order to calculate the final size, and also make a fine grid of timepoints, `ts`."
      ],
      "metadata": {}
    },
    {
      "outputs": [],
      "cell_type": "code",
      "source": [
        "ss = 100.0\nts = collect(0.0:0.1:100.0);"
      ],
      "metadata": {},
      "execution_count": null
    },
    {
      "cell_type": "markdown",
      "source": [
        "## Solver settings\n\nWe choose a solver to use for the model."
      ],
      "metadata": {}
    },
    {
      "outputs": [],
      "cell_type": "code",
      "source": [
        "alg = Tsit5();"
      ],
      "metadata": {},
      "execution_count": null
    },
    {
      "cell_type": "markdown",
      "source": [
        "## Running the model without intervention\n\nTo run the model without an intervention, we set `υ=0` and solve."
      ],
      "metadata": {}
    },
    {
      "outputs": [],
      "cell_type": "code",
      "source": [
        "p1 = copy(p)\np1[3] = 0.0\ntf = 1000\nprob1 = ODEProblem(sir_ode!, u0, (0.0, tf), p1)\nsol1 = solve(prob1, alg);"
      ],
      "metadata": {},
      "execution_count": null
    },
    {
      "cell_type": "markdown",
      "source": [
        "The final size without intervention is calculated numerically as 79%."
      ],
      "metadata": {}
    },
    {
      "outputs": [],
      "cell_type": "code",
      "source": [
        "sol1[end][3]"
      ],
      "metadata": {},
      "execution_count": null
    },
    {
      "outputs": [],
      "cell_type": "code",
      "source": [
        "plot(sol1,\n     xlim=(0, ss),\n     labels=[\"S\" \"I\" \"C\"],\n     xlabel=\"Time\",\n     ylabel=\"Number\")"
      ],
      "metadata": {},
      "execution_count": null
    },
    {
      "cell_type": "markdown",
      "source": [
        "We will also identify the peak of infection using the model, which we will use later during plotting to compare with the optimal time of intervention."
      ],
      "metadata": {}
    },
    {
      "outputs": [],
      "cell_type": "code",
      "source": [
        "pk(u,p) = - sol1(u[1])[2]\npkprob = OptimizationProblem(pk, [20.0])\npksol = solve(pkprob, NelderMead());"
      ],
      "metadata": {},
      "execution_count": null
    },
    {
      "cell_type": "markdown",
      "source": [
        "## Running the model with intervention\n\nThe following demonstrates the impact of an intervention when initiated at the peak of infected cases."
      ],
      "metadata": {}
    },
    {
      "outputs": [],
      "cell_type": "code",
      "source": [
        "t₁ = pksol[1]\nsol2 = simulate(p, u0, t₁, dur, ss, alg);"
      ],
      "metadata": {},
      "execution_count": null
    },
    {
      "cell_type": "markdown",
      "source": [
        "With the above parameter values, the final size is about 63%."
      ],
      "metadata": {}
    },
    {
      "outputs": [],
      "cell_type": "code",
      "source": [
        "sol2[end][3]"
      ],
      "metadata": {},
      "execution_count": null
    },
    {
      "outputs": [],
      "cell_type": "code",
      "source": [
        "plot(sol2, xlim=(0, 100.0))"
      ],
      "metadata": {},
      "execution_count": null
    },
    {
      "cell_type": "markdown",
      "source": [
        "## Optimization\n\nTo optimize the time of intervention, `t₁`, we define a function that takes a state and a parameter vector (in this case, empty) that returns the final size for a given value of `t₁`."
      ],
      "metadata": {}
    },
    {
      "outputs": [],
      "cell_type": "code",
      "source": [
        "fs(u, p_) = final_size(p, u0, u[1], dur, ss, alg);"
      ],
      "metadata": {},
      "execution_count": null
    },
    {
      "cell_type": "markdown",
      "source": [
        "We now define an `OptimizationProblem`, and provide an initial guess for `t₁`."
      ],
      "metadata": {}
    },
    {
      "outputs": [],
      "cell_type": "code",
      "source": [
        "fsprob = OptimizationProblem(fs, [t₁])\nfssol = solve(fsprob, NelderMead())\nt₁ = fssol[1]"
      ],
      "metadata": {},
      "execution_count": null
    },
    {
      "cell_type": "markdown",
      "source": [
        "The final size with the intervention for this parameter set is 59.8%."
      ],
      "metadata": {}
    },
    {
      "outputs": [],
      "cell_type": "code",
      "source": [
        "fs(fssol,[])"
      ],
      "metadata": {},
      "execution_count": null
    },
    {
      "outputs": [],
      "cell_type": "code",
      "source": [
        "final_sizes = [fs([x], []) for x in ts]\nplot(ts,\n     final_sizes,\n     xlabel=\"Time of intervention, t₁\",\n     ylabel=\"Final size\",\n     ylim=(0,1),\n     xlim=(0,40),\n     legend=false)\nvline!(fssol)"
      ],
      "metadata": {},
      "execution_count": null
    },
    {
      "cell_type": "markdown",
      "source": [
        "## Plotting\n\nFinally, we plot the optimal intervention."
      ],
      "metadata": {}
    },
    {
      "outputs": [],
      "cell_type": "code",
      "source": [
        "υ = zeros(length(ts))\nt₂ = t₁ + dur\n[υ[i]=p[3] for i in 1:length(ts) if (ts[i] > t₁ && ts[i] <= t₂)]; # t ⋵ (t₁, t₂]"
      ],
      "metadata": {},
      "execution_count": null
    },
    {
      "outputs": [],
      "cell_type": "code",
      "source": [
        "t₁ = fssol[1]\nsol = simulate(p, u0, t₁, dur, ss, alg)\nplot(sol,\n     xlim=(0, ss),\n     labels=[\"S\" \"I\" \"C\"],\n     xlabel=\"Time\",\n     ylabel=\"Number\")\nplot!(ts, υ, label=\"υ\")"
      ],
      "metadata": {},
      "execution_count": null
    }
  ],
  "nbformat_minor": 2,
  "metadata": {
    "language_info": {
      "file_extension": ".jl",
      "mimetype": "application/julia",
      "name": "julia",
      "version": "1.8.5"
    },
    "kernelspec": {
      "name": "julia-1.8",
      "display_name": "Julia 1.8.5",
      "language": "julia"
    }
  },
  "nbformat": 4
}
