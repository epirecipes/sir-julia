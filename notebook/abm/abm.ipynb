{
  "cells": [
    {
      "cell_type": "markdown",
      "source": [
        "# Agent-based model using Agents.jl\nSimon Frost (@sdwfrost), 2020-04-27, updated 2024-12-06\n\n## Introduction\n\nThe agent-based model approach, implemented using [`Agents.jl`](https://github.com/JuliaDynamics/Agents.jl) taken here is:\n\n- Stochastic\n- Discrete in time (using `StandardABM`; there is also an `EventQueueABM` for discrete-event simulation in Agents.jl)\n- Discrete in state\n\n## Libraries"
      ],
      "metadata": {}
    },
    {
      "outputs": [],
      "cell_type": "code",
      "source": [
        "using Agents\nusing Random\nusing Distributions\nusing DrWatson: @dict\nusing Plots\nusing BenchmarkTools"
      ],
      "metadata": {},
      "execution_count": null
    },
    {
      "cell_type": "markdown",
      "source": [
        "## Utility functions\n\nIn order to have a discrete time-step simulation be as close to the continuous time version, we write a convenience function to turn a rate over time into a proportion that can be plugged in to a random binomial number generator."
      ],
      "metadata": {}
    },
    {
      "outputs": [],
      "cell_type": "code",
      "source": [
        "function rate_to_proportion(r::Float64,t ::Float64)\n    1 - exp(-r * t)\nend;"
      ],
      "metadata": {},
      "execution_count": null
    },
    {
      "cell_type": "markdown",
      "source": [
        "## Transitions\n\nFirst, we have to define our agent, which has a `status` (`:S`,`:I`, or `:R`). The standard SIR model is mass-action i.e. assumes that the population is well-mixed, and so we base our agent on `NoSpaceAgent` (which also has a member `id`."
      ],
      "metadata": {}
    },
    {
      "outputs": [],
      "cell_type": "code",
      "source": [
        "@agent struct Person(NoSpaceAgent)\n    status::Symbol\nend;"
      ],
      "metadata": {},
      "execution_count": null
    },
    {
      "cell_type": "markdown",
      "source": [
        "The following function applies a series of functions to each agent."
      ],
      "metadata": {}
    },
    {
      "outputs": [],
      "cell_type": "code",
      "source": [
        "function agent_step!(agent, model)\n    transmit!(agent, model)\n    recover!(agent, model)\nend;"
      ],
      "metadata": {},
      "execution_count": null
    },
    {
      "cell_type": "markdown",
      "source": [
        "This is the transmission function; note that it operates on susceptibles making contact, rather than being focused on infected. This is an inefficient way of doing things, but shows the parallels between the different implementations. Note that the model properties, such as the contact rate `c` and the transmission probability `β`, are accessed via `.`."
      ],
      "metadata": {}
    },
    {
      "outputs": [],
      "cell_type": "code",
      "source": [
        "function transmit!(agent, model)\n    # If I'm not susceptible, I return\n    agent.status != :S && return\n    ncontacts = rand(Poisson(model.c))\n    for i in 1:ncontacts\n        # Choose random individual\n        alter = random_agent(model)\n        if alter.status == :I && (rand() ≤ model.β)\n            # An infection occurs\n            agent.status = :I\n            break\n        end\n    end\nend;"
      ],
      "metadata": {},
      "execution_count": null
    },
    {
      "cell_type": "markdown",
      "source": [
        "This is the recovery function."
      ],
      "metadata": {}
    },
    {
      "outputs": [],
      "cell_type": "code",
      "source": [
        "function recover!(agent, model)\n    agent.status != :I && return\n    if rand() ≤ model.γ\n            agent.status = :R\n    end\nend;"
      ],
      "metadata": {},
      "execution_count": null
    },
    {
      "cell_type": "markdown",
      "source": [
        "We need some reporting functions."
      ],
      "metadata": {}
    },
    {
      "outputs": [],
      "cell_type": "code",
      "source": [
        "susceptible(x) = count(i == :S for i in x)\ninfected(x) = count(i == :I for i in x)\nrecovered(x) = count(i == :R for i in x);"
      ],
      "metadata": {},
      "execution_count": null
    },
    {
      "cell_type": "markdown",
      "source": [
        "This utility function sets up the model, by setting parameter fields and adding agents to the model. The constructor to `StandardABM` here takes the agent, followed by the `agent_step!` function, the model properties (passed as a `Dict`, and a random number generator. Other more complex models might also take a `model_step!` function."
      ],
      "metadata": {}
    },
    {
      "outputs": [],
      "cell_type": "code",
      "source": [
        "function init_model(β::Float64, c::Float64, γ::Float64, N::Int64, I0::Int64, rng::AbstractRNG=Random.GLOBAL_RNG)\n    properties = @dict(β,c,γ)\n    model = StandardABM(Person; agent_step!, properties, rng)\n    for i in 1:N\n        if i <= I0\n            s = :I\n        else\n            s = :S\n        end\n        p = Person(;id=i,status=s)\n        p = add_agent!(p,model)\n    end\n    return model\nend;"
      ],
      "metadata": {},
      "execution_count": null
    },
    {
      "cell_type": "markdown",
      "source": [
        "## Time domain"
      ],
      "metadata": {}
    },
    {
      "outputs": [],
      "cell_type": "code",
      "source": [
        "δt = 0.1\nnsteps = 400\ntf = nsteps * δt\nt = 0:δt:tf;"
      ],
      "metadata": {},
      "execution_count": null
    },
    {
      "cell_type": "markdown",
      "source": [
        "## Parameter values"
      ],
      "metadata": {}
    },
    {
      "outputs": [],
      "cell_type": "code",
      "source": [
        "β = 0.05\nc = 10.0 * δt\nγ = rate_to_proportion(0.25, δt);"
      ],
      "metadata": {},
      "execution_count": null
    },
    {
      "cell_type": "markdown",
      "source": [
        "## Initial conditions"
      ],
      "metadata": {}
    },
    {
      "outputs": [],
      "cell_type": "code",
      "source": [
        "N = 1000\nI0 = 10;"
      ],
      "metadata": {},
      "execution_count": null
    },
    {
      "cell_type": "markdown",
      "source": [
        "## Random number seed"
      ],
      "metadata": {}
    },
    {
      "outputs": [],
      "cell_type": "code",
      "source": [
        "seed = 1234\nrng = Random.Xoshiro(seed);"
      ],
      "metadata": {},
      "execution_count": null
    },
    {
      "cell_type": "markdown",
      "source": [
        "## Running the model"
      ],
      "metadata": {}
    },
    {
      "outputs": [],
      "cell_type": "code",
      "source": [
        "abm_model = init_model(β, c, γ, N, I0, rng);"
      ],
      "metadata": {},
      "execution_count": null
    },
    {
      "outputs": [],
      "cell_type": "code",
      "source": [
        "to_collect = [(:status, f) for f in (susceptible, infected, recovered)]\nabm_data, _ = run!(abm_model, nsteps; adata = to_collect);"
      ],
      "metadata": {},
      "execution_count": null
    },
    {
      "cell_type": "markdown",
      "source": [
        "## Post-processing"
      ],
      "metadata": {}
    },
    {
      "outputs": [],
      "cell_type": "code",
      "source": [
        "abm_data[!, :t] = t;"
      ],
      "metadata": {},
      "execution_count": null
    },
    {
      "cell_type": "markdown",
      "source": [
        "## Plotting"
      ],
      "metadata": {}
    },
    {
      "outputs": [],
      "cell_type": "code",
      "source": [
        "plot(t, abm_data[:,2], label=\"S\", xlab=\"Time\", ylabel=\"Number\")\nplot!(t, abm_data[:,3], label=\"I\")\nplot!(t, abm_data[:,4], label=\"R\")"
      ],
      "metadata": {},
      "execution_count": null
    },
    {
      "cell_type": "markdown",
      "source": [
        "## Benchmarking"
      ],
      "metadata": {}
    },
    {
      "outputs": [],
      "cell_type": "code",
      "source": [
        "@benchmark begin\nabm_model = init_model(β, c, γ, N, I0, rng)\nabm_data, _ = run!(abm_model, nsteps; adata = to_collect)\nend"
      ],
      "metadata": {},
      "execution_count": null
    }
  ],
  "nbformat_minor": 2,
  "metadata": {
    "language_info": {
      "file_extension": ".jl",
      "mimetype": "application/julia",
      "name": "julia",
      "version": "1.11.1"
    },
    "kernelspec": {
      "name": "julia-1.11",
      "display_name": "Julia 1.11.1",
      "language": "julia"
    }
  },
  "nbformat": 4
}
