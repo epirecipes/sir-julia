{
  "cells": [
    {
      "cell_type": "markdown",
      "source": [
        "# Ordinary differential equation model with time-varying parameters with variational inference using Turing.jl\nSimon Frost (@sdwfrost), 2023-04-06\n\n## Introduction\n\nIn this notebook, we try to infer the parameter values from a simulated dataset using [Turing.jl](https://turing.ml), when one of the parameters, the infectivity, is changing over time. We will use the example of a decrease in infectivity in the [lockdown example](https://github.com/epirecipes/sir-julia/blob/master/markdown/ode_lockdown/ode_lockdown.md) to simulate data, then fit a piecewise function for the infectivity using variational inference and using Hamiltonian Monte Carlo. The latter is computationally intensive, and multiple chains are run on multiple threads, requiring Julia to be launched with the `-t/--threads` option set to at least 4.\n\n## Libraries"
      ],
      "metadata": {}
    },
    {
      "outputs": [],
      "cell_type": "code",
      "source": [
        "using OrdinaryDiffEq\nusing DiffEqCallbacks\nusing DiffEqSensitivity\nusing Random\nusing Distributions\nusing DataInterpolations\nusing DynamicHMC\nusing Turing\nusing Optim\nusing LinearAlgebra\nusing DataFrames\nusing StatsBase\nusing StatsPlots"
      ],
      "metadata": {},
      "execution_count": null
    },
    {
      "cell_type": "markdown",
      "source": [
        "## The model\n\nThe following is a standard SIR model, where we keep track of the cumulative number of infected individuals, `C`. The population size, `N`, is passed as a parameter so we can scale the infection rate, allowing the parameters `β` and `γ` to be of the same order of magnitude; this will help in the parameter estimation."
      ],
      "metadata": {}
    },
    {
      "outputs": [],
      "cell_type": "code",
      "source": [
        "function sir_ode!(du,u,p,t)\n    (S, I, C) = u\n    (β, γ, N) = p\n    infection = β*S*I/N\n    recovery = γ*I\n    @inbounds begin\n        du[1] = -infection\n        du[2] = infection - recovery\n        du[3] = infection\n    end\n    nothing\nend;"
      ],
      "metadata": {},
      "execution_count": null
    },
    {
      "cell_type": "markdown",
      "source": [
        "To change the infection rate, we will use a `PresetTimeCallback`. Here, we reduce β to 0.1 during the period [10.0, 20.0] and change it back to 0.5 afterwards."
      ],
      "metadata": {}
    },
    {
      "outputs": [],
      "cell_type": "code",
      "source": [
        "lockdown_times = [10.0, 20.0]\ncondition(u,t,integrator) = t ∈ lockdown_times\nfunction affect!(integrator)\n    if integrator.t < lockdown_times[2]\n        integrator.p[1] = 0.1\n    else\n        integrator.p[1] = 0.5\n    end\nend\ncb = PresetTimeCallback(lockdown_times, affect!);"
      ],
      "metadata": {},
      "execution_count": null
    },
    {
      "cell_type": "markdown",
      "source": [
        "We will simulate the epidemic over 40 time units, observing the number of cases per day."
      ],
      "metadata": {}
    },
    {
      "outputs": [],
      "cell_type": "code",
      "source": [
        "tmax = 40.0\ntspan = (0.0, tmax)\nobstimes = 1.0:1.0:tmax\nu0 = [990.0, 10.0, 0.0] # S,I,C\nN = 1000.0 # Population size\np = [0.5, 0.25, N]; # β, γ, N"
      ],
      "metadata": {},
      "execution_count": null
    },
    {
      "cell_type": "markdown",
      "source": [
        "Here is a simulation of the model, using the callback `cb` to change the infectivity."
      ],
      "metadata": {}
    },
    {
      "outputs": [],
      "cell_type": "code",
      "source": [
        "prob_ode = ODEProblem(sir_ode!, u0, tspan, p)\nsol_ode = solve(prob_ode,\n            Tsit5(),\n            callback = cb,\n            saveat = 1.0);"
      ],
      "metadata": {},
      "execution_count": null
    },
    {
      "outputs": [],
      "cell_type": "code",
      "source": [
        "plot(sol_ode,\n    xlabel=\"Time\",\n    ylabel=\"Number\",\n    labels=[\"S\" \"I\" \"C\"])"
      ],
      "metadata": {},
      "execution_count": null
    },
    {
      "cell_type": "markdown",
      "source": [
        "## Generating data\n\nThe data are assumed to be of daily new cases, which we can obtain from the cumulative number, `C`."
      ],
      "metadata": {}
    },
    {
      "outputs": [],
      "cell_type": "code",
      "source": [
        "C = [0; Array(sol_ode(obstimes))[3,:]] # Cumulative cases\nX = C[2:end] - C[1:(end-1)];"
      ],
      "metadata": {},
      "execution_count": null
    },
    {
      "cell_type": "markdown",
      "source": [
        "We generate some random Poisson noise for the measurement error to generate the observations, `Y`."
      ],
      "metadata": {}
    },
    {
      "outputs": [],
      "cell_type": "code",
      "source": [
        "Random.seed!(1234)\nY = rand.(Poisson.(X));"
      ],
      "metadata": {},
      "execution_count": null
    },
    {
      "outputs": [],
      "cell_type": "code",
      "source": [
        "bar(obstimes, Y, legend=false)\nplot!(obstimes, X, legend=false)"
      ],
      "metadata": {},
      "execution_count": null
    },
    {
      "cell_type": "markdown",
      "source": [
        "## Fitting time-varying β\n\nWe first define a function that describes how β changes over time. In the below, we assume knots every 10 time units, and use a `ConstantInterpolation` between them. This can capture sudden changes in β (as in the simulated data)."
      ],
      "metadata": {}
    },
    {
      "outputs": [],
      "cell_type": "code",
      "source": [
        "true_beta = [0.5, 0.1, 0.5, 0.5, 0.5]\nknots = collect(0.0:10.0:tmax)\nK = length(knots)\nfunction betat(p_, t)\n    beta = ConstantInterpolation(p_, knots)\n    return beta(t)\nend;"
      ],
      "metadata": {},
      "execution_count": null
    },
    {
      "cell_type": "markdown",
      "source": [
        "We now write a new model where we use the original parameters, `p`, but the function takes a vector of parameters `p_` which in this example, represent `β` at `t=0,10,20,30,40` (see above)."
      ],
      "metadata": {}
    },
    {
      "outputs": [],
      "cell_type": "code",
      "source": [
        "function sir_tvp_ode!(du, u, p_, t)\n    (S, I, C) = u\n    (_, γ, N) = p\n    βt = betat(p_, t)\n    infection = βt*S*I/N\n    recovery = γ*I\n    @inbounds begin\n        du[1] = -infection\n        du[2] = infection - recovery\n        du[3] = infection\n    end\n    nothing\nend;"
      ],
      "metadata": {},
      "execution_count": null
    },
    {
      "cell_type": "markdown",
      "source": [
        "## Model specification using Turing\n\nTo fit the model, we use a Bayesian approach using Turing.jl. To save allocations, we first make an `ODEProblem` for the model with the time-varying `β`."
      ],
      "metadata": {}
    },
    {
      "outputs": [],
      "cell_type": "code",
      "source": [
        "prob_tvp = ODEProblem(sir_tvp_ode!,\n          u0,\n          tspan,\n          true_beta);"
      ],
      "metadata": {},
      "execution_count": null
    },
    {
      "cell_type": "markdown",
      "source": [
        "As we have a small number of infectivity parameters, and we are trying to capture potentially sudden changes, we assume independent uniform distributions for `β` at the knots. The model function accepts a vector of data, `y`, and the number of knots, `K`. One complexity in using piecewise constant `β` is that there is no information on the value at the last knot, so we only have `K-1` rather than `K` values for `β`, with the last value of `β` repeated, as we need to have knots covering the entire time domain."
      ],
      "metadata": {}
    },
    {
      "outputs": [],
      "cell_type": "code",
      "source": [
        "@model bayes_sir_tvp(y, K) = begin\n  # Set prior for initial infected\n  i₀  ~ Uniform(0.0, 0.1)\n  I = i₀*N\n  u0 = [N-I, I, 0.0]\n  # Set priors for betas\n  ## Note how we clone the endpoint of βt\n  βt = Vector{Float64}(undef, K)\n  for i in 1:K-1\n    βt[i] ~ Uniform(0.0, 1.0)\n  end\n  βt[K] = βt[K-1]\n  # Run model\n  ## Remake with new initial conditions and parameter values\n  prob = remake(prob_tvp,\n          u0=u0,\n          p=βt)\n  ## Solve\n  sol = solve(prob,\n              Tsit5(),\n              saveat = 1.0)\n  ## Calculate cases per day, X\n  sol_C = [0; Array(sol(obstimes))[3,:]]\n  sol_X = abs.(sol_C[2:end] - sol_C[1:(end-1)])\n  # Assume Poisson distributed counts\n  ## Calculate number of timepoints\n  l = length(y)\n  for i in 1:l\n    y[i] ~ Poisson(sol_X[i])\n  end\nend;"
      ],
      "metadata": {},
      "execution_count": null
    },
    {
      "cell_type": "markdown",
      "source": [
        "### Fitting the model using ADVI\n\nThis model can be fitted very quickly using automatic differential variational inference (`ADVI`) in Turing."
      ],
      "metadata": {}
    },
    {
      "outputs": [],
      "cell_type": "code",
      "source": [
        "advi = ADVI(10, 1000) # 10 samples, 1000 gradient iterations\n@time ode_advi = vi(bayes_sir_tvp(Y, K), advi);"
      ],
      "metadata": {},
      "execution_count": null
    },
    {
      "cell_type": "markdown",
      "source": [
        "We can now draw multiple samples from the (approximate) posterior using `rand`. The first parameter will be the initial fraction infected, and the remaining parameters are the infectivity parameters."
      ],
      "metadata": {}
    },
    {
      "outputs": [],
      "cell_type": "code",
      "source": [
        "ode_advi_postsamples = rand(ode_advi, 1000);"
      ],
      "metadata": {},
      "execution_count": null
    },
    {
      "cell_type": "markdown",
      "source": [
        "We can then compute the mean and the credible intervals."
      ],
      "metadata": {}
    },
    {
      "outputs": [],
      "cell_type": "code",
      "source": [
        "beta_idx = [collect(2:K);K]\nbetas = [mean(ode_advi_postsamples[i,:]) for i in beta_idx]\nbetas_lci = [quantile(ode_advi_postsamples[i,:], 0.025) for i in beta_idx]\nbetas_uci = [quantile(ode_advi_postsamples[i,:], 0.975) for i in beta_idx];"
      ],
      "metadata": {},
      "execution_count": null
    },
    {
      "cell_type": "markdown",
      "source": [
        "This plot shows the estimated timecourse of `β` over time along with the true values."
      ],
      "metadata": {}
    },
    {
      "outputs": [],
      "cell_type": "code",
      "source": [
        "plot(obstimes,\n     betat(betas, obstimes),\n     xlabel = \"Time\",\n     ylabel = \"β\",\n     label=\"Estimated β\",\n     title=\"ADVI estimates\",\n     color=:blue)\nplot!(obstimes,\n     betat(betas_lci, obstimes),\n     alpha = 0.3,\n     fillrange = betat(betas_uci, obstimes),\n     fillalpha = 0.3,\n     color=:blue,\n     label=\"95% credible intervals\")\nplot!(obstimes,\n     betat(true_beta, obstimes),\n     color=:red,\n     label=\"True β\")"
      ],
      "metadata": {},
      "execution_count": null
    },
    {
      "cell_type": "markdown",
      "source": [
        "The following shows a histogram of the approximate posterior distribution of the fraction of initial infected individuals. Note that the estimate is higher than the true value. Consequently, the first estimate of `β` over `t=0:10` is significantly lower than the true value."
      ],
      "metadata": {}
    },
    {
      "outputs": [],
      "cell_type": "code",
      "source": [
        "histogram(ode_advi_postsamples[1,:],\n    xlabel=\"Fraction of initial infected\",\n    normed=true,\n    alpha=0.2,\n    color=:blue,\n    label=\"\",\n    title=\"HMC estimate\")\ndensity!(ode_advi_postsamples[1,:], color=:blue, label=\"\")\nvline!([0.01], color=:red, label=\"True value\")"
      ],
      "metadata": {},
      "execution_count": null
    },
    {
      "cell_type": "markdown",
      "source": [
        "### Sampling using Hamiltonian Monte Carlo\n\nTo sample from the full posterior distribution, we use Hamiltonian Monte Carlo. We set a short burnin of 1000 iterations, then run 4 chains for 50000 iterations each."
      ],
      "metadata": {}
    },
    {
      "outputs": [],
      "cell_type": "code",
      "source": [
        "burnin = 1000\nnchains = 4\nsamples = 50000;"
      ],
      "metadata": {},
      "execution_count": null
    },
    {
      "cell_type": "markdown",
      "source": [
        "We use multiple threads to sample multiple chains with [Hamiltonian Monte Carlo](https://en.wikipedia.org/wiki/Hamiltonian_Monte_Carlo). Some tuning of the step size and the number of steps is likely to be needed for other models."
      ],
      "metadata": {}
    },
    {
      "outputs": [],
      "cell_type": "code",
      "source": [
        "@time ode_hmc = sample(bayes_sir_tvp(Y, K),\n                  HMC(0.025, 10),\n                  MCMCThreads(),\n                  burnin+samples,\n                  nchains);"
      ],
      "metadata": {},
      "execution_count": null
    },
    {
      "cell_type": "markdown",
      "source": [
        "`describe` generates summary statistics and quantiles from the chains generated by `sample`. Here, we exclude the burnin period."
      ],
      "metadata": {}
    },
    {
      "outputs": [],
      "cell_type": "code",
      "source": [
        "ode_hmc_description = describe(ode_hmc[(burnin+1):end,:,:])\node_hmc_description[1]"
      ],
      "metadata": {},
      "execution_count": null
    },
    {
      "outputs": [],
      "cell_type": "code",
      "source": [
        "ode_hmc_description[2]"
      ],
      "metadata": {},
      "execution_count": null
    },
    {
      "cell_type": "markdown",
      "source": [
        "The default `plot` method gives parameter traces and posterior distributions for each of the parameters. Note that the HMC samples give a posterior estimate of the fraction of initial infected individuals closer to the true value; correspondingly, the estimate for the first `β` is closer to the true value as well. All the true values fall within the 95% credible intervals."
      ],
      "metadata": {}
    },
    {
      "outputs": [],
      "cell_type": "code",
      "source": [
        "plot(ode_hmc[(burnin+1):end,:,:])"
      ],
      "metadata": {},
      "execution_count": null
    },
    {
      "cell_type": "markdown",
      "source": [
        "The following shows the estimated and true trajectory of `β`."
      ],
      "metadata": {}
    },
    {
      "outputs": [],
      "cell_type": "code",
      "source": [
        "betas_hmc = ode_hmc_description[1][:,2][beta_idx]\nbetas_hmc_lci = ode_hmc_description[2][:,2][beta_idx]\nbetas_hmc_uci = ode_hmc_description[2][:,6][beta_idx];"
      ],
      "metadata": {},
      "execution_count": null
    },
    {
      "outputs": [],
      "cell_type": "code",
      "source": [
        "plot(obstimes,\n     betat(betas_hmc, obstimes),\n     xlabel = \"Time\",\n     ylabel = \"β\",\n     label=\"Estimated β\",\n     title=\"HMC estimates\",\n     color=:blue)\nplot!(obstimes,\n     betat(betas_hmc_lci, obstimes),\n     alpha = 0.3,\n     fillrange = betat(betas_hmc_uci, obstimes),\n     fillalpha = 0.3,\n     color=:blue,\n     label=\"95% credible intervals\")\nplot!(obstimes,\n     betat(true_beta, obstimes),\n     color=:red,\n     label=\"True β\")"
      ],
      "metadata": {},
      "execution_count": null
    },
    {
      "cell_type": "markdown",
      "source": [
        "This figure shows the posterior distribution of the fraction of initial infected individuals."
      ],
      "metadata": {}
    },
    {
      "outputs": [],
      "cell_type": "code",
      "source": [
        "histogram(ode_hmc[(burnin+1):end,1,1],\n    xlabel=\"Fraction of initial infected\",\n    normed=true,\n    alpha=0.2,\n    color=:blue,\n    label=\"\",\n    title=\"HMC estimate\")\ndensity!(ode_hmc[(burnin+1):end,1,1], color=:blue, label=\"\")\nvline!([0.01], color=:red, label=\"True value\")"
      ],
      "metadata": {},
      "execution_count": null
    }
  ],
  "nbformat_minor": 2,
  "metadata": {
    "language_info": {
      "file_extension": ".jl",
      "mimetype": "application/julia",
      "name": "julia",
      "version": "1.8.5"
    },
    "kernelspec": {
      "name": "julia-1.8",
      "display_name": "Julia 1.8.5",
      "language": "julia"
    }
  },
  "nbformat": 4
}
