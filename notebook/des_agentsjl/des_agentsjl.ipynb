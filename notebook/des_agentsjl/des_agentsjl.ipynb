{
  "cells": [
    {
      "cell_type": "markdown",
      "source": [
        "# Discrete event simulation using Agents.jl\nSimon Frost (@sdwfrost), 2024-12-06\n\n## Introduction\n\nThe discrete event simulation approach, implemented using [`Agents.jl`](https://github.com/JuliaDynamics/Agents.jl) taken here is:\n\n- Stochastic\n- Continuous in time (using `EventQueueABM`; there is also `StandardABM` for discrete-time simulation in Agents.jl)\n- Discrete in state\n\n## Libraries"
      ],
      "metadata": {}
    },
    {
      "outputs": [],
      "cell_type": "code",
      "source": [
        "using Agents\nusing Random\nusing Distributions\nusing DrWatson: @dict\nusing Plots\nusing BenchmarkTools"
      ],
      "metadata": {},
      "execution_count": null
    },
    {
      "cell_type": "markdown",
      "source": [
        "## Transitions\n\nFirst, we have to define our agent, which has a `status` (`:S`,`:I`, or `:R`). The standard SIR model is mass-action i.e. assumes that the population is well-mixed, and so we base our agent on `NoSpaceAgent` (which also has a member `id`."
      ],
      "metadata": {}
    },
    {
      "outputs": [],
      "cell_type": "code",
      "source": [
        "@agent struct Person(NoSpaceAgent)\n    status::Symbol\nend;"
      ],
      "metadata": {},
      "execution_count": null
    },
    {
      "cell_type": "markdown",
      "source": [
        "This is the transmission function; note that it operates on susceptibles making contact, rather than being focused on infected. This is an inefficient way of doing things, but shows the parallels between the different implementations. Note that the model properties, such as the contact rate `c` and the transmission probability `β`, are accessed via `.`."
      ],
      "metadata": {}
    },
    {
      "outputs": [],
      "cell_type": "code",
      "source": [
        "function transmit!(agent, model)\n    # Choose random individual\n    alter = random_agent(model)\n    if alter.status == :I && (rand() ≤ model.β)\n        # An infection occurs\n        agent.status = :I\n    end\nend;"
      ],
      "metadata": {},
      "execution_count": null
    },
    {
      "cell_type": "markdown",
      "source": [
        "This is the recovery function."
      ],
      "metadata": {}
    },
    {
      "outputs": [],
      "cell_type": "code",
      "source": [
        "function recover!(agent, model)\n    agent.status = :R\nend;"
      ],
      "metadata": {},
      "execution_count": null
    },
    {
      "cell_type": "markdown",
      "source": [
        "By default, Agents.jl will schedule events based on an exponential distribution, parameterized by the propensity function. For added flexibility, we define our own propensity functions for transmission and recovery."
      ],
      "metadata": {}
    },
    {
      "outputs": [],
      "cell_type": "code",
      "source": [
        "function transmit_propensity(agent, model)\n    if agent.status == :S\n        return model.c\n    else\n        return 0.0\n    end\nend"
      ],
      "metadata": {},
      "execution_count": null
    },
    {
      "outputs": [],
      "cell_type": "code",
      "source": [
        "function recovery_propensity(agent, model)\n    if agent.status == :I\n        return model.γ\n    else\n        return 0.0\n    end\nend;"
      ],
      "metadata": {},
      "execution_count": null
    },
    {
      "outputs": [],
      "cell_type": "code",
      "source": [
        "transmit_event = AgentEvent(action! = transmit!, propensity = transmit_propensity)\nrecovery_event = AgentEvent(action! = recover!, propensity = recovery_propensity);"
      ],
      "metadata": {},
      "execution_count": null
    },
    {
      "outputs": [],
      "cell_type": "code",
      "source": [
        "events = (transmit_event, recovery_event);"
      ],
      "metadata": {},
      "execution_count": null
    },
    {
      "cell_type": "markdown",
      "source": [
        "We need some reporting functions."
      ],
      "metadata": {}
    },
    {
      "outputs": [],
      "cell_type": "code",
      "source": [
        "susceptible(x) = count(i == :S for i in x)\ninfected(x) = count(i == :I for i in x)\nrecovered(x) = count(i == :R for i in x);"
      ],
      "metadata": {},
      "execution_count": null
    },
    {
      "cell_type": "markdown",
      "source": [
        "This utility function sets up the model, by setting parameter fields and adding agents to the model. The constructor to `StandardABM` here takes the agent, followed by the `agent_step!` function, the model properties (passed as a `Dict`, and a random number generator. Other more complex models might also take a `model_step!` function."
      ],
      "metadata": {}
    },
    {
      "outputs": [],
      "cell_type": "code",
      "source": [
        "function init_model(β::Float64, c::Float64, γ::Float64, N::Int64, I0::Int64, rng::AbstractRNG=Random.GLOBAL_RNG)\n    properties = @dict(β,c,γ)\n    model = EventQueueABM(Person, events; properties, rng)\n    for i in 1:N\n        if i <= I0\n            s = :I\n        else\n            s = :S\n        end\n        p = Person(;id=i,status=s)\n        p = add_agent!(p,model)\n    end\n    return model\nend;"
      ],
      "metadata": {},
      "execution_count": null
    },
    {
      "cell_type": "markdown",
      "source": [
        "## Time domain"
      ],
      "metadata": {}
    },
    {
      "outputs": [],
      "cell_type": "code",
      "source": [
        "tf = 40.0;"
      ],
      "metadata": {},
      "execution_count": null
    },
    {
      "cell_type": "markdown",
      "source": [
        "## Parameter values"
      ],
      "metadata": {}
    },
    {
      "outputs": [],
      "cell_type": "code",
      "source": [
        "β = 0.05\nc = 10.0\nγ = 0.25;"
      ],
      "metadata": {},
      "execution_count": null
    },
    {
      "cell_type": "markdown",
      "source": [
        "## Initial conditions"
      ],
      "metadata": {}
    },
    {
      "outputs": [],
      "cell_type": "code",
      "source": [
        "N = 1000\nI0 = 10;"
      ],
      "metadata": {},
      "execution_count": null
    },
    {
      "cell_type": "markdown",
      "source": [
        "## Random number seed"
      ],
      "metadata": {}
    },
    {
      "outputs": [],
      "cell_type": "code",
      "source": [
        "seed = 1234\nrng = Random.Xoshiro(seed);"
      ],
      "metadata": {},
      "execution_count": null
    },
    {
      "cell_type": "markdown",
      "source": [
        "## Running the model"
      ],
      "metadata": {}
    },
    {
      "outputs": [],
      "cell_type": "code",
      "source": [
        "abm_model = init_model(β, c, γ, N, I0, rng);"
      ],
      "metadata": {},
      "execution_count": null
    },
    {
      "outputs": [],
      "cell_type": "code",
      "source": [
        "to_collect = [(:status, f) for f in (susceptible, infected, recovered)]\nabm_data, _ = run!(abm_model, tf; adata = to_collect);"
      ],
      "metadata": {},
      "execution_count": null
    },
    {
      "cell_type": "markdown",
      "source": [
        "## Plotting"
      ],
      "metadata": {}
    },
    {
      "outputs": [],
      "cell_type": "code",
      "source": [
        "plot(abm_data[:,1], abm_data[:,2], label=\"S\", xlab=\"Time\", ylabel=\"Number\")\nplot!(abm_data[:,1], abm_data[:,3], label=\"I\")\nplot!(abm_data[:,1], abm_data[:,4], label=\"R\")"
      ],
      "metadata": {},
      "execution_count": null
    },
    {
      "cell_type": "markdown",
      "source": [
        "## Benchmarking"
      ],
      "metadata": {}
    },
    {
      "outputs": [],
      "cell_type": "code",
      "source": [
        "@benchmark begin\nabm_model = init_model(β, c, γ, N, I0, rng)\nabm_data, _ = run!(abm_model, tf; adata = to_collect)\nend"
      ],
      "metadata": {},
      "execution_count": null
    }
  ],
  "nbformat_minor": 2,
  "metadata": {
    "language_info": {
      "file_extension": ".jl",
      "mimetype": "application/julia",
      "name": "julia",
      "version": "1.11.1"
    },
    "kernelspec": {
      "name": "julia-1.11",
      "display_name": "Julia 1.11.1",
      "language": "julia"
    }
  },
  "nbformat": 4
}
