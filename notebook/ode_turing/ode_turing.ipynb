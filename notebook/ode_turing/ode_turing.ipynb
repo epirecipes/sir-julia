{
  "cells": [
    {
      "cell_type": "markdown",
      "source": [
        "# Ordinary differential equation model with inference using Turing.jl\nSimon Frost (@sdwfrost), 2020-05-27, updated 2024-06-15\n\n## Introduction\n\nIn this notebook, we try to infer the parameter values from a simulated dataset using [Turing.jl](https://turing.ml).\n\n## Libraries"
      ],
      "metadata": {}
    },
    {
      "outputs": [],
      "cell_type": "code",
      "source": [
        "using Pkg\nPkg.instantiate()"
      ],
      "metadata": {},
      "execution_count": null
    },
    {
      "outputs": [],
      "cell_type": "code",
      "source": [
        "using OrdinaryDiffEq\nusing SciMLSensitivity\nusing Random\nusing Distributions\nusing Turing\nusing DataFrames\nusing StatsPlots\nusing BenchmarkTools"
      ],
      "metadata": {},
      "execution_count": null
    },
    {
      "cell_type": "markdown",
      "source": [
        "## The model\n\nThe following is a standard SIR model, where we keep track of the cumulative number of infected individuals, `C`."
      ],
      "metadata": {}
    },
    {
      "outputs": [],
      "cell_type": "code",
      "source": [
        "function sir_ode!(du,u,p,t)\n    (S,I,R,C) = u\n    (β,c,γ) = p\n    N = S+I+R\n    infection = β*c*I/N*S\n    recovery = γ*I\n    @inbounds begin\n        du[1] = -infection\n        du[2] = infection - recovery\n        du[3] = recovery\n        du[4] = infection\n    end\n    nothing\nend;"
      ],
      "metadata": {},
      "execution_count": null
    },
    {
      "outputs": [],
      "cell_type": "code",
      "source": [
        "tmax = 40.0\ntspan = (0.0,tmax)\nobstimes = 1.0:1.0:tmax\nu0 = [990.0,10.0,0.0,0.0] # S,I.R,C\np = [0.05,10.0,0.25]; # β,c,γ"
      ],
      "metadata": {},
      "execution_count": null
    },
    {
      "outputs": [],
      "cell_type": "code",
      "source": [
        "prob_ode = ODEProblem(sir_ode!,u0,tspan,p);\nsol_ode = solve(prob_ode, Tsit5(), saveat = 1.0);"
      ],
      "metadata": {},
      "execution_count": null
    },
    {
      "cell_type": "markdown",
      "source": [
        "## Generating data\n\nThe data are assumed to be of daily new cases, which we can obtain from the cumulative number, `C`."
      ],
      "metadata": {}
    },
    {
      "outputs": [],
      "cell_type": "code",
      "source": [
        "C = Array(sol_ode)[4,:] # Cumulative cases\nX = C[2:end] - C[1:(end-1)];"
      ],
      "metadata": {},
      "execution_count": null
    },
    {
      "cell_type": "markdown",
      "source": [
        "We generate some random Poisson noise for the measurement error to generate the observations, `Y`."
      ],
      "metadata": {}
    },
    {
      "outputs": [],
      "cell_type": "code",
      "source": [
        "Random.seed!(1234)\nY = rand.(Poisson.(X));"
      ],
      "metadata": {},
      "execution_count": null
    },
    {
      "outputs": [],
      "cell_type": "code",
      "source": [
        "bar(obstimes,Y,legend=false)\nplot!(obstimes,X,legend=false)"
      ],
      "metadata": {},
      "execution_count": null
    },
    {
      "cell_type": "markdown",
      "source": [
        "## Model specification using Turing\n\nThis model estimates the initial proportion of the population that is infected, `i₀`, and the infection probability, `β`, assuming uniform priors on each, with the remaining parameters fixed."
      ],
      "metadata": {}
    },
    {
      "outputs": [],
      "cell_type": "code",
      "source": [
        "@model bayes_sir(y) = begin\n  # Calculate number of timepoints\n  l = length(y)\n  i₀  ~ Uniform(0.0,1.0)\n  β ~ Uniform(0.0,1.0)\n  I = i₀*1000.0\n  u0=[1000.0-I,I,0.0,0.0]\n  p=[β,10.0,0.25]\n  tspan = (0.0,float(l))\n  prob = ODEProblem(sir_ode!,\n          u0,\n          tspan,\n          p)\n  sol = solve(prob,\n              Tsit5(),\n              saveat = 1.0)\n  sol_C = Array(sol)[4,:] # Cumulative cases\n  sol_X = sol_C[2:end] - sol_C[1:(end-1)]\n  l = length(y)\n  for i in 1:l\n    y[i] ~ Poisson(abs(sol_X[i]))\n  end\nend;"
      ],
      "metadata": {},
      "execution_count": null
    },
    {
      "cell_type": "markdown",
      "source": [
        "### Fit using NUTS\n\nThe following fits the model using the No U-Turn Sampler."
      ],
      "metadata": {}
    },
    {
      "outputs": [],
      "cell_type": "code",
      "source": [
        "ode_nuts = sample(bayes_sir(Y),NUTS(0.65),10000);"
      ],
      "metadata": {},
      "execution_count": null
    },
    {
      "cell_type": "markdown",
      "source": [
        "The `describe` function displays some summary statistics of the output."
      ],
      "metadata": {}
    },
    {
      "outputs": [],
      "cell_type": "code",
      "source": [
        "describe(ode_nuts)"
      ],
      "metadata": {},
      "execution_count": null
    },
    {
      "outputs": [],
      "cell_type": "code",
      "source": [
        "plot(ode_nuts)"
      ],
      "metadata": {},
      "execution_count": null
    },
    {
      "cell_type": "markdown",
      "source": [
        "### Further plotting\n\nThe MCMC chains can be converted into a `DataFrame` for further plotting."
      ],
      "metadata": {}
    },
    {
      "outputs": [],
      "cell_type": "code",
      "source": [
        "posterior = DataFrame(ode_nuts);"
      ],
      "metadata": {},
      "execution_count": null
    },
    {
      "outputs": [],
      "cell_type": "code",
      "source": [
        "histogram2d(posterior[!,:β],posterior[!,:i₀],\n                bins=80,\n                xlabel=\"β\",\n                ylab=\"i₀\",\n                ylim=[0.006,0.016],\n                xlim=[0.045,0.055],\n                legend=false)\nplot!([0.05,0.05],[0.0,0.01])\nplot!([0.0,0.05],[0.01,0.01])"
      ],
      "metadata": {},
      "execution_count": null
    },
    {
      "cell_type": "markdown",
      "source": [
        "### Generate predictions\n\nThe following code generates predicted dynamics by sampling parameter values from the posterior distribution and running the model."
      ],
      "metadata": {}
    },
    {
      "outputs": [],
      "cell_type": "code",
      "source": [
        "function predict(y,chain)\n    # Length of data\n    l = length(y)\n    # Length of chain\n    m = length(chain)\n    # Choose random\n    idx = sample(1:m)\n    i₀ = chain[:i₀][idx]\n    β = chain[:β][idx]\n    I = i₀*1000.0\n    u0=[1000.0-I,I,0.0,0.0]\n    p=[β,10.0,0.25]\n    tspan = (0.0,float(l))\n    prob = ODEProblem(sir_ode!,\n            u0,\n            tspan,\n            p)\n    sol = solve(prob,\n                Tsit5(),\n                saveat = 1.0)\n    out = Array(sol)\n    sol_X = [0.0; out[4,2:end] - out[4,1:(end-1)]]\n    hcat(sol_ode.t,out',sol_X)\nend;"
      ],
      "metadata": {},
      "execution_count": null
    },
    {
      "cell_type": "markdown",
      "source": [
        "Here is a plot of ten samples of the posterior for the number of daily cases against the simulated data."
      ],
      "metadata": {}
    },
    {
      "outputs": [],
      "cell_type": "code",
      "source": [
        "Xp = []\nfor i in 1:10\n    pred = predict(Y,ode_nuts)\n    push!(Xp,pred[2:end,6])\nend;"
      ],
      "metadata": {},
      "execution_count": null
    },
    {
      "outputs": [],
      "cell_type": "code",
      "source": [
        "scatter(obstimes,Y,legend=false)\nplot!(obstimes,Xp,legend=false)"
      ],
      "metadata": {},
      "execution_count": null
    },
    {
      "cell_type": "markdown",
      "source": [
        "## Benchmarking"
      ],
      "metadata": {}
    },
    {
      "outputs": [],
      "cell_type": "code",
      "source": [
        "@benchmark sample(bayes_sir(Y),NUTS(0.65),10000,verbose=false,progress=false)"
      ],
      "metadata": {},
      "execution_count": null
    }
  ],
  "nbformat_minor": 2,
  "metadata": {
    "language_info": {
      "file_extension": ".jl",
      "mimetype": "application/julia",
      "name": "julia",
      "version": "1.10.3"
    },
    "kernelspec": {
      "name": "julia-1.10",
      "display_name": "Julia 1.10.3",
      "language": "julia"
    }
  },
  "nbformat": 4
}
