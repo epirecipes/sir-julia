{
  "cells": [
    {
      "cell_type": "markdown",
      "source": [
        "# Ordinary differential equation model with inference using Turing.jl\nSimon Frost (@sdwfrost), 2020-05-27, updated 2024-06-15\n\n## Introduction\n\nIn this notebook, we try to infer the parameter values from a simulated dataset using [Turing.jl](https://turing.ml).\n\n## Libraries"
      ],
      "metadata": {}
    },
    {
      "outputs": [],
      "cell_type": "code",
      "source": [
        "using Pkg\nPkg.instantiate()"
      ],
      "metadata": {},
      "execution_count": null
    },
    {
      "outputs": [],
      "cell_type": "code",
      "source": [
        "using OrdinaryDiffEq\nusing SciMLSensitivity\nusing Random\nusing Distributions\nusing Turing\nusing DataFrames\nusing StatsPlots\nusing BenchmarkTools"
      ],
      "metadata": {},
      "execution_count": null
    },
    {
      "cell_type": "markdown",
      "source": [
        "## The model\n\nThe following is a standard SIR model, where we keep track of the cumulative number of infected individuals, `C`."
      ],
      "metadata": {}
    },
    {
      "outputs": [],
      "cell_type": "code",
      "source": [
        "function sir_ode!(du,u,p,t)\n    (S,I,R,C) = u\n    (β,c,γ) = p\n    N = S+I+R\n    infection = β*c*I/N*S\n    recovery = γ*I\n    @inbounds begin\n        du[1] = -infection\n        du[2] = infection - recovery\n        du[3] = recovery\n        du[4] = infection\n    end\n    nothing\nend;"
      ],
      "metadata": {},
      "execution_count": null
    },
    {
      "outputs": [],
      "cell_type": "code",
      "source": [
        "tmax = 40.0\ntspan = (0.0,tmax)\nobstimes = 1.0:1.0:tmax\nu0 = [990.0,10.0,0.0,0.0] # S,I.R,C\np = [0.05,10.0,0.25]; # β,c,γ"
      ],
      "metadata": {},
      "execution_count": null
    },
    {
      "outputs": [],
      "cell_type": "code",
      "source": [
        "prob_ode = ODEProblem(sir_ode!,u0,tspan,p)\nsol_ode = solve(prob_ode, Tsit5(), saveat = 1.0);"
      ],
      "metadata": {},
      "execution_count": null
    },
    {
      "cell_type": "markdown",
      "source": [
        "## Generating data\n\nThe data are assumed to be of daily new cases, which we can obtain from the cumulative number, `C`."
      ],
      "metadata": {}
    },
    {
      "outputs": [],
      "cell_type": "code",
      "source": [
        "C = Array(sol_ode)[4,:] # Cumulative cases\nX = C[2:end] - C[1:(end-1)];"
      ],
      "metadata": {},
      "execution_count": null
    },
    {
      "cell_type": "markdown",
      "source": [
        "We generate some random Poisson noise for the measurement error to generate the observations, `Y`."
      ],
      "metadata": {}
    },
    {
      "outputs": [],
      "cell_type": "code",
      "source": [
        "Random.seed!(1234)\nY = rand.(Poisson.(X));"
      ],
      "metadata": {},
      "execution_count": null
    },
    {
      "outputs": [],
      "cell_type": "code",
      "source": [
        "bar(obstimes,Y,legend=false)\nplot!(obstimes,X,legend=false)"
      ],
      "metadata": {},
      "execution_count": null
    },
    {
      "cell_type": "markdown",
      "source": [
        "## Model specification using Turing\n\nThis model estimates the initial proportion of the population that is infected, `i₀`, and the infection probability, `β`, assuming uniform priors on each, with the remaining parameters fixed."
      ],
      "metadata": {}
    },
    {
      "outputs": [],
      "cell_type": "code",
      "source": [
        "@model function bayes_sir(y)\n  # Calculate number of timepoints\n  l = length(y)\n  i₀  ~ Uniform(0.0,1.0)\n  β ~ Uniform(0.0,1.0)\n  I = i₀*1000.0\n  u0=[1000.0-I,I,0.0,0.0]\n  p=[β,10.0,0.25]\n  tspan = (0.0,float(l))\n  prob = ODEProblem(sir_ode!,\n          u0,\n          tspan,\n          p)\n  sol = solve(prob,\n              Tsit5(),\n              saveat = 1.0)\n  sol_C = Array(sol)[4,:] # Cumulative cases\n  sol_X = sol_C[2:end] - sol_C[1:(end-1)]\n  l = length(y)\n  for i in 1:l\n    y[i] ~ Poisson(abs(sol_X[i]))\n  end\nend;"
      ],
      "metadata": {},
      "execution_count": null
    },
    {
      "cell_type": "markdown",
      "source": [
        "### Fit using NUTS\n\nThe following fits the model using the No U-Turn Sampler, with 10000 samples."
      ],
      "metadata": {}
    },
    {
      "outputs": [],
      "cell_type": "code",
      "source": [
        "@time ode_nuts = sample(bayes_sir(Y), NUTS(0.65), 10000, verbose=false, progress=false);"
      ],
      "metadata": {},
      "execution_count": null
    },
    {
      "cell_type": "markdown",
      "source": [
        "The `describe` function displays some summary statistics of the output."
      ],
      "metadata": {}
    },
    {
      "outputs": [],
      "cell_type": "code",
      "source": [
        "describe(ode_nuts)"
      ],
      "metadata": {},
      "execution_count": null
    },
    {
      "outputs": [],
      "cell_type": "code",
      "source": [
        "plot(ode_nuts)"
      ],
      "metadata": {},
      "execution_count": null
    },
    {
      "cell_type": "markdown",
      "source": [
        "### Further plotting\n\nThe MCMC chains can be converted into a `DataFrame` for further plotting."
      ],
      "metadata": {}
    },
    {
      "outputs": [],
      "cell_type": "code",
      "source": [
        "posterior = DataFrame(ode_nuts);"
      ],
      "metadata": {},
      "execution_count": null
    },
    {
      "outputs": [],
      "cell_type": "code",
      "source": [
        "histogram2d(posterior[!,:β],posterior[!,:i₀],\n                bins=80,\n                xlabel=\"β\",\n                ylab=\"i₀\",\n                ylim=[0.006,0.016],\n                xlim=[0.045,0.055],\n                legend=false)\nplot!([0.05,0.05],[0.0,0.01])\nplot!([0.0,0.05],[0.01,0.01])"
      ],
      "metadata": {},
      "execution_count": null
    },
    {
      "cell_type": "markdown",
      "source": [
        "### Generate predictions\n\nThe following code generates predicted dynamics by sampling parameter values from the posterior distribution and running the model."
      ],
      "metadata": {}
    },
    {
      "outputs": [],
      "cell_type": "code",
      "source": [
        "function predict(y,chain)\n    # Length of data\n    l = length(y)\n    # Length of chain\n    m = length(chain)\n    # Choose random\n    idx = sample(1:m)\n    i₀ = chain[:i₀][idx]\n    β = chain[:β][idx]\n    I = i₀*1000.0\n    u0=[1000.0-I,I,0.0,0.0]\n    p=[β,10.0,0.25]\n    tspan = (0.0,float(l))\n    prob = ODEProblem(sir_ode!,\n            u0,\n            tspan,\n            p)\n    sol = solve(prob,\n                Tsit5(),\n                saveat = 1.0)\n    out = Array(sol)\n    sol_X = [0.0; out[4,2:end] - out[4,1:(end-1)]]\n    hcat(sol_ode.t,out',sol_X)\nend;"
      ],
      "metadata": {},
      "execution_count": null
    },
    {
      "cell_type": "markdown",
      "source": [
        "Here is a plot of ten samples of the posterior for the number of daily cases against the simulated data."
      ],
      "metadata": {}
    },
    {
      "outputs": [],
      "cell_type": "code",
      "source": [
        "Xp = []\nfor i in 1:10\n    pred = predict(Y,ode_nuts)\n    push!(Xp,pred[2:end,6])\nend;"
      ],
      "metadata": {},
      "execution_count": null
    },
    {
      "outputs": [],
      "cell_type": "code",
      "source": [
        "scatter(obstimes,Y,legend=false)\nplot!(obstimes,Xp,legend=false)"
      ],
      "metadata": {},
      "execution_count": null
    },
    {
      "cell_type": "markdown",
      "source": [
        "## Benchmarking"
      ],
      "metadata": {}
    },
    {
      "outputs": [],
      "cell_type": "code",
      "source": [
        "@benchmark sample(bayes_sir(Y), NUTS(0.65), 10000, verbose=false, progress=false)"
      ],
      "metadata": {},
      "execution_count": null
    },
    {
      "cell_type": "markdown",
      "source": [
        "## Coverage"
      ],
      "metadata": {}
    },
    {
      "outputs": [],
      "cell_type": "code",
      "source": [
        "using Base.Threads"
      ],
      "metadata": {},
      "execution_count": null
    },
    {
      "cell_type": "markdown",
      "source": [
        "We can check the number of threads available."
      ],
      "metadata": {}
    },
    {
      "outputs": [],
      "cell_type": "code",
      "source": [
        "Threads.nthreads()"
      ],
      "metadata": {},
      "execution_count": null
    },
    {
      "outputs": [],
      "cell_type": "code",
      "source": [
        "function sir_ode_solve(problem, l, i₀, β)\n    I = i₀*1000.0\n    S = 1000.0 - I\n    u0 = [S, I, 0.0, 0.0]\n    p = [β, 10.0, 0.25]\n    prob = remake(problem; u0=u0, p=p)\n    sol = solve(prob, Tsit5(), saveat = 1.0)\n    sol_C = view(sol, 4, :) # Cumulative cases\n    sol_X = Array{eltype(sol_C)}(undef, l)\n    @inbounds @simd for i in 1:length(sol_X)\n        sol_X[i] = sol_C[i + 1] - sol_C[i]\n    end\n    return sol_X\nend;"
      ],
      "metadata": {},
      "execution_count": null
    },
    {
      "outputs": [],
      "cell_type": "code",
      "source": [
        "function simulate_data(l, i₀, β)\n    prob = ODEProblem(sir_ode!, [990.0, 10.0, 0.0, 0.0], (0.0, l), [β, 10.0, 0.25])\n    X = sir_ode_solve(prob, l, i₀, β)\n    Y = rand.(Poisson.(X))\n    return X, Y\nend;"
      ],
      "metadata": {},
      "execution_count": null
    },
    {
      "cell_type": "markdown",
      "source": [
        "We can now use the `Threads.@threads` macro to parallelize the simulation and inference process."
      ],
      "metadata": {}
    },
    {
      "outputs": [],
      "cell_type": "code",
      "source": [
        "nsims = 1000\ni₀_true = 0.01\nβ_true = 0.05\nl = 40\ni₀_mean = Array{Float64}(undef, nsims)\nβ_mean = Array{Float64}(undef, nsims)\ni₀_coverage = Array{Float64}(undef, nsims)\nβ_coverage = Array{Float64}(undef, nsims)\nThreads.@threads for i in 1:nsims\n    X_sim, Y_sim = simulate_data(l, i₀_true, β_true)\n    r = sample(bayes_sir(Y_sim), NUTS(0.65), 10000, verbose=false, progress=false)\n    i₀_mean[i] = mean(r[:i₀])\n    i0_cov = sum(r[:i₀] .<= i₀_true) / length(r[:i₀])\n    β_mean[i] = mean(r[:β])\n    b_cov = sum(r[:β] .<= β_true) / length(r[:β])\n    i₀_coverage[i] = i0_cov\n    β_coverage[i] = b_cov\nend;"
      ],
      "metadata": {},
      "execution_count": null
    },
    {
      "cell_type": "markdown",
      "source": [
        "If the credible intervals are well calibrated, we expect that the distribution of the CDF of the true value (across multiple simulated datasets) should be uniform."
      ],
      "metadata": {}
    },
    {
      "outputs": [],
      "cell_type": "code",
      "source": [
        "# Convenience function to check if the true value is within the credible interval\nfunction in_credible_interval(x, lwr=0.025, upr=0.975)\n    return x >= lwr && x <= upr\nend;"
      ],
      "metadata": {},
      "execution_count": null
    },
    {
      "outputs": [],
      "cell_type": "code",
      "source": [
        "pl_β_coverage = histogram(β_coverage, bins=0:0.1:1.0, label=false, title=\"β\", ylabel=\"Density\", density=true, xrotation=45, xlim=(0.0,1.0))\npl_i₀_coverage = histogram(i₀_coverage, bins=0:0.1:1.0, label=false, title=\"i₀\", ylabel=\"Density\", density=true, xrotation=45, xlim=(0.0,1.0))\nplot(pl_β_coverage, pl_i₀_coverage, layout=(1,2), plot_title=\"Distribution of CDF of true value\")"
      ],
      "metadata": {},
      "execution_count": null
    },
    {
      "cell_type": "markdown",
      "source": [
        "The coverage of the 95% credible intervals is given by the proportion of simulations where the true value is within the interval."
      ],
      "metadata": {}
    },
    {
      "outputs": [],
      "cell_type": "code",
      "source": [
        "sum(in_credible_interval.(β_coverage)) / nsims"
      ],
      "metadata": {},
      "execution_count": null
    },
    {
      "outputs": [],
      "cell_type": "code",
      "source": [
        "sum(in_credible_interval.(i₀_coverage)) / nsims"
      ],
      "metadata": {},
      "execution_count": null
    },
    {
      "cell_type": "markdown",
      "source": [
        "We can also look at the distribution of the posterior means, which should fall around the true value."
      ],
      "metadata": {}
    },
    {
      "outputs": [],
      "cell_type": "code",
      "source": [
        "pl_β_mean = histogram(β_mean, label=false, title=\"β\", ylabel=\"Density\", density=true, xrotation=45, xlim=(0.045, 0.055))\nvline!([β_true], label=\"True value\")\npl_i₀_mean = histogram(i₀_mean, label=false, title=\"i₀\", ylabel=\"Density\", density=true, xrotation=45, xlim=(0.0,0.02))\nvline!([i₀_true], label=\"True value\")\nplot(pl_β_mean, pl_i₀_mean, layout=(1,2), plot_title=\"Distribution of posterior means\")"
      ],
      "metadata": {},
      "execution_count": null
    }
  ],
  "nbformat_minor": 2,
  "metadata": {
    "language_info": {
      "file_extension": ".jl",
      "mimetype": "application/julia",
      "name": "julia",
      "version": "1.10.3"
    },
    "kernelspec": {
      "name": "julia-1.10",
      "display_name": "Julia 1.10.3",
      "language": "julia"
    }
  },
  "nbformat": 4
}
