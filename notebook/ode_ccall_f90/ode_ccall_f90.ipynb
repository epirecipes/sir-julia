{
  "cells": [
    {
      "cell_type": "markdown",
      "source": [
        "# Ordinary differential equation model with the vector field defined in Fortran 90\nSimon Frost (@sdwfrost), 2024-06-03\n\n## Introduction\n\nWhile Julia is a high-level language, it is possible to define the vector field for an ordinary differential equation (ODE) in Fortran and call it from Julia. This can be useful for performance reasons (if the calculation of the vector field in Julia happens to be slow), or if the vector field is already defined in Fortran, for example, in another codebase. Julia's `ccall` makes it easy to call a compiled Fortran function in a shared library.\n\n## Libraries"
      ],
      "metadata": {}
    },
    {
      "outputs": [],
      "cell_type": "code",
      "source": [
        "using OrdinaryDiffEq\nusing Libdl\nusing Plots\nusing BenchmarkTools"
      ],
      "metadata": {},
      "execution_count": null
    },
    {
      "cell_type": "markdown",
      "source": [
        "## Transitions\n\nWe define the vector field in Fortran 90; it is easiest for this function to be in-place, so that we do not have to do any memory management on the Fortran side. This approach is also more efficient, as it reduces the number of allocations needed. We use the `bind(c)` attribute to ensure that the function is callable from C."
      ],
      "metadata": {}
    },
    {
      "outputs": [],
      "cell_type": "code",
      "source": [
        "F90_code = \"\"\"\nmodule sir_module\n    use iso_c_binding\n\n    contains\n\n    subroutine sir_ode(du, u, p, t) bind(c)\n        real(c_double), intent(out) :: du(3)\n        real(c_double), intent(in) :: u(3)\n        real(c_double), intent(in) :: p(3)\n        real(c_double), intent(in) :: t\n\n        real(c_double) :: beta, c, gamma, S, I, R, N\n\n        beta = p(1)\n        c = p(2)\n        gamma = p(3)\n        S = u(1)\n        I = u(2)\n        R = u(3)\n        N = S + I + R\n\n        du(1) = -beta*c*S*I/N\n        du(2) = beta*c*S*I/N - gamma*I\n        du(3) = gamma*I\n    end subroutine sir_ode\n\nend module sir_module\n\"\"\";"
      ],
      "metadata": {},
      "execution_count": null
    },
    {
      "cell_type": "markdown",
      "source": [
        "We then compile the code into a shared library using `gfortran`. We use `tempname` to create a temporary file name for the shared library; actually, this will be the filename without the extension, as we will add the extension later, as the extension is platform-dependent."
      ],
      "metadata": {}
    },
    {
      "outputs": [],
      "cell_type": "code",
      "source": [
        "const Flib = tempname();"
      ],
      "metadata": {},
      "execution_count": null
    },
    {
      "cell_type": "markdown",
      "source": [
        "We save the F90 code to a file and then compile it."
      ],
      "metadata": {}
    },
    {
      "outputs": [],
      "cell_type": "code",
      "source": [
        "open(Flib * \".\" * \"f90\", \"w\") do f\n    write(f, F90_code)\nend\nrun(`gfortran -fPIC -shared -O3 -o $(Flib * \".\" * Libdl.dlext) $(Flib * \".\" * \"f90\")`);"
      ],
      "metadata": {},
      "execution_count": null
    },
    {
      "cell_type": "markdown",
      "source": [
        "We can then define the ODE function in Julia, which calls the F90 function using `ccall`. `du`, `u`, `p` are arrays of `Float64`, which are passed using pointers. `t` is passed as a `Ref` to a `Float64`, which is a pointer to a `Float64` value."
      ],
      "metadata": {}
    },
    {
      "outputs": [],
      "cell_type": "code",
      "source": [
        "function sir_ode_jl!(du,u,p,t)\n    ccall((:sir_ode,Flib,), Cvoid,\n          (Ptr{Float64}, Ptr{Float64}, Ptr{Float64}, Ptr{Float64}), du, u, p, Ref(t))\nend;"
      ],
      "metadata": {},
      "execution_count": null
    },
    {
      "cell_type": "markdown",
      "source": [
        "We can then proceed to solve the ODE using the `sir_ode_jl!` function as we would if the vector field were defined in Julia."
      ],
      "metadata": {}
    },
    {
      "outputs": [],
      "cell_type": "code",
      "source": [
        "sir_ode = ODEFunction(sir_ode_jl!);"
      ],
      "metadata": {},
      "execution_count": null
    },
    {
      "cell_type": "markdown",
      "source": [
        "## Time domain"
      ],
      "metadata": {}
    },
    {
      "outputs": [],
      "cell_type": "code",
      "source": [
        "δt = 0.1\ntmax = 40.0\ntspan = (0.0,tmax);"
      ],
      "metadata": {},
      "execution_count": null
    },
    {
      "cell_type": "markdown",
      "source": [
        "## Initial conditions and parameter values"
      ],
      "metadata": {}
    },
    {
      "outputs": [],
      "cell_type": "code",
      "source": [
        "u0 = [990.0,10.0,0.0] # S,I,R\np = [0.05,10.0,0.25]; # β,c,γ"
      ],
      "metadata": {},
      "execution_count": null
    },
    {
      "cell_type": "markdown",
      "source": [
        "## Solving the ODE"
      ],
      "metadata": {}
    },
    {
      "outputs": [],
      "cell_type": "code",
      "source": [
        "prob_ode = ODEProblem{true}(sir_ode, u0, tspan, p)\nsol_ode = solve(prob_ode, Tsit5(), dt = δt);"
      ],
      "metadata": {},
      "execution_count": null
    },
    {
      "cell_type": "markdown",
      "source": [
        "## Plotting"
      ],
      "metadata": {}
    },
    {
      "outputs": [],
      "cell_type": "code",
      "source": [
        "plot(sol_ode, labels=[\"S\" \"I\" \"R\"], lw = 2, xlabel = \"Time\", ylabel = \"Number\")"
      ],
      "metadata": {},
      "execution_count": null
    },
    {
      "cell_type": "markdown",
      "source": [
        "## Benchmarking"
      ],
      "metadata": {}
    },
    {
      "outputs": [],
      "cell_type": "code",
      "source": [
        "@benchmark solve(prob_ode, Tsit5(), dt = δt)"
      ],
      "metadata": {},
      "execution_count": null
    },
    {
      "cell_type": "markdown",
      "source": [
        "We can compare the performance of the F90-based ODE with the Julia-based ODE."
      ],
      "metadata": {}
    },
    {
      "outputs": [],
      "cell_type": "code",
      "source": [
        "function sir_ode!(du,u,p,t)\n    (S,I,R) = u\n    (β,c,γ) = p\n    N = S+I+R\n    @inbounds begin\n        du[1] = -β*c*I/N*S\n        du[2] = β*c*I/N*S - γ*I\n        du[3] = γ*I\n    end\n    nothing\nend\nprob_ode2 = ODEProblem(sir_ode!, u0, tspan, p)\nsol_ode2 = solve(prob_ode2, Tsit5(), dt = δt)\n@benchmark solve(prob_ode2, Tsit5(), dt = δt)"
      ],
      "metadata": {},
      "execution_count": null
    },
    {
      "cell_type": "markdown",
      "source": [
        "Note that the performance of the F90-based vector field is similar to the one defined in Julia."
      ],
      "metadata": {}
    }
  ],
  "nbformat_minor": 2,
  "metadata": {
    "language_info": {
      "file_extension": ".jl",
      "mimetype": "application/julia",
      "name": "julia",
      "version": "1.9.0"
    },
    "kernelspec": {
      "name": "julia-1.9",
      "display_name": "Julia 1.9.0",
      "language": "julia"
    }
  },
  "nbformat": 4
}
