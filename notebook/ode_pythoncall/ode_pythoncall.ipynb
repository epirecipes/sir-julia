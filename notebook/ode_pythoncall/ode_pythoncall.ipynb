{
  "cells": [
    {
      "cell_type": "markdown",
      "source": [
        "# Ordinary differential equation model with the vector field defined in Python\nSimon Frost (@sdwfrost), 2024-06-03\n\n## Introduction\n\nWhile Julia is a high-level language, it is possible to define the vector field for an ordinary differential equation (ODE) in another language and call it from Julia. This can be useful if the vector field is already defined in Python, for example, in another codebase. We use the `PythonCall` library to interface Julia with Python.\n\n## Libraries"
      ],
      "metadata": {}
    },
    {
      "outputs": [],
      "cell_type": "code",
      "source": [
        "using OrdinaryDiffEq\nusing PythonCall\nusing Plots\nusing BenchmarkTools"
      ],
      "metadata": {},
      "execution_count": null
    },
    {
      "cell_type": "markdown",
      "source": [
        "## Transitions\n\n### Out-of-place version\n\nWe define the vector field in Python, firstly using an out-of-place definition."
      ],
      "metadata": {}
    },
    {
      "outputs": [],
      "cell_type": "code",
      "source": [
        "@pyexec \"\"\"\ndef sir_ode_op_py(u,p,t):\n    S = u[0]\n    I = u[1]\n    R = u[2]\n    N = S+I+R\n    beta = p[0]\n    c = p[1]\n    gamma = p[2]\n    dS = -beta*c*I/N*S\n    dI = beta*c*I/N*S - gamma*I\n    dR = gamma*I\n    return [dS,dI,dR]\n\"\"\" => sir_ode_op_py;"
      ],
      "metadata": {},
      "execution_count": null
    },
    {
      "cell_type": "markdown",
      "source": [
        "We can then define the ODE function in Python to Julia, converting the output of the above `sir_ode_op_py` to an `Array`."
      ],
      "metadata": {}
    },
    {
      "outputs": [],
      "cell_type": "code",
      "source": [
        "sir_ode_op_jl(u,p,t) = pyconvert(Array, sir_ode_op_py(u, p, t));"
      ],
      "metadata": {},
      "execution_count": null
    },
    {
      "cell_type": "markdown",
      "source": [
        "We can then proceed to solve the ODE using the `sir_ode_jl` function as we would if the vector field were defined in Julia."
      ],
      "metadata": {}
    },
    {
      "outputs": [],
      "cell_type": "code",
      "source": [
        "δt = 0.1\ntmax = 40.0\ntspan = (0.0,tmax);\nu0 = [990.0,10.0,0.0] # S,I,R\np = [0.05,10.0,0.25]; # β,c,γ"
      ],
      "metadata": {},
      "execution_count": null
    },
    {
      "cell_type": "markdown",
      "source": [
        "To ensure that the out-of-place version works, we specify `ODEProblem{false}`."
      ],
      "metadata": {}
    },
    {
      "outputs": [],
      "cell_type": "code",
      "source": [
        "prob_ode_op = ODEProblem{false}(sir_ode_op_jl, u0, tspan, p)\nsol_ode_op = solve(prob_ode_op, Tsit5(), dt = δt)\nplot(sol_ode_op, labels=[\"S\" \"I\" \"R\"], lw=2, xlabel=\"Time\", ylabel=\"Number\")"
      ],
      "metadata": {},
      "execution_count": null
    },
    {
      "cell_type": "markdown",
      "source": [
        "### In-place version\n\nWe now define the vector field in Python using an in-place definition."
      ],
      "metadata": {}
    },
    {
      "outputs": [],
      "cell_type": "code",
      "source": [
        "@pyexec \"\"\"\ndef sir_ode_ip_py(du,u,p,t):\n    S = u[0]\n    I = u[1]\n    R = u[2]\n    N = S+I+R\n    beta = p[0]\n    c = p[1]\n    gamma = p[2]\n    du[0] = dS = -beta*c*I/N*S\n    du[1] = dI = beta*c*I/N*S - gamma*I\n    du[2] = dR = gamma*I\n\"\"\" => sir_ode_ip_py;"
      ],
      "metadata": {},
      "execution_count": null
    },
    {
      "outputs": [],
      "cell_type": "code",
      "source": [
        "prob_ode_ip = ODEProblem{true}(sir_ode_ip_py, u0, tspan, p)\nsol_ode_ip = solve(prob_ode_ip, Tsit5(), dt = δt)\nplot(sol_ode_ip, labels=[\"S\" \"I\" \"R\"], lw=2, xlabel=\"Time\", ylabel=\"Number\")"
      ],
      "metadata": {},
      "execution_count": null
    },
    {
      "cell_type": "markdown",
      "source": [
        "## Benchmarking\n\n### Out-of-place version"
      ],
      "metadata": {}
    },
    {
      "outputs": [],
      "cell_type": "code",
      "source": [
        "@benchmark solve(prob_ode_op, Tsit5(), dt = δt)"
      ],
      "metadata": {},
      "execution_count": null
    },
    {
      "cell_type": "markdown",
      "source": [
        "### In-place version"
      ],
      "metadata": {}
    },
    {
      "outputs": [],
      "cell_type": "code",
      "source": [
        "@benchmark solve(prob_ode_ip, Tsit5(), dt = δt)"
      ],
      "metadata": {},
      "execution_count": null
    },
    {
      "cell_type": "markdown",
      "source": [
        "### Julia in-place version\n\nWe can compare the performance of the Python-based ODE with the Julia-based ODE."
      ],
      "metadata": {}
    },
    {
      "outputs": [],
      "cell_type": "code",
      "source": [
        "function sir_ode!(du,u,p,t)\n    (S,I,R) = u\n    (β,c,γ) = p\n    N = S+I+R\n    @inbounds begin\n        du[1] = -β*c*I/N*S\n        du[2] = β*c*I/N*S - γ*I\n        du[3] = γ*I\n    end\n    nothing\nend\nprob_ode_julia = ODEProblem(sir_ode!, u0, tspan, p)\nsol_ode_julia = solve(prob_ode_julia, Tsit5(), dt = δt)\n@benchmark solve(prob_ode_julia, Tsit5(), dt = δt)"
      ],
      "metadata": {},
      "execution_count": null
    },
    {
      "cell_type": "markdown",
      "source": [
        "On my machine, the Julia code runs 40-50 times faster than the Python code; this reflects both the slower Python code plus the overhead of the foreign function calls.\n\n## Using modelingtoolkitize to convert a vector field in Python to Julia\n\nRather than calling the Python code from Julia, another approach, at least for some models, is to convert the Python code to Julia using `modelingtoolkitize`. At the time of writing, the `modelingtoolkitize` function does not allow specifying the state, parameter, or independent variable names."
      ],
      "metadata": {}
    },
    {
      "outputs": [],
      "cell_type": "code",
      "source": [
        "using ModelingToolkit\n@named sys_mtk = modelingtoolkitize(prob_ode_op);\nprob_mtk = ODEProblem(sys_mtk, u0, tspan, p)\nsol_mtk = solve(prob_mtk, Tsit5(), dt = δt)\nplot(sol_mtk, labels=[\"S\" \"I\" \"R\"], lw=2, xlabel=\"Time\", ylabel=\"Number\")"
      ],
      "metadata": {},
      "execution_count": null
    },
    {
      "cell_type": "markdown",
      "source": [
        "One of the advantages is that the generated code is in Julia, and consequently runs much faster than the Python version."
      ],
      "metadata": {}
    },
    {
      "outputs": [],
      "cell_type": "code",
      "source": [
        "@benchmark solve(prob_mtk, Tsit5(), dt = $δt)"
      ],
      "metadata": {},
      "execution_count": null
    }
  ],
  "nbformat_minor": 2,
  "metadata": {
    "language_info": {
      "file_extension": ".jl",
      "mimetype": "application/julia",
      "name": "julia",
      "version": "1.9.0"
    },
    "kernelspec": {
      "name": "julia-1.9",
      "display_name": "Julia 1.9.0",
      "language": "julia"
    }
  },
  "nbformat": 4
}
