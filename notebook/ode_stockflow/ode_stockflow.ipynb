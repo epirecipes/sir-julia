{
  "cells": [
    {
      "cell_type": "markdown",
      "source": [
        "# Ordinary differential equation model constructed with a stock and flow model using StockFlow.jl\nSimon Frost (@sdwfrost), 2023-05-17\n\n## Introduction\n\nThis example uses [`StockFlow.jl`](https://github.com/AlgebraicJulia/StockFlow.jl) to develop an SIR model using a [stock and flow](https://en.wikipedia.org/wiki/Stock_and_flow) approach, in which the model compartments (`S`, `I`, and `R`) are considered as stocks, and the processes of infection and recovery are considered as flows. The stock and flow model can then be converted to an ordinary differential equation model to solve numerically. See [this paper](https://arxiv.org/abs/2205.08373) and [this book chapter](https://arxiv.org/abs/2211.01290) for more mathematical details on stock-and-flow models applied to epidemiology, and the `StockFlow.jl` repository for [more complex examples](https://github.com/AlgebraicJulia/StockFlow.jl/tree/master/examples).\n\n## Libraries"
      ],
      "metadata": {}
    },
    {
      "outputs": [],
      "cell_type": "code",
      "source": [
        "using StockFlow\nusing LabelledArrays\nusing OrdinaryDiffEq\nusing GraphViz\nusing Plots;"
      ],
      "metadata": {},
      "execution_count": null
    },
    {
      "cell_type": "markdown",
      "source": [
        "## Transitions\n\nWe firstly define the SIR model using a simple schema. Firstly, we define functions of flows in the SIR model in terms of the model state, `u`, the model parameters, `p`, and time, `t`."
      ],
      "metadata": {}
    },
    {
      "outputs": [],
      "cell_type": "code",
      "source": [
        "fInfection(u, p, t) = p.β * p.c * u.S * u.I/(u.S + u.I + u.R)\nfRecovery(u, p, t) = p.γ * u.I;"
      ],
      "metadata": {},
      "execution_count": null
    },
    {
      "cell_type": "markdown",
      "source": [
        "A stock and flow model can be defined using the following primitive schema.\n\n```\nStockAndFlowp(stocks,\n              (flow=>function, upstream=>downstream) => stocks linked)\n```\n\nIn this model, `S`, `I`, and `R` are the stocks (defined as a `Tuple` of `Symbol`s), and infection and recovery are the flows. Each flow is defined by a label (here, `:Infection` and `:Recovery`), which is associated with a function that defines the rate. We define how the flows change the stocks - for example, infection results in a flow from `S` to `I` - and which stocks are linked by the flows."
      ],
      "metadata": {}
    },
    {
      "outputs": [],
      "cell_type": "code",
      "source": [
        "sirp = StockAndFlowp((:S, :I, :R), \n   ((:Infection =>  fInfection, :S=>:I) =>  (:S,:I),\n    (:Recovery  =>  fRecovery, :I=>:R)  =>  :I)\n)"
      ],
      "metadata": {},
      "execution_count": null
    },
    {
      "cell_type": "markdown",
      "source": [
        "A graph of the stock and flow model can be generated using `Graph`."
      ],
      "metadata": {}
    },
    {
      "outputs": [],
      "cell_type": "code",
      "source": [
        "Graph(sirp)"
      ],
      "metadata": {},
      "execution_count": null
    },
    {
      "cell_type": "markdown",
      "source": [
        "In order to generate a system that can be passed to `ODEProblem`, we generate a vector field from the stock and flow model."
      ],
      "metadata": {}
    },
    {
      "outputs": [],
      "cell_type": "code",
      "source": [
        "vfp = vectorfield(sirp);"
      ],
      "metadata": {},
      "execution_count": null
    },
    {
      "cell_type": "markdown",
      "source": [
        "## Time domain"
      ],
      "metadata": {}
    },
    {
      "outputs": [],
      "cell_type": "code",
      "source": [
        "tmax = 40.0\ntspan = (0, tmax)\nδt = 0.1;"
      ],
      "metadata": {},
      "execution_count": null
    },
    {
      "cell_type": "markdown",
      "source": [
        "## Initial conditions\n\nInitial conditions are defined using a labelled vector."
      ],
      "metadata": {}
    },
    {
      "outputs": [],
      "cell_type": "code",
      "source": [
        "u0 = LVector(S=990, I=10, R=0);"
      ],
      "metadata": {},
      "execution_count": null
    },
    {
      "cell_type": "markdown",
      "source": [
        "## Parameter values\n\nParameter values are also defined using a labelled vector."
      ],
      "metadata": {}
    },
    {
      "outputs": [],
      "cell_type": "code",
      "source": [
        "p = LVector(β=0.05, c=10, γ=0.25);"
      ],
      "metadata": {},
      "execution_count": null
    },
    {
      "cell_type": "markdown",
      "source": [
        "## Running the model\n\nConstructing the `ODEProblem` and solving uses the standard SciML pattern."
      ],
      "metadata": {}
    },
    {
      "outputs": [],
      "cell_type": "code",
      "source": [
        "prob_p = ODEProblem(vfp, u0, tspan, p)\nsol_p = solve(prob_p, Tsit5(), saveat=δt);"
      ],
      "metadata": {},
      "execution_count": null
    },
    {
      "cell_type": "markdown",
      "source": [
        "## Plotting"
      ],
      "metadata": {}
    },
    {
      "outputs": [],
      "cell_type": "code",
      "source": [
        "plot(sol_p, xlabel=\"Time\", ylabel=\"Number\")"
      ],
      "metadata": {},
      "execution_count": null
    },
    {
      "cell_type": "markdown",
      "source": [
        "## Full schema example\n\nThe full schema in `StockFlow.jl` allows more sophisticated manipulations of the model, such as composition and stratification. Compared to the primitive schema above, the functions that define the flow rates include an argument `uN` for *sum variables* i.e. variables that are generated by summing multiple states in the model."
      ],
      "metadata": {}
    },
    {
      "outputs": [],
      "cell_type": "code",
      "source": [
        "fInfection(u, uN, p, t) = p.β * p.c * u.S * u.I/uN.N(u,t)\nfRecovery(u, uN, p, t) = p.γ * u.I;"
      ],
      "metadata": {},
      "execution_count": null
    },
    {
      "cell_type": "markdown",
      "source": [
        "The following describes the complex schema. We have variables that describe the flows (independent of the actual rates defined by the functions), and sum variables.\n\n```\n(stock_name=>(inflows, outflows, variables, svariables))\n     ## if a stock has no inflow or no outflow, use keyword \":F_NONE\"\n     ## if a stock has no variables connect to, use keyword \":V_NONE\"\n     ## if a stock has no sum_variables connect to, use keyword \":SV_NONE\"\n(flow=>variable)\n(variable=>function)\n(svariable=>variable)\n     ## if sum_variable contributes to no variables, use keywork \":SVV_NONE\"\n```\n\nThe SIR model can be written using the above schema as follows. Julia's multiple dispatch mechanism ensures that the correct rate functions are called (with the `uN` argument), rather than those defined for the primitive schema."
      ],
      "metadata": {}
    },
    {
      "outputs": [],
      "cell_type": "code",
      "source": [
        "sir=StockAndFlow(\n    (:S=>(:F_NONE, :infection , :v_infection, :N),\n     :I=>(:infection, :recovery, (:v_infection, :v_recovery), :N),\n     :R=>(:recovery, :F_NONE, :V_NONE, :N)),\n    (:infection => :v_infection, :recovery => :v_recovery),\n    (:v_infection => fInfection, :v_recovery => fRecovery),\n    (:N => (:v_infection))\n)"
      ],
      "metadata": {},
      "execution_count": null
    },
    {
      "cell_type": "markdown",
      "source": [
        "Once we have defined the model in terms of stocks and flows using the full schema, we proceed in the same way as for the primitive schema."
      ],
      "metadata": {}
    },
    {
      "outputs": [],
      "cell_type": "code",
      "source": [
        "vf = vectorfield(sir)\nprob = ODEProblem(vf, u0, tspan, p)\nsol = solve(prob, Tsit5(), saveat=δt);"
      ],
      "metadata": {},
      "execution_count": null
    },
    {
      "outputs": [],
      "cell_type": "code",
      "source": [
        "plot(sol, xlabel=\"Time\", ylabel=\"Number\")"
      ],
      "metadata": {},
      "execution_count": null
    },
    {
      "cell_type": "markdown",
      "source": [
        "## Graphical output for the full schema\n\nWe can produce a graph of the model as per the primitive schema."
      ],
      "metadata": {}
    },
    {
      "outputs": [],
      "cell_type": "code",
      "source": [
        "Graph(sir)"
      ],
      "metadata": {},
      "execution_count": null
    },
    {
      "cell_type": "markdown",
      "source": [
        "In addition, we can convert the model generated from the full schema to a causal loop."
      ],
      "metadata": {}
    },
    {
      "outputs": [],
      "cell_type": "code",
      "source": [
        "sir_causalloop = convertToCausalLoop(sir)"
      ],
      "metadata": {},
      "execution_count": null
    },
    {
      "outputs": [],
      "cell_type": "code",
      "source": [
        "Graph(sir_causalloop)"
      ],
      "metadata": {},
      "execution_count": null
    },
    {
      "cell_type": "markdown",
      "source": [
        "Alternatively, we can capture just the system structure as follows."
      ],
      "metadata": {}
    },
    {
      "outputs": [],
      "cell_type": "code",
      "source": [
        "sir_structure = convertStockFlowToSystemStructure(sir)"
      ],
      "metadata": {},
      "execution_count": null
    },
    {
      "outputs": [],
      "cell_type": "code",
      "source": [
        "Graph(sir_structure)"
      ],
      "metadata": {},
      "execution_count": null
    },
    {
      "cell_type": "markdown",
      "source": [
        "## Discussion\n\nWhile the above code demonstrates how to build an SIR model using stocks and flows, the real strength of the approach lies in the ability to manipulate the model structure, in order to create larger models by composing small models or by stratifying a model."
      ],
      "metadata": {}
    }
  ],
  "nbformat_minor": 2,
  "metadata": {
    "language_info": {
      "file_extension": ".jl",
      "mimetype": "application/julia",
      "name": "julia",
      "version": "1.9.0"
    },
    "kernelspec": {
      "name": "julia-1.9",
      "display_name": "Julia 1.9.0",
      "language": "julia"
    }
  },
  "nbformat": 4
}
