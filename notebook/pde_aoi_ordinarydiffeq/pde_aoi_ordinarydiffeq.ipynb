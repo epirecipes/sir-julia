{
  "cells": [
    {
      "cell_type": "markdown",
      "source": [
        "# Partial differential equation (PDE) model of 'age of infection' using the method of lines and OrdinaryDiffEq.jl\nSimon Frost (@sdwfrost)\n2025-05-30\n\n## Introduction\n\nThe standard SIR model described by a system of ordinary differential equations makes several simplifying assumptions about the natural history of infection. One is that the infectiousness is constant throughout the infectious period, and another is that the recovery rate is constant, leading to an exponential distribution of recovery times. In reality, the infectiousness and recovery rate may vary with the age of infection, which can be captured using a partial differential equation (PDE) approach. A common approach to solving PDEs is the [method of lines](https://en.wikipedia.org/wiki/Method_of_lines), which discretizes the spatial domain (in this case, the age of infection) and leaves the time variable continuous. This allows us to use the `OrdinaryDiffEq` package to solve the resulting system of ordinary differential equations.\n\n## Packages"
      ],
      "metadata": {}
    },
    {
      "outputs": [],
      "cell_type": "code",
      "source": [
        "using OrdinaryDiffEq\nusing Plots;"
      ],
      "metadata": {},
      "execution_count": null
    },
    {
      "cell_type": "markdown",
      "source": [
        "## Transitions\n\nIn this example, we discretize the age of infection into a finite number of bins, and model the 'ageing' process via a first-order [upwind scheme](https://en.wikipedia.org/wiki/Upwind_scheme), while the time variable is left continuous. We consider the density of infected individuals in each age bin, so the width of each age bin, `Δa`, enters into the equations as a scaling factor; smaller age bins mean that infectious individuals traverse through age stages more rapidly. Individuals who 'age out' of the infection are added to the removed compartment, and so the total population, `N` is conserved. The PDE model is defined as follows."
      ],
      "metadata": {}
    },
    {
      "outputs": [],
      "cell_type": "code",
      "source": [
        "function pde_mol!(du, u, p, t)\n\n    # Extract discretization parameters\n    Δa = p.Δa\n    nI = p.nI\n\n    # Extract states\n    S = u[1]\n    I = @view u[2:nI+1]\n    R = u[end]\n    N = S+sum(I)*Δa+R  # total population\n\n    # Extract parameters\n    βvec = p.βvec\n    γvec = p.γvec\n\n    # Compute force of infection\n    λ = sum(βvec .* I * Δa)/N\n\n    # Compute derivatives\n    du[1] = dS = -λ * S                   # susceptibles\n\n    # First age bin (j = 1)\n    du[2] = -(I[1] - λ*S)/Δa - γvec[1]*I[1]\n\n    # Remaining bins (j = 2...nI)\n    @inbounds for j in 2:nI\n        du[j+1] = -(I[j] - I[j-1])/Δa - γvec[j]*I[j]\n    end\n\n    # Removed compartment\n    du[end] = dR = sum(γvec .* I * Δa) + I[nI]   # gain from recovery + ageing out\nend;"
      ],
      "metadata": {},
      "execution_count": null
    },
    {
      "cell_type": "markdown",
      "source": [
        "## Parameters\n\nIn order for the PDE model to match our reference ODE model, we set the infectiousness and recovery rates to be constant across all ages of infection. In a more complex model, these could be functions of age, e.g. `β_a(a)` and `γ_a(a)`."
      ],
      "metadata": {}
    },
    {
      "outputs": [],
      "cell_type": "code",
      "source": [
        "β = 0.5\nγ = 0.25                      \nβ_a(a) = β                    # infectiousness profile, β(a)\nγ_a(a) = γ;                   # recovery rate γ(a)"
      ],
      "metadata": {},
      "execution_count": null
    },
    {
      "cell_type": "markdown",
      "source": [
        "We then define the time and age domains, discretizing the age domain into `nI` bins, each of width `Δa`. The age of infection is truncated at `amax`, which is the maximum age of infection we consider in the model. The infectiousness and recovery rates are evaluated on this grid."
      ],
      "metadata": {}
    },
    {
      "outputs": [],
      "cell_type": "code",
      "source": [
        "tmax   = 40.0                  # Simulation time (days)\ntspan  = (0.0, tmax)           # time span for the simulation\nΔt     = 0.1                   # time step for the simulation output\namax   = 40.0                  # truncate infection age domain (days)\nnI     = 400                  # number of age bins\nΔa     = amax / nI            # bin width\nages   = range(Δa/2, stop=amax-Δa/2, length=nI)  # mid‑points\nβvec   = β_a.(ages)           # vectorise kernels on grid\nγvec   = γ_a.(ages);"
      ],
      "metadata": {},
      "execution_count": null
    },
    {
      "cell_type": "markdown",
      "source": [
        "We put the parameters into a `NamedTuple` for easy access in the ODE function."
      ],
      "metadata": {}
    },
    {
      "outputs": [],
      "cell_type": "code",
      "source": [
        "p = (βvec=βvec, γvec=γvec, Δa=Δa, nI=nI);"
      ],
      "metadata": {},
      "execution_count": null
    },
    {
      "cell_type": "markdown",
      "source": [
        "## Initial conditions\n\nWe have to set an initial condition on the age distribution of infected individuals; in the below, we use a 'top hat' initial condition, where we seed a small cohort of infected individuals in the first age bin, and all other infectious ompartments are empty at time `t=0`."
      ],
      "metadata": {}
    },
    {
      "outputs": [],
      "cell_type": "code",
      "source": [
        "S0            = 990.0          # susceptibles at t = 0\nI0            = zeros(nI)      # infection‑age density\nI0[1]         = 1000.0 - S0    # seed a small cohort in first bin\nI0           /= Δa             # convert prevalence to (unnormalized) density\nR0            = 0.0            # removed at t = 0, not reproductive number\nu0 = vcat(S0, I0, R0);         # [S, I₁,...,Iₙ, R]"
      ],
      "metadata": {},
      "execution_count": null
    },
    {
      "cell_type": "markdown",
      "source": [
        "## Solving the discretized PDE\n\nDiscretizing the PDE by age allows us to solve the model using the `OrdinaryDiffEq` package."
      ],
      "metadata": {}
    },
    {
      "outputs": [],
      "cell_type": "code",
      "source": [
        "prob_pde_mol = ODEProblem(pde_mol!, u0, tspan, p)\nsol_pde_mol = solve(prob_pde_mol, Tsit5(), saveat=Δt);"
      ],
      "metadata": {},
      "execution_count": null
    },
    {
      "cell_type": "markdown",
      "source": [
        "## Result processing\n\nWe extract the total population and the number of individuals in each compartment at each time point from the solution object. The total infected individuals are computed by summing the infection-age density across all age bins and multiplying by the bin width `Δa`."
      ],
      "metadata": {}
    },
    {
      "outputs": [],
      "cell_type": "code",
      "source": [
        "t_points = sol_pde_mol.t                   # time points\nS_sol = sol_pde_mol[1, :]                  # susceptibles\nI_sol = sol_pde_mol[2:end-1, :]            # infection-age density\nItotal_sol   = vec(sum(I_sol, dims=1)*Δa)  # total infected\nR_sol = sol_pde_mol[end, :]                # removed\nN_sol = S_sol .+ Itotal_sol .+ R_sol;      # total population"
      ],
      "metadata": {},
      "execution_count": null
    },
    {
      "cell_type": "markdown",
      "source": [
        "## Plotting"
      ],
      "metadata": {}
    },
    {
      "outputs": [],
      "cell_type": "code",
      "source": [
        "plot(t_points, S_sol, label=\"S\", xlabel=\"Time\", ylabel=\"Number\")\nplot!(t_points, Itotal_sol, label=\"ΣI\")\nplot!(t_points, R_sol, label=\"R\")\nplot!(t_points, N_sol, label=\"N\")"
      ],
      "metadata": {},
      "execution_count": null
    },
    {
      "cell_type": "markdown",
      "source": [
        "## Comparison with an ODE model\n\nWhile the above simulation looks superficially similar to those in other tutorials, we take a closer look by simulating the corresponding ODE model."
      ],
      "metadata": {}
    },
    {
      "outputs": [],
      "cell_type": "code",
      "source": [
        "function sir_ode!(du,u,p,t)\n    (S,I,R) = u\n    N = S+I+R\n    (β,γ) = p\n    @inbounds begin\n        du[1] = -β*S*I/N\n        du[2] = β*S*I/N - γ*I\n        du[3] = γ*I\n    end\n    nothing\nend\nu0_ode = [S0, sum(I0)*Δa, R0]\np_ode = (β, γ)\nprob_ode = ODEProblem(sir_ode!, u0_ode, tspan, p_ode)\nsol_ode = solve(prob_ode, Tsit5(), saveat = Δt);"
      ],
      "metadata": {},
      "execution_count": null
    },
    {
      "outputs": [],
      "cell_type": "code",
      "source": [
        "t_points_ode = sol_ode.t\nS_sol_ode = sol_ode[1,:]\nI_sol_ode = sol_ode[2,:]\nR_sol_ode = sol_ode[3,:]\nN_sol_ode = S_sol_ode + I_sol_ode + R_sol_ode;"
      ],
      "metadata": {},
      "execution_count": null
    },
    {
      "cell_type": "markdown",
      "source": [
        "Overlaying the dynamics of the PDE model show a good match with the ODE model."
      ],
      "metadata": {}
    },
    {
      "outputs": [],
      "cell_type": "code",
      "source": [
        "l = @layout [a b;c d]\np1 = plot(t_points_ode, S_sol_ode, label=\"S ODE\", xlabel=\"Time\", ylabel=\"Number\",lw=4,ls=:dot)\nplot!(p1, t_points, S_sol, label=\"S PDE\")\np2 = plot(t_points_ode, I_sol_ode, label=\"I ODE\", xlabel=\"Time\", ylabel=\"Number\",lw=4,ls=:dot)\nplot!(p2, t_points, Itotal_sol, label=\"I PDE\")\np3 = plot(t_points_ode, R_sol_ode, label=\"R ODE\", xlabel=\"Time\", ylabel=\"Number\",lw=4,ls=:dot)\nplot!(p3, t_points, R_sol, label=\"R PDE\")\np4 = plot(t_points_ode, N_sol_ode, label=\"N ODE\", xlabel=\"Time\", ylabel=\"Number\",lw=4,ls=:dot,ylim=(999,1001))\nplot!(p4, t_points, N_sol, label=\"N PDE\")\nplot(p1, p2, p3, p4, layout=l)"
      ],
      "metadata": {},
      "execution_count": null
    },
    {
      "cell_type": "markdown",
      "source": [
        "## Discussion\n\nUsing a partial differential equation (PDE) approach to model the age of infection allows a more flexible representation of the natural history of the disease. The above code can easily be adapted to consider e.g. time-varying infectiousness or recovery rates, at a cost of increased computational complexity. Approximations arise due to the discretization of the age of infection domain, with more bins leading to more accurate results but also longer computation times, as well as due to the upper boundary of the age of infection domain. In the above example, the age of infection was discretized into a fine grid, with an upper boundary that is sufficiently large to approximate the ODE dynamics.\n\nAs an aside, we can modify the ODE model to including 'ageing out' of the infection using a delay differential equation model, which subtracts any remaining infectious individuals who were infected `amax` time units ago and adds them to the recovered compartment."
      ],
      "metadata": {}
    },
    {
      "outputs": [],
      "cell_type": "code",
      "source": [
        "using DelayDiffEq\nfunction sir_dde!(du,u,h,p,t)\n    (S, I, R) = u\n    N= S + I + R\n    (β, γ, amax, S0, I0, R0) = p\n    (Sd, Id, Rd) = h(p, t-amax)\n    # β*Sd*Id/N = individuals infected at time t-amax\n    # exp(-γ*amax) = probability of not recovering between t-amax and t\n    outflow = exp(-γ*amax)*β*Sd*Id/N\n    @inbounds begin\n        du[1] = -β*S*I/N\n        du[2] = β*S*I/N - γ*I - outflow\n        du[3] = γ*I + outflow\n    end\n    nothing\nend\n# Assume that infectious individuals were introduced at time t=0 at the beginning of their infection\nfunction sir_history(p, t)\n    (β, γ, amax, S0, I0, R0) = p\n     N = S0 + I0 + R0\n    [N, 0.0, 0.0]\nend\nu0_dde = [S0, sum(I0)*Δa, R0] # Initial conditions the same as for the ODE model\np_dde = (β, γ, amax, S0, sum(I0)*Δa, R0) # History function needs the initial conditions\nprob_dde = DDEProblem(DDEFunction(sir_dde!), u0_dde, sir_history, tspan, p_dde, constant_lags = [amax]);\nsol_dde = solve(prob_dde, MethodOfSteps(Tsit5()), saveat = Δt);"
      ],
      "metadata": {},
      "execution_count": null
    }
  ],
  "nbformat_minor": 2,
  "metadata": {
    "language_info": {
      "file_extension": ".jl",
      "mimetype": "application/julia",
      "name": "julia",
      "version": "1.11.5"
    },
    "kernelspec": {
      "name": "julia-1.11",
      "display_name": "Julia 1.11.5",
      "language": "julia"
    }
  },
  "nbformat": 4
}
