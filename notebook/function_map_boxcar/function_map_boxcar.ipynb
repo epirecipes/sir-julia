{
  "cells": [
    {
      "cell_type": "markdown",
      "source": [
        "# Boxcar method for discrete-time SIR model with age-of-infection classes\nSandra Montes (@slmontes) and Simon Frost (@sdwfrost)\n2025-08-14\n\n## Introduction\n\nThe standard SIR model in discrete time assumes that the infectious period follows a geometric distribution, which may not be realistic for many diseases. The boxcar method allows us to approximate more realistic distributions of the infectious period by dividing the infected class into multiple age-of-infection classes, each with its own recovery hazard, such that infected individuals transition through age-of-infection classes.\n\n## Libraries"
      ],
      "metadata": {}
    },
    {
      "outputs": [],
      "cell_type": "code",
      "source": [
        "using Distributions\nusing DistributionsAD # enables AD rules for logpdf\nusing SimpleDiffEq\nusing Random\nusing Plots;"
      ],
      "metadata": {},
      "execution_count": null
    },
    {
      "cell_type": "markdown",
      "source": [
        "We set the random number seed for reproducibility."
      ],
      "metadata": {}
    },
    {
      "outputs": [],
      "cell_type": "code",
      "source": [
        "seed = 1234\nRandom.seed!(seed);"
      ],
      "metadata": {},
      "execution_count": null
    },
    {
      "cell_type": "markdown",
      "source": [
        "## Helper functions\n\nWe define a function to convert a rate to a proportion over a time interval; this allows us to map a rate for a continuous time process to a discrete time process (such that the discrete process tends towards the continuous time one as Δt→0."
      ],
      "metadata": {}
    },
    {
      "outputs": [],
      "cell_type": "code",
      "source": [
        "@inline function rate_to_proportion(r, Δt = 1.0)\n    if r < 0 || isnan(r)\n        return 0.0\n    elseif isinf(r)\n        return 1.0\n    else\n        result = 1 - exp(-r * Δt)\n        # Ensure result is valid\n        return isnan(result) ? 0.0 : max(min(result, 1.0), 0.0)\n    end\nend;"
      ],
      "metadata": {},
      "execution_count": null
    },
    {
      "cell_type": "markdown",
      "source": [
        "We generate a discrete hazard vector of length `K` from a distribution, truncated to `0:(K-1)`. This results in a hazard vector that has 1 as its last element, ensuring that individuals will eventually recover. In Distributions.jl, the geometric distribution has support `0, 1, 2, ...`, but is sometimes defined on `1, 2, ...` in other contexts; we assert that the lower bound is zero. Care has been taken to ensure that the function is compatible with automatic differentiation (AD), allowing it to be used in AD-dependent inference methods."
      ],
      "metadata": {}
    },
    {
      "outputs": [],
      "cell_type": "code",
      "source": [
        "function hazard_vector(dist::Distribution{Univariate,Discrete}, K::Integer)\n    @assert minimum(dist) == 0 \"Minimum of distribution is not zero!\"\n    ks = 0:(K-1)\n\n    # Unnormalised log-weights over the truncated support\n    logw = logpdf.(Ref(dist), ks)  # stays AD-friendly\n\n    # Normalise: logpmf = logw - logZ (stable log-sum-exp)\n    m = maximum(logw)\n    logZ = m + log(sum(exp.(logw .- m)))\n    logpmf = logw .- logZ\n    pmf = exp.(logpmf)\n\n    # Survival: P(X ≥ i) for i = 0..K-1\n    sf = reverse(cumsum(reverse(pmf)))\n\n    T = eltype(pmf)\n    default_h = T(0.01)\n    isok = (sf .> zero(T)) .& isfinite.(sf)\n    h = ifelse.(isok, pmf ./ sf, default_h)\n\n    # Clamp to [0, 1]\n    clamp.(h, zero(T), one(T))\nend;"
      ],
      "metadata": {},
      "execution_count": null
    },
    {
      "cell_type": "markdown",
      "source": [
        "The `mean` function in Distributions.jl does not currently support truncated distributions, so we define a function to calculate the mean of a truncated geometric distribution."
      ],
      "metadata": {}
    },
    {
      "outputs": [],
      "cell_type": "code",
      "source": [
        "function truncated_geometric_mean(p::Real, K::Integer)\n    @assert 0 < p < 1\n    @assert K ≥ 1\n    q = 1 - p\n    num = q - K*q^K + (K-1)*q^(K+1)\n    den = p * (1 - q^K)\n    return num / den\nend;"
      ],
      "metadata": {},
      "execution_count": null
    },
    {
      "cell_type": "markdown",
      "source": [
        "## Transitions\n\nFor comparison purposes, we implement a standard SIR model in discrete time with a single stage. This model uses transitions based on the Poisson distribution ([Allen et al. (1991)](https://doi.org/10.1016/0025-5564(91)90051-J) rather than an Euler approximation ([Allen (1994)](https://doi.org/10.1016/0025-5564(94)90025-6))."
      ],
      "metadata": {}
    },
    {
      "outputs": [],
      "cell_type": "code",
      "source": [
        "function sir_map!(du, u, p, t)\n    (β, pγ, Δt) = p\n\n    # Extract state variables\n    (S, I, R) = u\n    N = S + I + R     # total population\n    \n    # Calculate new infections\n    λ = rate_to_proportion(β * I / N, Δt)\n    new_inf = λ * S\n    new_rec = pγ * I\n\n    # Update\n    du[1] = S - new_inf \n    du[2] = I + new_inf - new_rec\n    du[3] = R + new_rec\n    \n    return nothing\nend;"
      ],
      "metadata": {},
      "execution_count": null
    },
    {
      "cell_type": "markdown",
      "source": [
        "We implement the boxcar method with `K` age-of-infection classes, each with its own recovery hazard, which is specified in the vector `h`, and replaces the single recovery probability `pγ` used in the model above."
      ],
      "metadata": {}
    },
    {
      "outputs": [],
      "cell_type": "code",
      "source": [
        "function sir_boxcar_map!(du, u, p, t)\n    # Unpack parameters\n    (β, h, K, Δt) = p\n    # Extract state variables and process\n    T = eltype(u)\n    S = u[1]\n    ΣI = sum(u[2:K+1])\n    R = u[K+2]\n    N = S + ΣI + R\n\n    # Calculate new infections\n    λ = rate_to_proportion(β * ΣI / N, Δt)\n    new_inf = λ * S\n\n    # Update S and start R accumulator\n    du[1] = S - new_inf\n    du[K+2] = R\n\n    # Initialize infected classes for next step\n    @inbounds begin\n        du[2] = new_inf\n        for k in 2:K\n            du[k+1] = zero(T)\n        end\n    end\n\n    # Progress cohorts\n    @inbounds for k in 1:K\n        current_I = u[k+1]\n        leave = current_I * h[k]\n        stay = current_I - leave\n        if k < K\n            du[k+2] += stay\n        end\n        du[K+2] += leave\n    end\n\n    return nothing\nend;"
      ],
      "metadata": {},
      "execution_count": null
    },
    {
      "cell_type": "markdown",
      "source": [
        "## Parameters\n\nWe simulate over a time period of 40 time units with a time step of 1.0. To allow us to generalize to different time steps, we define the number of time steps as `nsteps = tmax/Δt`."
      ],
      "metadata": {}
    },
    {
      "outputs": [],
      "cell_type": "code",
      "source": [
        "tmax = 40\nΔt = 1.0\nnsteps = Int(tmax/Δt);"
      ],
      "metadata": {},
      "execution_count": null
    },
    {
      "cell_type": "markdown",
      "source": [
        "The infectivity parameter is shared between the models."
      ],
      "metadata": {}
    },
    {
      "outputs": [],
      "cell_type": "code",
      "source": [
        "β = 0.5;"
      ],
      "metadata": {},
      "execution_count": null
    },
    {
      "cell_type": "markdown",
      "source": [
        "We set the recovery parameters for the standard geometric model."
      ],
      "metadata": {}
    },
    {
      "outputs": [],
      "cell_type": "code",
      "source": [
        "μ = 4.0    # Mean infectious period in standard exponential model\nγ = 1.0/μ  # Recovery rate in standard exponential model\npγ = rate_to_proportion(γ, Δt)\np = (β, pγ, Δt);"
      ],
      "metadata": {},
      "execution_count": null
    },
    {
      "cell_type": "markdown",
      "source": [
        "Note that this gives a mean infectious period that is different from the mean of the exponential distribution."
      ],
      "metadata": {}
    },
    {
      "outputs": [],
      "cell_type": "code",
      "source": [
        "mean(Exponential(μ)), mean(Geometric(pγ))*Δt"
      ],
      "metadata": {},
      "execution_count": null
    },
    {
      "cell_type": "markdown",
      "source": [
        "The above difference gets smaller as the time step `Δt` gets smaller. An alternative approach would be to set the mean of the geometric distribution to be equal to the mean of the exponential distribution, i.e. `pγ = 1/(μ + 1)`.\n\nTo implement the boxcar method, we need to define a discrete distribution for the infectious period. Here we use a geometric distribution with the same mean as the standard discrete-time SIR model, and then generated a hazard vector based on a truncated distributions with an upper bound of `K`."
      ],
      "metadata": {}
    },
    {
      "outputs": [],
      "cell_type": "code",
      "source": [
        "K = nsteps\nd = Geometric(pγ)\nh = hazard_vector(d, K)\np_boxcar = (β, h, K, Δt);"
      ],
      "metadata": {},
      "execution_count": null
    },
    {
      "cell_type": "markdown",
      "source": [
        "We choose the number of stages, `K` to be equal to the number of time steps in order to avoid issues with truncation of the infectious period distribution. The mean of the truncated geometric distribution is then very close to the mean of the untruncated distribution, and if we start the initial infected individuals in the first age of infection class, then these individuals will not be affected by the truncation."
      ],
      "metadata": {}
    },
    {
      "outputs": [],
      "cell_type": "code",
      "source": [
        "mean(d), truncated_geometric_mean(pγ,K)"
      ],
      "metadata": {},
      "execution_count": null
    },
    {
      "cell_type": "markdown",
      "source": [
        "In practice, a smaller number of stages may be sufficient to capture the dynamics.\n\n## Initial conditions\n\nTo initialize the model, we assume that a small proportion `ρ` of the population is infected, with the remainder being susceptible."
      ],
      "metadata": {}
    },
    {
      "outputs": [],
      "cell_type": "code",
      "source": [
        "ρ = 0.01\nu0 = [1.0 - ρ, ρ, 0.0];"
      ],
      "metadata": {},
      "execution_count": null
    },
    {
      "cell_type": "markdown",
      "source": [
        "In the boxcar model, we place all initial infected individuals in the first age-of-infection class. Alternative initial conditions include distributing the initial infected individuals evenly across all age-of-infection classes, or using the stationary distribution of the infectious period distribution."
      ],
      "metadata": {}
    },
    {
      "outputs": [],
      "cell_type": "code",
      "source": [
        "u0_boxcar = zeros(K+2)\nu0_boxcar[1] = 1.0 - ρ\nu0_boxcar[2] = ρ;"
      ],
      "metadata": {},
      "execution_count": null
    },
    {
      "cell_type": "markdown",
      "source": [
        "## Solving the models\n\nWe can now run both models and extract the results."
      ],
      "metadata": {}
    },
    {
      "outputs": [],
      "cell_type": "code",
      "source": [
        "prob = DiscreteProblem(sir_map!, u0, (0, nsteps), p)\nsol = solve(prob, SimpleFunctionMap())\nS = sol[1, :]\nΣI = sol[2, :]\nR = sol[3, :]\nN = S .+ ΣI .+ R;"
      ],
      "metadata": {},
      "execution_count": null
    },
    {
      "cell_type": "markdown",
      "source": [
        "For the boxcar model, we sum the infected individuals across all age-of-infection classes to get the total number of infected individuals at each time step."
      ],
      "metadata": {}
    },
    {
      "outputs": [],
      "cell_type": "code",
      "source": [
        "prob_boxcar = DiscreteProblem(sir_boxcar_map!, u0_boxcar, (0, nsteps), p_boxcar)\nsol_boxcar = solve(prob_boxcar, SimpleFunctionMap())\nS_boxcar = sol_boxcar[1, :]\nΣI_boxcar = sum.(eachcol(@view sol_boxcar[2:K+1, :]))\nR_boxcar = sol_boxcar[K+2, :]\nN_boxcar = S_boxcar .+ ΣI_boxcar .+ R_boxcar;"
      ],
      "metadata": {},
      "execution_count": null
    },
    {
      "cell_type": "markdown",
      "source": [
        "## Plotting the results\n\nA plot of the results show that the boxcar method produces an epidemic curve very close to the standard discrete-time SIR model, as expected since both models assume a geometric distribution for the infectious period. We plot out the total population size of the model, in order to check that it remains constant."
      ],
      "metadata": {}
    },
    {
      "outputs": [],
      "cell_type": "code",
      "source": [
        "p_gvsbox = plot(0:Δt:tmax, [S, ΣI, R, N], \n             label=[\"S - Standard\" \"I - Standard\" \"R - Standard\" \"N - Standard\"],\n             color=[:blue :red :green], linewidth=2, linestyle=:solid,\n             xlabel=\"Time Step\", ylabel=\"Population\",\n             title=\"Population Dynamics: Standard vs Boxcar Method\",\n             legend=:topright, grid=true)\n\nplot!(p_gvsbox, 0:Δt:tmax, [S_boxcar, ΣI_boxcar, R_boxcar, N_boxcar], \n      label=[\"S - Boxcar\" \"I - Boxcar\" \"R - Boxcar\" \"N - Boxcar\"],\n      color=[:lightblue :orange :lightgreen], linewidth=2, linestyle=:dash)\n\np_gvsbox"
      ],
      "metadata": {},
      "execution_count": null
    },
    {
      "cell_type": "markdown",
      "source": [
        "The results aren't *exactly* the same due to numerical differences in the way that the two models are implemented, but they are very close (the maximum absolute difference is on the order of 1e-4)."
      ],
      "metadata": {}
    },
    {
      "outputs": [],
      "cell_type": "code",
      "source": [
        "maximum([maximum(abs.(S .- S_boxcar)), maximum(abs.(ΣI .- ΣI_boxcar)), maximum(abs.(R .- R_boxcar))])"
      ],
      "metadata": {},
      "execution_count": null
    },
    {
      "cell_type": "markdown",
      "source": [
        "## Assuming a negative binomial infectious period\n\nThe geometric distribution is a special case of the negative binomial distribution with shape parameter `r = 1`. We can use the negative binomial distribution to approximate a more realistic infectious period by choosing a shape parameter `r > 1`.\n\nThe mean of a geometric distribution with support `0, 1, 2, ...` and success probability `p` is `(1 - p) / p`. The mean of a negative binomial distribution with shape parameter `r` and success probability `p` is `r * (1 - p) / p`. To match the means of the two distributions, we set the success probability of the negative binomial distribution to be `p_nb = (r * p) / (1 - p + r * p)`."
      ],
      "metadata": {}
    },
    {
      "outputs": [],
      "cell_type": "code",
      "source": [
        "nb_r = 4   # Shape parameter\nnb_p = (nb_r * pγ)/(1 - pγ + nb_r*pγ)\nnb_d = NegativeBinomial(nb_r, nb_p)\nh_nb = hazard_vector(nb_d, K)\np_boxcar_nb = (β, h_nb, K, Δt);"
      ],
      "metadata": {},
      "execution_count": null
    },
    {
      "cell_type": "markdown",
      "source": [
        "We can check that the mean of the negative binomial distribution is very close to the mean of the geometric distribution."
      ],
      "metadata": {}
    },
    {
      "outputs": [],
      "cell_type": "code",
      "source": [
        "mean(d)*Δt, mean(nb_d)*Δt"
      ],
      "metadata": {},
      "execution_count": null
    },
    {
      "cell_type": "markdown",
      "source": [
        "The standard deviation of the negative binomial is less than the geometric, assuming `r > 1`."
      ],
      "metadata": {}
    },
    {
      "outputs": [],
      "cell_type": "code",
      "source": [
        "std(d)*Δt, std(nb_d)*Δt"
      ],
      "metadata": {},
      "execution_count": null
    },
    {
      "cell_type": "markdown",
      "source": [
        "Running the negative binomial model simply involves passing a different hazard_vector to the boxcar model."
      ],
      "metadata": {}
    },
    {
      "outputs": [],
      "cell_type": "code",
      "source": [
        "prob_boxcar_nb = DiscreteProblem(sir_boxcar_map!, u0_boxcar, (0, nsteps), p_boxcar_nb)\nsol_boxcar_nb = solve(prob_boxcar_nb, SimpleFunctionMap())\nS_boxcar_nb = sol_boxcar_nb[1, :]\nΣI_boxcar_nb = sum.(eachcol(@view sol_boxcar_nb[2:K+1, :]))\nR_boxcar_nb = sol_boxcar_nb[K+2, :];"
      ],
      "metadata": {},
      "execution_count": null
    },
    {
      "outputs": [],
      "cell_type": "code",
      "source": [
        "p_gvsnb = plot(0:Δt:tmax, [S_boxcar, ΣI_boxcar, R_boxcar], \n             label=[\"S - G\" \"I - G\" \"R - G\"],\n             color=[:blue :red :green], linewidth=2, linestyle=:solid,\n             xlabel=\"Time Step\", ylabel=\"Population\",\n             title=\"Population Dynamics: Geometric Boxcar vs NB Boxcar\",\n             legend=:topright, grid=true)\n\nplot!(p_gvsnb, 0:Δt:tmax, [S_boxcar_nb, ΣI_boxcar_nb, R_boxcar_nb], \n      label=[\"S - NB\" \"I - NB\" \"R - NB\"],\n      color=[:blue :red :green], linewidth=2, linestyle=:dash)\n\np_gvsnb"
      ],
      "metadata": {},
      "execution_count": null
    },
    {
      "cell_type": "markdown",
      "source": [
        "Assuming a negative binomial (with a less dispersed infectious period) results in an earlier, higher epidemic peak."
      ],
      "metadata": {}
    }
  ],
  "nbformat_minor": 2,
  "metadata": {
    "language_info": {
      "file_extension": ".jl",
      "mimetype": "application/julia",
      "name": "julia",
      "version": "1.12.0"
    },
    "kernelspec": {
      "name": "julia-1.12",
      "display_name": "Julia 1.12.0",
      "language": "julia"
    }
  },
  "nbformat": 4
}
