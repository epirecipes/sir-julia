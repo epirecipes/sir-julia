{
  "cells": [
    {
      "cell_type": "markdown",
      "source": [
        "# Simulation of an SIR survival dynamical system (SDS)\nSimon Frost (@sdwfrost)\n2025-05-19\n\n## Introduction\n\nThis notebook implements an SIR (Susceptible-Infected-Recovered) model based on the work of [KhudaBukhsh et al. (2019)](https://doi.org/10.1098/rsfs.2019.0048). Their approach, known as a survival dynamical system (SDS), can generate case line lists by simulation, and also allows the inference of population-level parameters such as infectivity as well as natural history parameters such as the infectious period from line lists. Here, we implement a version of Algorithm 2.1 of KhudaBukhsh et al. (2019) to simulate line lists of infection and recovery times in Julia, with some modifications for clarity.\n\n## Libraries"
      ],
      "metadata": {}
    },
    {
      "outputs": [],
      "cell_type": "code",
      "source": [
        "using OrdinaryDiffEq\nusing DiffEqCallbacks\nusing Interpolations\nusing Distributions\nusing Random\nusing DataFrames\nusing Plots"
      ],
      "metadata": {},
      "execution_count": null
    },
    {
      "cell_type": "markdown",
      "source": [
        "## Transitions\n\nWe start with a deterministic SIR model, where we model the proportions of individuals in the susceptible and infected compartments, $S$ and $I$. For convenience, we will also keep track of the cumulative number of infections, $C$, which greatly simplifies the simulation algorithm. The model is defined by the following system of ordinary differential equations (ODEs)."
      ],
      "metadata": {}
    },
    {
      "outputs": [],
      "cell_type": "code",
      "source": [
        "function sir_ode!(du,u,p,t)\n    (S,I,C) = u\n    (β,γ) = p\n    @inbounds begin\n        du[1] = -β*S*I\n        du[2] = β*S*I - γ*I\n        du[3] = β*S*I\n    end\n    nothing\nend;"
      ],
      "metadata": {},
      "execution_count": null
    },
    {
      "cell_type": "markdown",
      "source": [
        "## Parameter values, initial conditions, and time span\n\nWe define the settings for the model below, consistent with other examples in the repository."
      ],
      "metadata": {}
    },
    {
      "outputs": [],
      "cell_type": "code",
      "source": [
        "tspan = (0.0, 10000.0)\ndt = 0.1\nu0 = [0.99, 0.01, 0.0]\np = [0.5, 0.25];"
      ],
      "metadata": {},
      "execution_count": null
    },
    {
      "cell_type": "markdown",
      "source": [
        "## Solving the model\n\nThe algorithm used by KhudaBukhsh et al. (2019) involves simulating the SIR ODE model until equilibrium in order to obtain the probability density function of the infection times. We implement this using a `TerminateSteadyState` callback from `DiffEqCallbacks.jl`."
      ],
      "metadata": {}
    },
    {
      "outputs": [],
      "cell_type": "code",
      "source": [
        "prob = ODEProblem(sir_ode!, u0, tspan, p)\ncb = TerminateSteadyState(1e-8)\nsol = solve(prob, Tsit5(); dt=dt, dtmax=dt, callback=cb);"
      ],
      "metadata": {},
      "execution_count": null
    },
    {
      "cell_type": "markdown",
      "source": [
        "## Plotting"
      ],
      "metadata": {}
    },
    {
      "outputs": [],
      "cell_type": "code",
      "source": [
        "plot(sol,\n     title=\"SIR Model\",\n     xlabel=\"Time\",\n     ylabel=\"Population Fraction\",\n     label=[\"Susceptible\" \"Infected\" \"Cumulative Infected\"])"
      ],
      "metadata": {},
      "execution_count": null
    },
    {
      "cell_type": "markdown",
      "source": [
        "## Sampling a line list\n\nThe cumulative number of infections, `C`, when normalized to the final size (`τ`), gives the cumulative density function (CDF), from which we can draw samples of infection times using the inversion method. We use linear interpolation for the inverse function (CDF to infection time)."
      ],
      "metadata": {}
    },
    {
      "outputs": [],
      "cell_type": "code",
      "source": [
        "τ = sol[end][3] # Final size\ntimes = sol.t # Simulation times\ncdfτ = [sol[i][3]/τ for i in 1:length(sol.t)] # CDF evaluated at `times`, obtained by C/τ\ninvcdfτ = LinearInterpolation(cdfτ, times, extrapolation_bc=Line());"
      ],
      "metadata": {},
      "execution_count": null
    },
    {
      "outputs": [],
      "cell_type": "code",
      "source": [
        "plot(times, cdfτ,\n     title=\"Cumulative Density Function\",\n     xlabel=\"Time\",\n     ylabel=\"Density of infection times\",\n     label=false)"
      ],
      "metadata": {},
      "execution_count": null
    },
    {
      "cell_type": "markdown",
      "source": [
        "We consider a simulation where we sample $N$ individuals who are initially susceptible, and $M$ individuals who are initially infected. We sample the infection times using the inverse function defined above, and then add on random draws from the infectious period to simulate recovery times. Each step in the process is commented below."
      ],
      "metadata": {}
    },
    {
      "outputs": [],
      "cell_type": "code",
      "source": [
        "N = 99 # Sample N initially susceptible\nM = 1 # Sample M initially infected\nK = rand(Binomial(N, τ)) # Number of infections during the epidemic\nTᵢ = zeros(M) # Assume times of infection for the M initially infected individuals are zero\nTᵢ = [Tᵢ; invcdfτ.(rand(K))] # Append infection times for K individuals\nTᵣ = Tᵢ .+ rand(Exponential(1/p[2]), M+K); # Recovery times for M+K infected individuals"
      ],
      "metadata": {},
      "execution_count": null
    },
    {
      "cell_type": "markdown",
      "source": [
        "We can then generate a dataframe of the infection and recovery times for further analysis."
      ],
      "metadata": {}
    },
    {
      "outputs": [],
      "cell_type": "code",
      "source": [
        "df = DataFrame(infection_time=Tᵢ, recovery_time=Tᵣ)"
      ],
      "metadata": {},
      "execution_count": null
    },
    {
      "cell_type": "markdown",
      "source": [
        "## Discussion\n\nA survival dynamical system offers a simple way to simulate case line lists. Real line lists often contain censored measurements e.g. observations, for example, if observations end before the end of the epidemic. The above output can be modified to censor the infection and recovery times, or the simulation code can be modified to allow simulation up to a fixed time point, `T`, rather than until equilibrium. The SDS approach, subsequently referred to as dynamical survival analysis, can be readily extended to consider more complex models than the SIR one used above."
      ],
      "metadata": {}
    }
  ],
  "nbformat_minor": 2,
  "metadata": {
    "language_info": {
      "file_extension": ".jl",
      "mimetype": "application/julia",
      "name": "julia",
      "version": "1.12.0"
    },
    "kernelspec": {
      "name": "julia-1.12",
      "display_name": "Julia 1.12.0",
      "language": "julia"
    }
  },
  "nbformat": 4
}
