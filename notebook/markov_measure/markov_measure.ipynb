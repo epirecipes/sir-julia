{
  "cells": [
    {
      "cell_type": "markdown",
      "source": [
        "# SIR model as a Markov chain with MeasureTheory.jl\nSean L. Wu (@slwu89), 2023-2-26\n\n## Introduction\n\nWe demonstrate how to use [MeasureTheory.jl](https://github.com/cscherrer/MeasureTheory.jl) to model\nand simulate a discrete-time Markov chain representation of the SIR model. Time is discretized\ninto step sizes $\\delta t$, and hazard accumulates according to an exponential CDF.\n\n## Libraries"
      ],
      "metadata": {}
    },
    {
      "outputs": [],
      "cell_type": "code",
      "source": [
        "using MeasureTheory\nimport Distributions\nusing Plots\nusing Random\nusing BenchmarkTools"
      ],
      "metadata": {},
      "execution_count": null
    },
    {
      "cell_type": "markdown",
      "source": [
        "## Utility functions"
      ],
      "metadata": {}
    },
    {
      "outputs": [],
      "cell_type": "code",
      "source": [
        "@inline function rate_to_proportion(r::Float64,t::Float64)\n    1-exp(-r*t)\nend;"
      ],
      "metadata": {},
      "execution_count": null
    },
    {
      "cell_type": "markdown",
      "source": [
        "## Transitions\n\nWhile we typically think of the state of the Markov chain SIR model as a vector of 3 numbers which\nmust add to the total population size $N$, to use MeasureTheory.jl to represent our probabilistic\nmodel we instead view the state as the number of occurances of the infection and recovery events.\nWhen viewing the state this way, the connection between other representations of the stochastic SIR model,\nsuch as those based on stochastic Petri nets becomes more clear. The randomness is in the two events,\neach of which is a counting process. Each event has an associated \"state change\" vector, which moves\npersons between compartments when it fires. This model is a discretization in time of that process.\n\nThe function `sir_markov!` takes as input `x`, the number of times each counting process has fired up\nto that point, $N_{\\text{inf}}(t), N_{\\text{rec}}(t)$, `u0`, a vector containing the initial values \nof (S, I, R), and `p`, a vector of parameters. \n\nThe per-capita event probabilities are then calculated, and the number of times each event may occur is a \nbinomial random variable. We use an `AffineTransform` combined with `pushfwd` to make sure that the\nbivariate Markov chain is defined on the cumulative number of firings.\n\nThe transition kernel returned is a `productmeasure` because, conditional on the state at the \"start\" of the time step,\nthe number of events of each type are independent."
      ],
      "metadata": {}
    },
    {
      "outputs": [],
      "cell_type": "code",
      "source": [
        "function sir_markov!(x, u0, p)\n    (β,c,γ,δt) = p\n\n    S, I, R = u0\n    @inbounds begin\n        S -= x[1]\n        I += x[1]\n        I -= x[2]\n        R += x[2]\n    end\n    N = S+I+R\n\n    si_prob = rate_to_proportion(β*c*I/N, δt)\n    ir_prob = rate_to_proportion(γ, δt)\n    si_rv = MeasureTheory.Binomial(S, si_prob)\n    ir_rv = MeasureTheory.Binomial(I, ir_prob)\n\n    N_inf = AffineTransform((μ=x[1],))\n    N_rec = AffineTransform((μ=x[2],))\n    \n    productmeasure([pushfwd(N_inf, si_rv), pushfwd(N_rec, ir_rv)])\nend"
      ],
      "metadata": {},
      "execution_count": null
    },
    {
      "cell_type": "markdown",
      "source": [
        "## Time domain"
      ],
      "metadata": {}
    },
    {
      "outputs": [],
      "cell_type": "code",
      "source": [
        "tmax = 40.0\ntspan = (0.0,tmax);"
      ],
      "metadata": {},
      "execution_count": null
    },
    {
      "cell_type": "markdown",
      "source": [
        "For plotting, we can also define a separate time series."
      ],
      "metadata": {}
    },
    {
      "outputs": [],
      "cell_type": "code",
      "source": [
        "δt = 0.1\nt = 0:δt:tmax;\nnsteps = Int(tmax / δt);"
      ],
      "metadata": {},
      "execution_count": null
    },
    {
      "cell_type": "markdown",
      "source": [
        "## Initial conditions"
      ],
      "metadata": {}
    },
    {
      "outputs": [],
      "cell_type": "code",
      "source": [
        "u0 = [990,10,0]; # S,I,R"
      ],
      "metadata": {},
      "execution_count": null
    },
    {
      "cell_type": "markdown",
      "source": [
        "## Parameter values"
      ],
      "metadata": {}
    },
    {
      "outputs": [],
      "cell_type": "code",
      "source": [
        "p = [0.05,10.0,0.25,δt]; # β,c,γ,δt"
      ],
      "metadata": {},
      "execution_count": null
    },
    {
      "cell_type": "markdown",
      "source": [
        "## Random number seed\n\nWe set a random number seed for reproducibility."
      ],
      "metadata": {}
    },
    {
      "outputs": [],
      "cell_type": "code",
      "source": [
        "Random.seed!(123);"
      ],
      "metadata": {},
      "execution_count": null
    },
    {
      "cell_type": "markdown",
      "source": [
        "## Running the model\n\nRunning this model involves:\n\n- Setting up the Markov chain as a `Chain`;\n- Adding the initial state as a `productmeasure` with two `Dirac` distributions both at 0 (nothing has occured yet)\n- Running the model, by using `take` to iterate the model our desired number of steps.\n- Reshape the output to a long matrix."
      ],
      "metadata": {}
    },
    {
      "outputs": [],
      "cell_type": "code",
      "source": [
        "mc = Chain(x -> sir_markov!(x, u0, p), productmeasure([Dirac(0), Dirac(0)]))\nr = rand(mc)\nsamp = Iterators.take(r, nsteps)\nsir_trace = collect(samp)\nsir_trace = transpose(hcat(sir_trace...))"
      ],
      "metadata": {},
      "execution_count": null
    },
    {
      "cell_type": "markdown",
      "source": [
        "## Post-processing\n\nIn order to get output comparable across implementations, we output the model at a fixed set of times."
      ],
      "metadata": {}
    },
    {
      "outputs": [],
      "cell_type": "code",
      "source": [
        "sir_out = transpose(hcat(fill(u0, nsteps+1)...))\nfor i in 2:nsteps+1\n    sir_out[i,1] -= sir_trace[i-1,1]\n    sir_out[i,2] += sir_trace[i-1,1]\n    sir_out[i,2] -= sir_trace[i-1,2]\n    sir_out[i,3] += sir_trace[i-1,2]\nend"
      ],
      "metadata": {},
      "execution_count": null
    },
    {
      "cell_type": "markdown",
      "source": [
        "## Plotting\n\nWe can now plot the results."
      ],
      "metadata": {}
    },
    {
      "outputs": [],
      "cell_type": "code",
      "source": [
        "plot(\n    t,\n    sir_out,\n    label=[\"S\" \"I\" \"R\"],\n    xlabel=\"Time\",\n    ylabel=\"Number\"\n)"
      ],
      "metadata": {},
      "execution_count": null
    },
    {
      "cell_type": "markdown",
      "source": [
        "## Benchmarking"
      ],
      "metadata": {}
    },
    {
      "outputs": [],
      "cell_type": "code",
      "source": [
        "@benchmark begin\n    state = deepcopy(u0);\n    mc = Chain(x -> sir_markov!(x, state, p), productmeasure([Dirac(0), Dirac(0)]))\n    r = rand(mc)\n    Iterators.take(r, nsteps)\nend"
      ],
      "metadata": {},
      "execution_count": null
    }
  ],
  "nbformat_minor": 2,
  "metadata": {
    "language_info": {
      "file_extension": ".jl",
      "mimetype": "application/julia",
      "name": "julia",
      "version": "1.8.5"
    },
    "kernelspec": {
      "name": "julia-1.8",
      "display_name": "Julia 1.8.5",
      "language": "julia"
    }
  },
  "nbformat": 4
}
