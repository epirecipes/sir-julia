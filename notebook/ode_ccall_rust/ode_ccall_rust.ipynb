{
  "cells": [
    {
      "cell_type": "markdown",
      "source": [
        "# Ordinary differential equation model with the vector field defined in Rust\nSimon Frost (@sdwfrost), 2024-06-03\n\n## Introduction\n\nWhile Julia is a high-level language, it is possible to define the vector field for an ordinary differential equation (ODE) in Rust and call it from Julia. This can be useful for performance reasons (if the calculation of the vector field in Julia happens to be slow), or if the vector field is already defined in Rust for example, in another codebase. Julia's `ccall` makes it easy to call a compiled Fortran function in a shared library, as Rust can generated C-compatible shared libraries.\n\n## Libraries"
      ],
      "metadata": {}
    },
    {
      "outputs": [],
      "cell_type": "code",
      "source": [
        "using OrdinaryDiffEq\nusing Libdl\nusing Plots\nusing BenchmarkTools"
      ],
      "metadata": {},
      "execution_count": null
    },
    {
      "cell_type": "markdown",
      "source": [
        "## Transitions\n\nWe define the vector field in Rust; it is easiest for this function to be in-place, so that we do not have to do any memory management on the Fortran side. This approach is also more efficient, as it reduces the number of allocations needed. We use the `[no_mangle]` pragma to ensure that the function is callable from Julia without mangling the function name, and `extern \"C\"` to allow it to be accessed from the shared library. We do not use `t` in the definition of the derivatives; as a consequence, Rust will issue a warning about unused variables. We can tell the compiler that we know that `t` is not used, by adding an underscore to the variable name."
      ],
      "metadata": {}
    },
    {
      "outputs": [],
      "cell_type": "code",
      "source": [
        "Rust_code = \"\"\"\n#![allow(non_snake_case)]\n#[no_mangle]\npub extern \"C\" fn sir_ode(du: &mut [f64; 3], u: &[f64; 3], p: &[f64; 3], _t: f64) {\n    let beta = p[0];\n    let c = p[1];\n    let gamma = p[2];\n    let S = u[0];\n    let I = u[1];\n    let R = u[2];\n    let N = S + I + R;\n    du[0] = -beta * c * S * I / N;\n    du[1] = beta * c * S * I / N - gamma * I;\n    du[2] = gamma * I;\n}\n\"\"\";"
      ],
      "metadata": {},
      "execution_count": null
    },
    {
      "cell_type": "markdown",
      "source": [
        "We then compile the code into a shared library using `gfortran`. We use `tempname` to create a temporary file name for the shared library; actually, this will be the filename without the extension, as we will add the extension later, as the extension is platform-dependent."
      ],
      "metadata": {}
    },
    {
      "outputs": [],
      "cell_type": "code",
      "source": [
        "const Rustlib = tempname();"
      ],
      "metadata": {},
      "execution_count": null
    },
    {
      "cell_type": "markdown",
      "source": [
        "We save the Rust code to a file and then compile it to a C type shared library using `rustc`."
      ],
      "metadata": {}
    },
    {
      "outputs": [],
      "cell_type": "code",
      "source": [
        "open(Rustlib * \".\" * \"rs\", \"w\") do f\n    write(f, Rust_code)\nend\nrun(`rustc --crate-type cdylib -o $(Rustlib * \".\" * Libdl.dlext) $(Rustlib * \".\" * \"rs\")`);"
      ],
      "metadata": {},
      "execution_count": null
    },
    {
      "cell_type": "markdown",
      "source": [
        "We can then define the ODE function in Julia, which calls the Rust function using `ccall`. `du`, `u`, `p` are arrays of `Float64`, which are passed using pointers. `t` is passed as a `Ref` to a `Float64`, which is a pointer to a `Float64` value. Note that this is the same signature if we had coded the function in C."
      ],
      "metadata": {}
    },
    {
      "outputs": [],
      "cell_type": "code",
      "source": [
        "function sir_ode_jl!(du,u,p,t)\n    ccall((:sir_ode,Rustlib,), Cvoid,\n          (Ptr{Float64}, Ptr{Float64}, Ptr{Float64}, Ptr{Float64}), du, u, p, Ref(t))\nend;"
      ],
      "metadata": {},
      "execution_count": null
    },
    {
      "cell_type": "markdown",
      "source": [
        "We can then proceed to solve the ODE using the `sir_ode_jl!` function as we would if the vector field were defined in Julia.\n\n## Time domain"
      ],
      "metadata": {}
    },
    {
      "outputs": [],
      "cell_type": "code",
      "source": [
        "δt = 0.1\ntmax = 40.0\ntspan = (0.0,tmax);"
      ],
      "metadata": {},
      "execution_count": null
    },
    {
      "cell_type": "markdown",
      "source": [
        "## Initial conditions and parameter values"
      ],
      "metadata": {}
    },
    {
      "outputs": [],
      "cell_type": "code",
      "source": [
        "u0 = [990.0,10.0,0.0] # S,I,R\np = [0.05,10.0,0.25]; # β,c,γ"
      ],
      "metadata": {},
      "execution_count": null
    },
    {
      "cell_type": "markdown",
      "source": [
        "## Solving the ODE"
      ],
      "metadata": {}
    },
    {
      "outputs": [],
      "cell_type": "code",
      "source": [
        "prob_ode = ODEProblem{true}(sir_ode_jl!, u0, tspan, p)\nsol_ode = solve(prob_ode, Tsit5(), dt = δt);"
      ],
      "metadata": {},
      "execution_count": null
    },
    {
      "cell_type": "markdown",
      "source": [
        "## Plotting"
      ],
      "metadata": {}
    },
    {
      "outputs": [],
      "cell_type": "code",
      "source": [
        "plot(sol_ode, labels=[\"S\" \"I\" \"R\"], lw = 2, xlabel = \"Time\", ylabel = \"Number\")"
      ],
      "metadata": {},
      "execution_count": null
    },
    {
      "cell_type": "markdown",
      "source": [
        "## Benchmarking"
      ],
      "metadata": {}
    },
    {
      "outputs": [],
      "cell_type": "code",
      "source": [
        "@benchmark solve(prob_ode, Tsit5(), dt = δt)"
      ],
      "metadata": {},
      "execution_count": null
    },
    {
      "cell_type": "markdown",
      "source": [
        "We can compare the performance of the Rust-based ODE with the Julia-based ODE."
      ],
      "metadata": {}
    },
    {
      "outputs": [],
      "cell_type": "code",
      "source": [
        "function sir_ode!(du,u,p,t)\n    (S,I,R) = u\n    (β,c,γ) = p\n    N = S+I+R\n    @inbounds begin\n        du[1] = -β*c*I/N*S\n        du[2] = β*c*I/N*S - γ*I\n        du[3] = γ*I\n    end\n    nothing\nend\nprob_ode2 = ODEProblem(sir_ode!, u0, tspan, p)\nsol_ode2 = solve(prob_ode2, Tsit5(), dt = δt)\n@benchmark solve(prob_ode2, Tsit5(), dt = δt)"
      ],
      "metadata": {},
      "execution_count": null
    },
    {
      "cell_type": "markdown",
      "source": [
        "Note that the performance of the Rust-based vector field is similar to the one defined in Julia."
      ],
      "metadata": {}
    }
  ],
  "nbformat_minor": 2,
  "metadata": {
    "language_info": {
      "file_extension": ".jl",
      "mimetype": "application/julia",
      "name": "julia",
      "version": "1.9.0"
    },
    "kernelspec": {
      "name": "julia-1.9",
      "display_name": "Julia 1.9.0",
      "language": "julia"
    }
  },
  "nbformat": 4
}
