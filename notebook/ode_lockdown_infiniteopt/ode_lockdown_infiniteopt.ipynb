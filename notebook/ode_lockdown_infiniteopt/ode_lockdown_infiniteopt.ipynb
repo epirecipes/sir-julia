{
  "cells": [
    {
      "cell_type": "markdown",
      "source": [
        "# Optimal control of an SIR epidemic with a non-pharmaceutical intervention using InfiniteOpt.jl\nSimon Frost (@sdwfrost), 2023-03-03\n\n## Introduction\n\nThis example considers the optimal control of an SIR epidemic through an intervention which reduces infection, according to the following set of equations. `S` is the number of susceptible individuals, `I` is the number of infected individuals, and `C` is the total number of cases. The infection rate is reduced according to a policy `υ(t)`. The optimal control problem is specified as the policy that minimizes the total number of cases (i.e. the final size) under the constraints (a) that `υ` cannot exceed a maximum value and (b) there is a cost, measured as the integral of `υ` over time, which cannot exceed a certain level.\n\n$$\n\\begin{align*}\n\\dfrac{\\mathrm dS}{\\mathrm dt} &= -\\beta (1 - \\upsilon(t)) S I, \\\\\n\\dfrac{\\mathrm dI}{\\mathrm dt} &= \\beta (1 - \\upsilon(t)) S I - \\gamma I,\\\\ \n\\dfrac{\\mathrm dC}{\\mathrm dt} &= \\beta (1 - \\upsilon(t)) S I\\\\\n\\end{align*}\n$$\n\nThe policy, `υ(t)`, is an infinite parameter, as it is defined over a continuous domain (time). [Britton and Leskela (2022)](https://arxiv.org/abs/2202.07780) have shown that the optimal policy for the above model is one with a single lockdown at the maximum level for `υ`, which is sustained until the cost has been reached. To determine whether the optimal policy can be identified numerically, we use `InfiniteOpt.jl`, an extension of the `JuMP` optimization package that can handle infinite parameters. This example is an adapted and simplified version of one in the documentation for `InfiniteOpt.jl`.\n\n## Libraries"
      ],
      "metadata": {}
    },
    {
      "outputs": [],
      "cell_type": "code",
      "source": [
        "using InfiniteOpt\nusing Ipopt\nusing Plots;"
      ],
      "metadata": {},
      "execution_count": null
    },
    {
      "cell_type": "markdown",
      "source": [
        "## Parameters\n\nWe set the parameters, which includes the maximum intervention level, `υ_max`, and the cost, which is the integral of the intervention level over time, `υ_total`."
      ],
      "metadata": {}
    },
    {
      "outputs": [],
      "cell_type": "code",
      "source": [
        "β = 0.5 # infectivity rate\nγ = 0.25 # recovery rate\nυ_max = 0.5 # maximum intervention\nυ_total = 10.0; # maximum cost"
      ],
      "metadata": {},
      "execution_count": null
    },
    {
      "cell_type": "markdown",
      "source": [
        "## Time domain\n\nWe set the final time, `tf`, to be sufficiently long that the system will settle to a steady state, and use a grid of timepoints fine enough to capture a wide variety of policy shapes."
      ],
      "metadata": {}
    },
    {
      "outputs": [],
      "cell_type": "code",
      "source": [
        "t0 = 0.0\ntf = 100.0\ndt = 0.1\nextra_ts = collect(dt:dt:tf-dt);"
      ],
      "metadata": {},
      "execution_count": null
    },
    {
      "cell_type": "markdown",
      "source": [
        "## Initial conditions\n\nWe set the initial conditions for the number of susceptibles, infecteds, and the total number of cases."
      ],
      "metadata": {}
    },
    {
      "outputs": [],
      "cell_type": "code",
      "source": [
        "S₀ = 0.99\nI₀ = 0.01\nC₀ = 0.00;"
      ],
      "metadata": {},
      "execution_count": null
    },
    {
      "cell_type": "markdown",
      "source": [
        "## Model setup\n\nWe specify a model using `InfiniteModel`, passing an optimizer."
      ],
      "metadata": {}
    },
    {
      "outputs": [],
      "cell_type": "code",
      "source": [
        "model = InfiniteModel(Ipopt.Optimizer)\nset_optimizer_attribute(model, \"print_level\", 0);"
      ],
      "metadata": {},
      "execution_count": null
    },
    {
      "cell_type": "markdown",
      "source": [
        "We now declare time as an infinite parameter using the `@infinite_parameter` macro, specifying the time domain, and adding in the intermediate timepoints. The settings above give a relatively fine grid, over which our policy, `υ`, can change."
      ],
      "metadata": {}
    },
    {
      "outputs": [],
      "cell_type": "code",
      "source": [
        "@infinite_parameter(model, t ∈ [t0, tf], num_supports = length(extra_ts) + 2, \n                    derivative_method = OrthogonalCollocation(2))\nadd_supports(t, extra_ts);"
      ],
      "metadata": {},
      "execution_count": null
    },
    {
      "cell_type": "markdown",
      "source": [
        "We now declare our state variables as being positive and a function of time."
      ],
      "metadata": {}
    },
    {
      "outputs": [],
      "cell_type": "code",
      "source": [
        "@variable(model, S ≥ 0, Infinite(t))\n@variable(model, I ≥ 0, Infinite(t))\n@variable(model, C ≥ 0, Infinite(t));"
      ],
      "metadata": {},
      "execution_count": null
    },
    {
      "cell_type": "markdown",
      "source": [
        "We constrain our policy, `υ(t)` to lie between 0 and `υ_max`, with an initial condition of 0, and constrain the integral of the intervention to be less than or equal to `υ_total`."
      ],
      "metadata": {}
    },
    {
      "outputs": [],
      "cell_type": "code",
      "source": [
        "@variable(model, 0 ≤ υ ≤ υ_max, Infinite(t), start = 0.0)\n@constraint(model, υ_total_constr, ∫(υ, t) ≤ υ_total);"
      ],
      "metadata": {},
      "execution_count": null
    },
    {
      "cell_type": "markdown",
      "source": [
        "We declare our objective as minimizing the total number of cases at the final timepoint."
      ],
      "metadata": {}
    },
    {
      "outputs": [],
      "cell_type": "code",
      "source": [
        "@objective(model, Min, C(tf));"
      ],
      "metadata": {},
      "execution_count": null
    },
    {
      "cell_type": "markdown",
      "source": [
        "We set the initial conditions as constraints."
      ],
      "metadata": {}
    },
    {
      "outputs": [],
      "cell_type": "code",
      "source": [
        "@constraint(model, S(0) == S₀)\n@constraint(model, I(0) == I₀)\n@constraint(model, C(0) == C₀);"
      ],
      "metadata": {},
      "execution_count": null
    },
    {
      "cell_type": "markdown",
      "source": [
        "We now add additional constraints corresponding to the differential equations for `S`, `I`, and `C`."
      ],
      "metadata": {}
    },
    {
      "outputs": [],
      "cell_type": "code",
      "source": [
        "@constraint(model, S_constr, ∂(S, t) == -(1 - υ) * β * S * I)\n@constraint(model, I_constr, ∂(I, t) == (1 - υ) * β * S * I - γ * I)\n@constraint(model, C_constr, ∂(C, t) == (1 - υ) * β * S * I);"
      ],
      "metadata": {},
      "execution_count": null
    },
    {
      "cell_type": "markdown",
      "source": [
        "Now that we have fully defined our model, we can display it using `print`."
      ],
      "metadata": {}
    },
    {
      "outputs": [],
      "cell_type": "code",
      "source": [
        "print(model)"
      ],
      "metadata": {},
      "execution_count": null
    },
    {
      "cell_type": "markdown",
      "source": [
        "## Running the model\n\nWe optimize the model in-place."
      ],
      "metadata": {}
    },
    {
      "outputs": [],
      "cell_type": "code",
      "source": [
        "optimize!(model)"
      ],
      "metadata": {},
      "execution_count": null
    },
    {
      "cell_type": "markdown",
      "source": [
        "We can check the termination status of the optimizer, to check whether it has converged."
      ],
      "metadata": {}
    },
    {
      "outputs": [],
      "cell_type": "code",
      "source": [
        "termination_status(model)"
      ],
      "metadata": {},
      "execution_count": null
    },
    {
      "cell_type": "markdown",
      "source": [
        "## Post-processing\n\nWe can now extract the optimized values of `S`, `I`, and `C`, as well as the optimal policy, `υ`, as follows."
      ],
      "metadata": {}
    },
    {
      "outputs": [],
      "cell_type": "code",
      "source": [
        "S_opt = value(S, ndarray = true)\nI_opt = value(I, ndarray = true)\nC_opt = value(C, ndarray = true)\nυ_opt = value(υ, ndarray = true)\nobj_opt = objective_value(model)\nts = value(t);"
      ],
      "metadata": {},
      "execution_count": null
    },
    {
      "cell_type": "markdown",
      "source": [
        "## Plotting\n\nThe optimal value for `t₁` is obtained from [this example](https://github.com/epirecipes/sir-julia/blob/master/markdown/ode_lockdown_optimization/ode_lockdown_optimization.md)."
      ],
      "metadata": {}
    },
    {
      "outputs": [],
      "cell_type": "code",
      "source": [
        "t₁ = 14.338623046875002\nt₂ = t₁ + υ_total/υ_max"
      ],
      "metadata": {},
      "execution_count": null
    },
    {
      "cell_type": "markdown",
      "source": [
        "Plotting the results demonstrates that the optimizer has identified a policy close to the optimal one, which is a single lockdown of intensity `υ_max` and a duration `υ_total/υ_max`."
      ],
      "metadata": {}
    },
    {
      "outputs": [],
      "cell_type": "code",
      "source": [
        "plot(ts, S_opt, label=\"S\", xlabel=\"Time\", ylabel=\"Number\")\nplot!(ts, I_opt, label=\"I\")\nplot!(ts, C_opt, label=\"C\")\nplot!(ts, υ_opt, label=\"Optimized υ\")\nvspan!([t₁, t₂], color=:gray, alpha=0.5, label=\"Exact υ\")"
      ],
      "metadata": {},
      "execution_count": null
    }
  ],
  "nbformat_minor": 2,
  "metadata": {
    "language_info": {
      "file_extension": ".jl",
      "mimetype": "application/julia",
      "name": "julia",
      "version": "1.8.5"
    },
    "kernelspec": {
      "name": "julia-1.8",
      "display_name": "Julia 1.8.5",
      "language": "julia"
    }
  },
  "nbformat": 4
}
