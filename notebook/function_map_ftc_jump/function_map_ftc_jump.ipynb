{
  "cells": [
    {
      "cell_type": "markdown",
      "source": [
        "# 'Flattening the curve' of an SIR epidemic with a non-pharmaceutical intervention using JuMP.jl\nSimon Frost (@sdwfrost), 2023-04-27\n\n## Introduction\n\nThis example considers the optimal control of an SIR epidemic through an intervention which reduces infection, according to the following set of equations. `S` is the number of susceptible individuals, `I` is the number of infected individuals, and `C` is the total number of cases. The infection rate is reduced according to a policy `υ(t)`. The optimal control problem is specified as the policy that minimizes the total cost, measured as the integral of `υ` over time, while keeping the number of infected individuals below a threshold `I_max`, in order to 'flatten the curve'.\n\n$$\n\\begin{align*}\n\\dfrac{\\mathrm dS}{\\mathrm dt} &= -\\beta (1 - \\upsilon(t)) S I, \\\\\n\\dfrac{\\mathrm dI}{\\mathrm dt} &= \\beta (1 - \\upsilon(t)) S I - \\gamma I,\\\\ \n\\dfrac{\\mathrm dC}{\\mathrm dt} &= \\beta (1 - \\upsilon(t)) S I\\\\\n\\end{align*}\n$$\n\nWe discretize the above system using a fixed time step (as in [this example](https://github.com/epirecipes/sir-julia/blob/master/markdown/function_map/function_map.md)), and then use `JuMP.jl` to optimize.\n\n## Libraries"
      ],
      "metadata": {}
    },
    {
      "outputs": [],
      "cell_type": "code",
      "source": [
        "using JuMP\nusing Ipopt\nusing Plots;"
      ],
      "metadata": {},
      "execution_count": null
    },
    {
      "cell_type": "markdown",
      "source": [
        "## Parameters\n\nWe set the parameters, which includes the maximum intervention level, `υ_max`, and the threshold proportion of infected individuals, `I_max`."
      ],
      "metadata": {}
    },
    {
      "outputs": [],
      "cell_type": "code",
      "source": [
        "β = 0.5 # infectivity rate\nγ = 0.25 # recovery rate\nυ_max = 0.5 # maximum intervention\nI_max = 0.1 # maximum allowable infectives at one time\nsilent = true;"
      ],
      "metadata": {},
      "execution_count": null
    },
    {
      "cell_type": "markdown",
      "source": [
        "## Time domain\n\nWe set the time horizon to be long enough for the system to settle down to an equilibrium. We use a grid of timepoints fine enough to capture a wide variety of policy shapes, but coarse enough to keep the number of policy parameters to optimize low."
      ],
      "metadata": {}
    },
    {
      "outputs": [],
      "cell_type": "code",
      "source": [
        "t0 = 0.0 # start time\ntf = 100.0 # final time\nδt = 0.1 # timestep\nT = Int(tf/δt); # number of timesteps"
      ],
      "metadata": {},
      "execution_count": null
    },
    {
      "cell_type": "markdown",
      "source": [
        "## Initial conditions\n\nWe set the initial conditions for the number of susceptibles, infecteds, and the total number of cases."
      ],
      "metadata": {}
    },
    {
      "outputs": [],
      "cell_type": "code",
      "source": [
        "S₀ = 0.99\nI₀ = 0.01\nC₀ = 0.00;"
      ],
      "metadata": {},
      "execution_count": null
    },
    {
      "cell_type": "markdown",
      "source": [
        "## Model setup\n\nWe specify a model using `JuMP.Model`, passing an optimizer."
      ],
      "metadata": {}
    },
    {
      "outputs": [],
      "cell_type": "code",
      "source": [
        "model = Model(Ipopt.Optimizer)"
      ],
      "metadata": {},
      "execution_count": null
    },
    {
      "cell_type": "markdown",
      "source": [
        "We now declare the number of timesteps, `T`, and vectors of our model variables, including the intervention level, `ν`,  each `T+1` steps long. We also define the total cost of the intervention, `υ_total`."
      ],
      "metadata": {}
    },
    {
      "outputs": [],
      "cell_type": "code",
      "source": [
        "@variable(model, S[1:(T+1)])\n@variable(model, I[1:(T+1)])\n@variable(model, C[1:(T+1)])\n@variable(model, υ[1:(T+1)])\n@variable(model, υ_total);"
      ],
      "metadata": {},
      "execution_count": null
    },
    {
      "cell_type": "markdown",
      "source": [
        "We constrain the variables, `S`, `I`, and `C` to be at their initial conditions for the first element of the array, and between 0 and 1 (as we are using proportions) for the others, with the exception of the proportion of infected individuals, `I`, which is constrained to be less than `I_max`."
      ],
      "metadata": {}
    },
    {
      "outputs": [],
      "cell_type": "code",
      "source": [
        "# Initial conditions\n@constraint(model, S[1]==S₀)\n@constraint(model, I[1]==I₀)\n@constraint(model, C[1]==C₀)\n\n# Constraints on variables\n@constraint(model, [t=2:(T+1)], 0 ≤  S[t] ≤ 1)\n@constraint(model, [t=2:(T+1)], 0 ≤  I[t] ≤ I_max)\n@constraint(model, [t=2:(T+1)], 0 ≤  C[t] ≤ 1);"
      ],
      "metadata": {},
      "execution_count": null
    },
    {
      "cell_type": "markdown",
      "source": [
        "We constrain our policy, `υ(t)` to lie between 0 and `υ_max`, and define the integral of the intervention to be equal to `υ_total`, assuming that the intervention is piecewise constant during each time step."
      ],
      "metadata": {}
    },
    {
      "outputs": [],
      "cell_type": "code",
      "source": [
        "@constraint(model, [t=1:(T+1)], 0 ≤  υ[t] ≤ υ_max);\n@constraint(model, δt*sum(υ) == υ_total);"
      ],
      "metadata": {},
      "execution_count": null
    },
    {
      "cell_type": "markdown",
      "source": [
        "To simplify the model constraints, we define nonlinear expressions for infection and recovery. We only need a vector that is `T` steps long."
      ],
      "metadata": {}
    },
    {
      "outputs": [],
      "cell_type": "code",
      "source": [
        "@NLexpression(model, infection[t=1:T], (1-exp(-(1 - υ[t]) * β * I[t] * δt)) * S[t])\n@NLexpression(model, recovery[t=1:T], (1-exp(-γ*δt)) * I[t]);"
      ],
      "metadata": {},
      "execution_count": null
    },
    {
      "cell_type": "markdown",
      "source": [
        "We now add additional constraints corresponding to the function map for `S`, `I`, and `C`. These have to be nonlinear constraints due to the inclusion of nonlinear expressions."
      ],
      "metadata": {}
    },
    {
      "outputs": [],
      "cell_type": "code",
      "source": [
        "@NLconstraint(model, [t=1:T], S[t+1] == S[t] - infection[t])\n@NLconstraint(model, [t=1:T], I[t+1] == I[t] + infection[t] - recovery[t])\n@NLconstraint(model, [t=1:T], C[t+1] == C[t] + infection[t]);"
      ],
      "metadata": {},
      "execution_count": null
    },
    {
      "cell_type": "markdown",
      "source": [
        "We declare our objective as minimizing the total cost of the intervention plus the smoothing penalty."
      ],
      "metadata": {}
    },
    {
      "outputs": [],
      "cell_type": "code",
      "source": [
        "@objective(model, Min, υ_total);"
      ],
      "metadata": {},
      "execution_count": null
    },
    {
      "cell_type": "markdown",
      "source": [
        "## Running the model\n\nWe optimize the model in-place."
      ],
      "metadata": {}
    },
    {
      "outputs": [],
      "cell_type": "code",
      "source": [
        "if silent\n    set_silent(model)\nend\noptimize!(model)"
      ],
      "metadata": {},
      "execution_count": null
    },
    {
      "cell_type": "markdown",
      "source": [
        "We can check the termination status of the optimizer, to check whether it has converged."
      ],
      "metadata": {}
    },
    {
      "outputs": [],
      "cell_type": "code",
      "source": [
        "termination_status(model)"
      ],
      "metadata": {},
      "execution_count": null
    },
    {
      "cell_type": "markdown",
      "source": [
        "## Post-processing\n\nWe can now extract the optimized values of `S`, `I`, and `C`, as well as the optimal policy, `υ`, as follows. We also calculate the time-varying reproductive number, `Rₜ`, both in the presence and in the absence of interventions."
      ],
      "metadata": {}
    },
    {
      "outputs": [],
      "cell_type": "code",
      "source": [
        "S_opt = value.(S)\nI_opt = value.(I)\nC_opt = value.(C)\nυ_opt = value.(υ)\nRₜ_opt = β * S_opt/γ # absence of intervention\nRₜ′_opt = Rₜ_opt .* (1 .- υ_opt) # in presence of intervention\nts = collect(0:δt:tf);"
      ],
      "metadata": {},
      "execution_count": null
    },
    {
      "cell_type": "markdown",
      "source": [
        "We calculate the time at which `Rₜ==1` using a root-finding approach."
      ],
      "metadata": {}
    },
    {
      "outputs": [],
      "cell_type": "code",
      "source": [
        "using DataInterpolations\nusing NonlinearSolve\nRₜ_interp = CubicSpline(Rₜ_opt,ts)\nf(u, p) = [Rₜ_interp(u[1]) - 1.0]\nu0 = [(tf-t0)/2]\nRtprob = NonlinearProblem(f, u0)\nRtsol = solve(Rtprob, NewtonRaphson(), abstol = 1e-9).u[1];"
      ],
      "metadata": {},
      "execution_count": null
    },
    {
      "cell_type": "markdown",
      "source": [
        "## Plotting"
      ],
      "metadata": {}
    },
    {
      "outputs": [],
      "cell_type": "code",
      "source": [
        "plot(ts, S_opt, label=\"S\", xlabel=\"Time\", ylabel=\"Number\", legend=:right, xlim=(0,60))\nplot!(ts, I_opt, label=\"I\")\nplot!(ts, C_opt, label=\"C\")\nplot!(ts, υ_opt, label=\"Optimized υ\")\nhline!([I_max], color=:gray, alpha=0.5, label=\"Threshold I\")\nhline!([υ_max], color=:orange, alpha=0.5, label=\"Threshold υ\")"
      ],
      "metadata": {},
      "execution_count": null
    },
    {
      "cell_type": "markdown",
      "source": [
        "The optimal policy involves a single lockdown, that increases rapidly at or shortly before infecteds reach their threshold level, after which the strength of the lockdown is decreased. We can consider the total cost as the area under the policy curve.\n\nA plot of `Rₜ` over time shows that the intervention targets `Rₜ=1` (including intervention) at the threshold level of infected individuals, while lockdown is stopped when `Rₜ==1` in the absence of an intervention, such that the infected population size will not increase."
      ],
      "metadata": {}
    },
    {
      "outputs": [],
      "cell_type": "code",
      "source": [
        "plot(ts, Rₜ_opt, label=\"Rₜ\", xlabel=\"Time\", ylabel=\"Number\", legend=:right, xlim=(0,60))\nplot!(ts, Rₜ′_opt, label=\"Rₜ including policy\")\nplot!(ts, υ_opt, label=\"Optimized υ\")\nvline!([Rtsol], color=:gray, alpha=0.5, label=false)\nhline!([1.0], color=:gray, alpha=0.5, label=false)"
      ],
      "metadata": {},
      "execution_count": null
    },
    {
      "cell_type": "markdown",
      "source": [
        "## Discussion\n\nCompared to [a model where the total number of infections is minimized](https://github.com/epirecipes/sir-julia/blob/master/markdown/function_map_lockdown_jump/function_map_lockdown_jump.md), keeping infecteds below a threshold while minimizing the cost of the intervention also results in a single intervention period, but where the strength of the intervention wanes over time. However, there are some important barriers to translating this result to a real intervention policy. It may not be possible to fine tune the intensity of the intervention over time; rather a series of staged interventions with different intensities may be used. The impact of the intervention may be unknown prior to it being implemented; lower efficacies require the intervention to be initiated with a longer lead time before the infected threshold is reached. Stopping the intervention requires knowledge of what the 'R number' is in the absence of intervention; this requires reliable estimates of `Rₜ` as well as the intensity of the intervention, `υ`. These uncertainties are in addition to the usual uncertainty in model structure and parameter values of the underlying model."
      ],
      "metadata": {}
    }
  ],
  "nbformat_minor": 2,
  "metadata": {
    "language_info": {
      "file_extension": ".jl",
      "mimetype": "application/julia",
      "name": "julia",
      "version": "1.9.0"
    },
    "kernelspec": {
      "name": "julia-1.9",
      "display_name": "Julia 1.9.0",
      "language": "julia"
    }
  },
  "nbformat": 4
}
