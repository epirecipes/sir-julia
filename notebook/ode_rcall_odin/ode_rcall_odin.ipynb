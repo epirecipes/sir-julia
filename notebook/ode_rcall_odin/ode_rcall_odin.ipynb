{
  "cells": [
    {
      "cell_type": "markdown",
      "source": [
        "# Ordinary differential equation model with the vector field defined in R\nSimon Frost (@sdwfrost), 2024-06-03\n\n## Introduction\n\nWhile Julia is a high-level language, it is possible to define the vector field for an ordinary differential equation (ODE) in another language and call it from Julia. This can be useful if the vector field is already defined in R, for example, in another codebase. As code in R may be slow, there is a package [`odin`](https://mrc-ide.github.io/odin), which allows C code to be emitted from an R-like domain specific langugage; this can result in much faster simulations. We use the `RCall` library to interface Julia with the `odin` package R. This notebook requires an R installation, with the `odin` package installed.\n\n## Libraries"
      ],
      "metadata": {}
    },
    {
      "outputs": [],
      "cell_type": "code",
      "source": [
        "using OrdinaryDiffEq\nusing RCall\nusing Plots\nusing BenchmarkTools"
      ],
      "metadata": {},
      "execution_count": null
    },
    {
      "cell_type": "markdown",
      "source": [
        "## Transitions\n\nModels written in `odin` look a lot like R code, making it relatively easy to define the vector field in R. Here we define a simple SIR model in `odin`. The use of `user` allows initial conditions and model parameters to be modified. Unlike standard R code, we do not explicitly return the derivatives."
      ],
      "metadata": {}
    },
    {
      "outputs": [],
      "cell_type": "code",
      "source": [
        "R\"\"\"\nsir_ode_odin <- odin::odin({\n    ## Derivatives\n    deriv(S) <- -beta*cee*S*I/N\n    deriv(I) <- beta*cee*S*I/N-gamma*I\n    deriv(R) <- gamma*I\n    N <- S + I + R\n    \n    ## Initial conditions\n    u[] <- user()\n    dim(u) <- 3\n    initial(S) <- u[1]\n    initial(I) <- u[2]\n    initial(R) <- u[3]\n  \n    ## Parameters\n    p[] <- user()\n    dim(p) <- 3\n    beta <- p[1]\n    cee <- p[2]\n    gamma <- p[3]\n  }, verbose=FALSE, target=\"c\")\n\"\"\";"
      ],
      "metadata": {},
      "execution_count": null
    },
    {
      "cell_type": "markdown",
      "source": [
        "The above code compiles an R6 class that can be used to run the model in R. To access it from Julia, we write some R wrapper code that returns the vector field in a form that can be more easily called from Julia, and avoids the overhead of creating new instances of the R6 class."
      ],
      "metadata": {}
    },
    {
      "outputs": [],
      "cell_type": "code",
      "source": [
        "R\"\"\"\nsir_ode_odin_model <- sir_ode_odin$new(user=list(u=c(990.0,10.0,0.0),\n                                       p=c(0.05,10.0,0.25)))\n\nsir_ode_odin_f <- function(u,p,t){\n    sir_ode_odin_model$set_user(user=list(u=u,p=p))\n    return(sir_ode_odin_model$deriv(t,u))\n}\n\"\"\";"
      ],
      "metadata": {},
      "execution_count": null
    },
    {
      "cell_type": "markdown",
      "source": [
        "We then wrap the R function in a Julia function, converting the output to an `Array`."
      ],
      "metadata": {}
    },
    {
      "outputs": [],
      "cell_type": "code",
      "source": [
        "function sir_ode_odin_jl(u,p,t)\n    robj = rcall(:sir_ode_odin_f, u, p, t)\n    return convert(Array,robj)\nend;"
      ],
      "metadata": {},
      "execution_count": null
    },
    {
      "cell_type": "markdown",
      "source": [
        "We can then proceed to solve the ODE using the `sir_ode_odin_jl` function as we would if the vector field were defined in Julia."
      ],
      "metadata": {}
    },
    {
      "outputs": [],
      "cell_type": "code",
      "source": [
        "δt = 0.1\ntmax = 40.0\ntspan = (0.0,tmax);\nu0 = [990.0,10.0,0.0] # S,I,R\np = [0.05,10.0,0.25]; # β,c,γ"
      ],
      "metadata": {},
      "execution_count": null
    },
    {
      "cell_type": "markdown",
      "source": [
        "To ensure that the above out-of-place version works, we specify `ODEProblem{false}`."
      ],
      "metadata": {}
    },
    {
      "outputs": [],
      "cell_type": "code",
      "source": [
        "prob_ode_odin = ODEProblem{false}(sir_ode_odin_jl, u0, tspan, p)\nsol_ode_odin = solve(prob_ode_odin, Tsit5(), dt = δt)\nplot(sol_ode_odin, labels=[\"S\" \"I\" \"R\"], lw=2, xlabel=\"Time\", ylabel=\"Number\")"
      ],
      "metadata": {},
      "execution_count": null
    },
    {
      "cell_type": "markdown",
      "source": [
        "## Benchmarking\n\n### odin version"
      ],
      "metadata": {}
    },
    {
      "outputs": [],
      "cell_type": "code",
      "source": [
        "@benchmark solve(prob_ode_odin, Tsit5(), dt = δt)"
      ],
      "metadata": {},
      "execution_count": null
    },
    {
      "cell_type": "markdown",
      "source": [
        "### Julia out-of-place version\n\nWe can compare the performance of the R-based ODE with the (in-place) Julia-based ODE."
      ],
      "metadata": {}
    },
    {
      "outputs": [],
      "cell_type": "code",
      "source": [
        "function sir_ode_julia!(du,u,p,t)\n    (S,I,R) = u\n    (β,c,γ) = p\n    N = S+I+R\n    du[1] = dS = -β*c*I/N*S\n    du[2] = dI = β*c*I/N*S - γ*I\n    du[3] = dR = γ*I\nend\nprob_ode_julia = ODEProblem(sir_ode_julia!, u0, tspan, p)\nsol_ode_julia = solve(prob_ode_julia, Tsit5(), dt = δt)\n@benchmark solve(prob_ode_julia, Tsit5(), dt = δt)"
      ],
      "metadata": {},
      "execution_count": null
    },
    {
      "cell_type": "markdown",
      "source": [
        "On my machine, the Julia code runs faster than the R code; this in part reflects the overhead of the foreign function calls into R. We can also run the simulation entirely within R, reducing the number of calls from Julia to R to 1."
      ],
      "metadata": {}
    },
    {
      "outputs": [],
      "cell_type": "code",
      "source": [
        "R\"\"\"\nsir_ode_model <- sir_ode_odin$new(user=list(u=c(990.0,10.0,0.0),\n                                       p=c(0.05,10.0,0.25)))\nsir_ode_run <- function(t){\n    return(sir_ode_model$run(t))\n}\n\"\"\";"
      ],
      "metadata": {},
      "execution_count": null
    },
    {
      "outputs": [],
      "cell_type": "code",
      "source": [
        "out = rcall(:sir_ode_run, collect(0:δt:tmax))\n@benchmark rcall(:sir_ode_run, collect(0:δt:tmax))"
      ],
      "metadata": {},
      "execution_count": null
    },
    {
      "cell_type": "markdown",
      "source": [
        "While this is not as fast as the Julia code, it is much faster than repeatedly calling the R function from Julia."
      ],
      "metadata": {}
    }
  ],
  "nbformat_minor": 2,
  "metadata": {
    "language_info": {
      "file_extension": ".jl",
      "mimetype": "application/julia",
      "name": "julia",
      "version": "1.9.0"
    },
    "kernelspec": {
      "name": "julia-1.9",
      "display_name": "Julia 1.9.0",
      "language": "julia"
    }
  },
  "nbformat": 4
}
