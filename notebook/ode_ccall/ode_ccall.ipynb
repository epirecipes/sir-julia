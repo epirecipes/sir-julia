{
  "cells": [
    {
      "cell_type": "markdown",
      "source": [
        "# Ordinary differential equation model with the vector field defined in C\nSimon Frost (@sdwfrost), 2024-06-03\n\n## Introduction\n\nWhile Julia is a high-level language, it is possible to define the vector field for an ordinary differential equation (ODE) in C and call it from Julia. This can be useful for performance reasons (if the calculation of the vector field in Julia happens to be slow), or if the vector field is already defined in C, for example, in another codebase. Julia's `ccall` makes it easy to call a compiled C function in a shared library.\n\n## Libraries"
      ],
      "metadata": {}
    },
    {
      "outputs": [],
      "cell_type": "code",
      "source": [
        "using OrdinaryDiffEq\nusing Libdl\nusing Plots\nusing BenchmarkTools"
      ],
      "metadata": {},
      "execution_count": null
    },
    {
      "cell_type": "markdown",
      "source": [
        "## Transitions\n\nWe define the vector field in C; it is easiest for this function to be in-place, so that we do not have to do any memory management on the C side. This approach is also more efficient, as it reduces the number of allocations needed. Note that, as in Julia, we can use Unicode characters for the parameters, making the code look more similar to the mathematical equations."
      ],
      "metadata": {}
    },
    {
      "outputs": [],
      "cell_type": "code",
      "source": [
        "C_code = \"\"\"\nvoid sir_ode(double *du, double *u, double *p, double *t){\n    double β = p[0];\n    double c = p[1];\n    double γ = p[2];\n    double S = u[0];\n    double I = u[1];\n    double R = u[2];\n    double N = S + I + R;\n    du[0] = -β*c*S*I/N;\n    du[1] = β*c*S*I/N - γ*I;\n    du[2] = γ*I;\n}\n\"\"\";"
      ],
      "metadata": {},
      "execution_count": null
    },
    {
      "cell_type": "markdown",
      "source": [
        "We then compile the code into a shared library; this example uses `gcc`, but any C compiler should work (though the invocation will be different). We use `tempname` to create a temporary file name for the shared library; actually, this will be the filename without the extension, as we will add the extension later, as the extension is platform-dependent."
      ],
      "metadata": {}
    },
    {
      "outputs": [],
      "cell_type": "code",
      "source": [
        "const Clib = tempname();"
      ],
      "metadata": {},
      "execution_count": null
    },
    {
      "cell_type": "markdown",
      "source": [
        "`gcc` allows shared libraries to be generated directly via piping the C code to the compiler. Note the use of the `Libdl.jl` package, which will provide the platform-dependent extension for shared libraries."
      ],
      "metadata": {}
    },
    {
      "outputs": [],
      "cell_type": "code",
      "source": [
        "open(`gcc -fPIC -O3 -xc -shared -o $(Clib * \".\" * Libdl.dlext) -`, \"w\") do f\n    print(f, C_code)\nend;"
      ],
      "metadata": {},
      "execution_count": null
    },
    {
      "cell_type": "markdown",
      "source": [
        "A simpler approach is to just save the C code to a file and then compile it."
      ],
      "metadata": {}
    },
    {
      "outputs": [],
      "cell_type": "code",
      "source": [
        "open(Clib * \".\" * \"c\", \"w\") do f\n    write(f, C_code)\nend\nrun(`gcc -fPIC -O3 -shared -o $(Clib * \".\" * Libdl.dlext) $(Clib * \".\" * \"c\")`);"
      ],
      "metadata": {},
      "execution_count": null
    },
    {
      "cell_type": "markdown",
      "source": [
        "We can then define the ODE function in Julia, which calls the C function using `ccall`. `du`, `u`, `p` are arrays of `Float64`, which are passed using pointers. `t` is passed as a `Ref` to a `Float64`, which is a pointer to a `Float64` value."
      ],
      "metadata": {}
    },
    {
      "outputs": [],
      "cell_type": "code",
      "source": [
        "function sir_ode_jl!(du,u,p,t)\n    ccall((:sir_ode,Clib,), Cvoid,\n          (Ptr{Float64}, Ptr{Float64}, Ptr{Float64}, Ptr{Float64}), du, u, p, Ref(t))\nend;"
      ],
      "metadata": {},
      "execution_count": null
    },
    {
      "cell_type": "markdown",
      "source": [
        "We can then proceed to solve the ODE using the `sir_ode_jl!` function as we would if the vector field were defined in Julia."
      ],
      "metadata": {}
    },
    {
      "outputs": [],
      "cell_type": "code",
      "source": [
        "sir_ode = ODEFunction(sir_ode_jl!);"
      ],
      "metadata": {},
      "execution_count": null
    },
    {
      "cell_type": "markdown",
      "source": [
        "## Time domain"
      ],
      "metadata": {}
    },
    {
      "outputs": [],
      "cell_type": "code",
      "source": [
        "δt = 0.1\ntmax = 40.0\ntspan = (0.0,tmax);"
      ],
      "metadata": {},
      "execution_count": null
    },
    {
      "cell_type": "markdown",
      "source": [
        "## Initial conditions and parameter values"
      ],
      "metadata": {}
    },
    {
      "outputs": [],
      "cell_type": "code",
      "source": [
        "u0 = [990.0,10.0,0.0] # S,I,R\np = [0.05,10.0,0.25]; # β,c,γ"
      ],
      "metadata": {},
      "execution_count": null
    },
    {
      "cell_type": "markdown",
      "source": [
        "## Solving the ODE"
      ],
      "metadata": {}
    },
    {
      "outputs": [],
      "cell_type": "code",
      "source": [
        "prob_ode = ODEProblem{true}(sir_ode, u0, tspan, p)\nsol_ode = solve(prob_ode, Tsit5(), dt = δt);"
      ],
      "metadata": {},
      "execution_count": null
    },
    {
      "cell_type": "markdown",
      "source": [
        "## Plotting"
      ],
      "metadata": {}
    },
    {
      "outputs": [],
      "cell_type": "code",
      "source": [
        "plot(sol_ode, labels=[\"S\" \"I\" \"R\"], lw = 2, xlabel = \"Time\", ylabel = \"Number\")"
      ],
      "metadata": {},
      "execution_count": null
    },
    {
      "cell_type": "markdown",
      "source": [
        "## Benchmarking"
      ],
      "metadata": {}
    },
    {
      "outputs": [],
      "cell_type": "code",
      "source": [
        "@benchmark solve(prob_ode, Tsit5(), dt = δt)"
      ],
      "metadata": {},
      "execution_count": null
    },
    {
      "cell_type": "markdown",
      "source": [
        "We can compare the performance of the C-based ODE with the Julia-based ODE."
      ],
      "metadata": {}
    },
    {
      "outputs": [],
      "cell_type": "code",
      "source": [
        "function sir_ode!(du,u,p,t)\n    (S,I,R) = u\n    (β,c,γ) = p\n    N = S+I+R\n    @inbounds begin\n        du[1] = -β*c*I/N*S\n        du[2] = β*c*I/N*S - γ*I\n        du[3] = γ*I\n    end\n    nothing\nend\nprob_ode2 = ODEProblem(sir_ode!, u0, tspan, p)\nsol_ode2 = solve(prob_ode2, Tsit5(), dt = δt)\n@benchmark solve(prob_ode2, Tsit5(), dt = δt)"
      ],
      "metadata": {},
      "execution_count": null
    },
    {
      "cell_type": "markdown",
      "source": [
        "Note that the performance of the C-based vector field is similar to the one defined in Julia."
      ],
      "metadata": {}
    }
  ],
  "nbformat_minor": 2,
  "metadata": {
    "language_info": {
      "file_extension": ".jl",
      "mimetype": "application/julia",
      "name": "julia",
      "version": "1.9.0"
    },
    "kernelspec": {
      "name": "julia-1.9",
      "display_name": "Julia 1.9.0",
      "language": "julia"
    }
  },
  "nbformat": 4
}
