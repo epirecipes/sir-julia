{
  "cells": [
    {
      "cell_type": "markdown",
      "source": [
        "# Jump process with delay using DelaySSAToolkit.jl\nSimon Frost (@sdwfrost), 2023-04-07\n\n## Introduction\n\nThis implementation defines the model as a combination of two jump processes, infection and recovery. Unlike the examples based on `JumpProcesses.jl` or `Gillespie.jl`, this example uses [`DelaySSAToolkit.jl`](https://github.com/palmtree2013/DelaySSAToolkit.jl) to allow non-exponential passage times (such as time to recovery) without using techniques such as the linear chain trick, as illustrated in [this example](https://github.com/epirecipes/sir-julia/blob/master/markdown/ode_stages/ode_stages.md). It does this by modeling non-Markovian dynamics as callbacks, while Markovian dynamics are modeled using the standard SciML approach. A similar idea is illustrated in [this notebook by Sean Wu](https://github.com/epirecipes/sir-julia/blob/master/markdown/jump_process_delay/jump_process_delay.md). This example is based on the [SEIR model tutorial](https://palmtree2013.github.io/DelaySSAToolkit.jl/dev/tutorials/tutorials/) in the DelaySSAToolkit.jl documentation.\n\n## Libraries"
      ],
      "metadata": {}
    },
    {
      "outputs": [],
      "cell_type": "code",
      "source": [
        "using ModelingToolkit\nusing Catalyst\nusing JumpProcesses\nusing DelaySSAToolkit\nusing Random\nusing Distributions\nusing Plots\nusing BenchmarkTools;"
      ],
      "metadata": {},
      "execution_count": null
    },
    {
      "cell_type": "markdown",
      "source": [
        "## Random number seed\n\nWe set a random number seed for reproducibility."
      ],
      "metadata": {}
    },
    {
      "outputs": [],
      "cell_type": "code",
      "source": [
        "Random.seed!(1234);"
      ],
      "metadata": {},
      "execution_count": null
    },
    {
      "cell_type": "markdown",
      "source": [
        "## Rationale\n\nThe standard SIR jump process model assumes that recovery times are exponentially distributed; however, this means that some individuals recover almost instantaneously, and some recover after a very long time. A gamma distribution can capture a peak of recovery times, with a shorter tail, but results in non-Markovian dynamics that cannot be simulated using algorithms such as the [Doob-Gillespie algorithm](https://en.wikipedia.org/wiki/Gillespie_algorithm)."
      ],
      "metadata": {}
    },
    {
      "outputs": [],
      "cell_type": "code",
      "source": [
        "x = 0:0.1:10\nye = pdf.(Exponential(4),x)\nyg = pdf.(Gamma(4,1),x)\nplot(x, ye, xlabel=\"Recovery time\", ylabel=\"Density\", label=\"Exponential(4)\")\nplot!(x, yg, label=\"Gamma(4,1)\")"
      ],
      "metadata": {},
      "execution_count": null
    },
    {
      "cell_type": "markdown",
      "source": [
        "`DelaySSAToolkit.jl` uses a combination of standard jump process solvers for the Markovian parts of the system and an event queue (such as that used in discrete event simulations) for the non-Markovian parts.\n\n## Transitions\n\n### Markovian dynamics\n\nInfection is modeled in the same way as a standard SIR jump process model."
      ],
      "metadata": {}
    },
    {
      "outputs": [],
      "cell_type": "code",
      "source": [
        "@parameters t β\n@variables S(t) I(t) R(t)\nN = S + I + R\nrxs = [Reaction(β/N, [S,I], [I], [1,1], [2])];"
      ],
      "metadata": {},
      "execution_count": null
    },
    {
      "cell_type": "markdown",
      "source": [
        "However, when we create the `ReactionSystem`, only the parameters for the Markovian dynamics are needed."
      ],
      "metadata": {}
    },
    {
      "outputs": [],
      "cell_type": "code",
      "source": [
        "@named rs  = ReactionSystem(rxs, t, [S,I,R], [β])\njsys = convert(JumpSystem, rs, combinatoric_ratelaws=false);"
      ],
      "metadata": {},
      "execution_count": null
    },
    {
      "cell_type": "markdown",
      "source": [
        "### Non-Markovian dynamics\n\nTo incorporate the delay, we will need to know the indices of the states and the reactions in the `JumpSystem`, which can be found as follows."
      ],
      "metadata": {}
    },
    {
      "outputs": [],
      "cell_type": "code",
      "source": [
        "species(jsys), length(reactions(jsys))"
      ],
      "metadata": {},
      "execution_count": null
    },
    {
      "cell_type": "markdown",
      "source": [
        "Recovery involves decreasing `I` by 1 (index 2) and increasing R by 1 (index 3). Recovery is triggered by an infection reaction; there is only one reaction in this system, and so this is index 1. We define a function that also takes a `Distribution` as an argument so we can easily swap out different distributions for the recovery times."
      ],
      "metadata": {}
    },
    {
      "outputs": [],
      "cell_type": "code",
      "source": [
        "recovery_trigger_affect! = function (integrator, rng, dist)\n    # Here, τ is the delay until one of the delay channels\n    # is triggered  \n    τ = rand(rng, dist)\n    # There is only one delay channel in this example\n    append!(integrator.de_chan[1], τ)\nend;"
      ],
      "metadata": {},
      "execution_count": null
    },
    {
      "cell_type": "markdown",
      "source": [
        "## Time domain, initial conditions, and parameter values\n\nWe define the time span, initial conditions, and parameter values as in other examples, except in this case, we specify a distribution for the recovery delays, and schedule the recovery delays for the initial infected individuals. Here, we generate random draws from the recovery time distribution, which is equivalent to the initial infected individuals all becoming infected at time `t=0`."
      ],
      "metadata": {}
    },
    {
      "outputs": [],
      "cell_type": "code",
      "source": [
        "tmax = 40.0\ntspan = (0.0, tmax);\np = [0.5]  # β   \ndist = Gamma(4.0, 1.0)\nu0 = [990, 10, 0] # S,I,R\nu0_delay = [rand(dist) for i in 1:u0[2]];"
      ],
      "metadata": {},
      "execution_count": null
    },
    {
      "cell_type": "markdown",
      "source": [
        "## Setting up the model\n\nWe assemble all of the triggers, interrupts, and completions into separate `Dict`s, then make a `DelayJumpSet`. The delay trigger requires a function with arguments `(integrator, rng)`, so we wrap this in an anonymous function so we can also pass the distribution."
      ],
      "metadata": {}
    },
    {
      "outputs": [],
      "cell_type": "code",
      "source": [
        "# Reaction 1 (infection) triggers the above callback\ndelay_trigger = Dict(1=> (i, r) -> recovery_trigger_affect!(i, r, dist))\n# There are no interrupts in the system\ndelay_interrupt = Dict()\n# After the delay, increment state 3 (R) by 1 and decrement state 2 (I) by 1\ndelay_complete = Dict(1=>[3=>1, 2=>-1])\n# Combine the above `Dict`s in a `DelayJumpSet`\ndelayjumpset = DelayJumpSet(delay_trigger, delay_complete, delay_interrupt);"
      ],
      "metadata": {},
      "execution_count": null
    },
    {
      "cell_type": "markdown",
      "source": [
        "We can now set up our `DelayJumpProblem`. We first make a `DiscreteProblem` from the Markovian jump system."
      ],
      "metadata": {}
    },
    {
      "outputs": [],
      "cell_type": "code",
      "source": [
        "dprob = DiscreteProblem(jsys, u0, tspan, p);"
      ],
      "metadata": {},
      "execution_count": null
    },
    {
      "cell_type": "markdown",
      "source": [
        "We then define a `Vector` of delay channels (the default is an empty `Vector{Vector}`, `[[]]`). In this case, we have the recovery delays for the initial infected individuals."
      ],
      "metadata": {}
    },
    {
      "outputs": [],
      "cell_type": "code",
      "source": [
        "de_chan0 = [u0_delay];"
      ],
      "metadata": {},
      "execution_count": null
    },
    {
      "cell_type": "markdown",
      "source": [
        "We now assemble the `DelayJumpProblem` using the components described above."
      ],
      "metadata": {}
    },
    {
      "outputs": [],
      "cell_type": "code",
      "source": [
        "djprob = DelayJumpProblem(jsys, dprob, DelayRejection(), delayjumpset, de_chan0, save_positions=(true,true));"
      ],
      "metadata": {},
      "execution_count": null
    },
    {
      "cell_type": "markdown",
      "source": [
        "Running the model uses `solve`, as for other SciML models; here, we use an `SSAStepper` as the solver for the Markovian part of the model."
      ],
      "metadata": {}
    },
    {
      "outputs": [],
      "cell_type": "code",
      "source": [
        "djsol = solve(djprob, SSAStepper());"
      ],
      "metadata": {},
      "execution_count": null
    },
    {
      "cell_type": "markdown",
      "source": [
        "## Plotting"
      ],
      "metadata": {}
    },
    {
      "outputs": [],
      "cell_type": "code",
      "source": [
        "plot(djsol, xlabel=\"Time\", ylabel=\"Number\")"
      ],
      "metadata": {},
      "execution_count": null
    },
    {
      "cell_type": "markdown",
      "source": [
        "## Benchmarks"
      ],
      "metadata": {}
    },
    {
      "outputs": [],
      "cell_type": "code",
      "source": [
        "@benchmark solve(djprob, SSAStepper())"
      ],
      "metadata": {},
      "execution_count": null
    }
  ],
  "nbformat_minor": 2,
  "metadata": {
    "language_info": {
      "file_extension": ".jl",
      "mimetype": "application/julia",
      "name": "julia",
      "version": "1.8.5"
    },
    "kernelspec": {
      "name": "julia-1.8",
      "display_name": "Julia 1.8.5",
      "language": "julia"
    }
  },
  "nbformat": 4
}
