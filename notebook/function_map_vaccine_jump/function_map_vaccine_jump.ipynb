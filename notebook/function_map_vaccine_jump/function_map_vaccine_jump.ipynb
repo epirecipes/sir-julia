{
  "cells": [
    {
      "cell_type": "markdown",
      "source": [
        "# Optimal control of an SIR epidemic with vaccination using JuMP.jl\nSimon Frost (@sdwfrost), 2023-05-05\n\n## Introduction\n\nThis example considers the optimal control of an SIR epidemic through vaccination, which removes susceptible individuals according to the following set of equations. `S` is the number of susceptible individuals, `I` is the number of infected individuals, and `C` is the total number of cases. Susceptible individuals are vaccinated at a per-capita rate `υ(t)`. The optimal control problem is specified as the policy that minimizes the total number of cases (i.e. the final size) under the constraints (a) that `υ` cannot exceed a maximum value (i.e. there is a maximum vaccination rate) and (b) there is a cost, measured as the integral of `υ(t) S(t)` over time, which cannot exceed a certain level.\n\n$$\n\\begin{align*}\n\\dfrac{\\mathrm dS}{\\mathrm dt} &= -\\beta S I - \\upsilon(t) S, \\\\\n\\dfrac{\\mathrm dI}{\\mathrm dt} &= \\beta S I - \\gamma I,\\\\ \n\\dfrac{\\mathrm dC}{\\mathrm dt} &= \\beta S I\\\\\n\\end{align*}\n$$\n\n## Libraries"
      ],
      "metadata": {}
    },
    {
      "outputs": [],
      "cell_type": "code",
      "source": [
        "using JuMP\nusing Ipopt\nusing Plots;"
      ],
      "metadata": {},
      "execution_count": null
    },
    {
      "cell_type": "markdown",
      "source": [
        "## Parameters\n\nWe set the parameters, which includes the maximum intervention level, `υ_max`, and the cost, which is the integral of the intervention level over time, `υ_total`."
      ],
      "metadata": {}
    },
    {
      "outputs": [],
      "cell_type": "code",
      "source": [
        "β = 0.5 # infectivity rate\nγ = 0.25 # recovery rate\nυ_max = 0.05 # maximum vaccination rate \nυ_total = 1.0 # maximum cost\nsilent = true; # whether to display output of solver"
      ],
      "metadata": {},
      "execution_count": null
    },
    {
      "cell_type": "markdown",
      "source": [
        "## Time domain\n\nWe set the time horizon to be long enough for the system to settle down to an equilibrium. We use a grid of timepoints fine enough to capture a wide variety of policy shapes, but coarse enough to keep the number of policy parameters to optimize low."
      ],
      "metadata": {}
    },
    {
      "outputs": [],
      "cell_type": "code",
      "source": [
        "t0 = 0.0\ntf = 100.0\ndt = 1.0;"
      ],
      "metadata": {},
      "execution_count": null
    },
    {
      "cell_type": "markdown",
      "source": [
        "## Initial conditions\n\nWe set the initial conditions for the number of susceptibles, infecteds, and the total number of cases."
      ],
      "metadata": {}
    },
    {
      "outputs": [],
      "cell_type": "code",
      "source": [
        "S₀ = 0.99\nI₀ = 0.01\nC₀ = 0.00;"
      ],
      "metadata": {},
      "execution_count": null
    },
    {
      "cell_type": "markdown",
      "source": [
        "## Model setup\n\nWe specify a model using `JuMP.Model`, passing an optimizer."
      ],
      "metadata": {}
    },
    {
      "outputs": [],
      "cell_type": "code",
      "source": [
        "model = Model(Ipopt.Optimizer)"
      ],
      "metadata": {},
      "execution_count": null
    },
    {
      "cell_type": "markdown",
      "source": [
        "We now declare the number of timesteps, `T`, and vectors of our model variables, each `T+1` steps long."
      ],
      "metadata": {}
    },
    {
      "outputs": [],
      "cell_type": "code",
      "source": [
        "T = Int(tf/dt)\n@variable(model, S[1:(T+1)])\n@variable(model, I[1:(T+1)])\n@variable(model, C[1:(T+1)])\n@variable(model, υ[1:(T+1)]);"
      ],
      "metadata": {},
      "execution_count": null
    },
    {
      "cell_type": "markdown",
      "source": [
        "We constrain the variables, `S`, `I`, and `C` to be at their initial conditions for the first element of the array, and between 0 and 1 (as we are using proportions) for the others."
      ],
      "metadata": {}
    },
    {
      "outputs": [],
      "cell_type": "code",
      "source": [
        "# Initial conditions\n@constraint(model, S[1]==S₀)\n@constraint(model, I[1]==I₀)\n@constraint(model, C[1]==C₀)\n\n# Constraints on variables\n@constraint(model, [t=2:(T+1)], 0 ≤  S[t] ≤ 1)\n@constraint(model, [t=2:(T+1)], 0 ≤  I[t] ≤ 1)\n@constraint(model, [t=2:(T+1)], 0 ≤  C[t] ≤ 1);"
      ],
      "metadata": {},
      "execution_count": null
    },
    {
      "cell_type": "markdown",
      "source": [
        "We constrain our vaccination policy, `υ(t)` to lie between 0 and `υ_max`, and constrain the integral of the intervention to be less than or equal to `υ_total`, assuming that the intervention is piecewise constant during each time step."
      ],
      "metadata": {}
    },
    {
      "outputs": [],
      "cell_type": "code",
      "source": [
        "@constraint(model, [t=1:(T+1)], 0 ≤  υ[t] ≤ υ_max)\n@constraint(model, [t=1:(T+1)], sum(dt*υ[t]*S[t]) ≤ υ_total);"
      ],
      "metadata": {},
      "execution_count": null
    },
    {
      "cell_type": "markdown",
      "source": [
        "To simplify the model constraints, we define nonlinear expressions for infection and recovery. We only need a vector that is `T` steps long."
      ],
      "metadata": {}
    },
    {
      "outputs": [],
      "cell_type": "code",
      "source": [
        "@NLexpression(model, infection[t=1:T], (1 - exp(-β*I[t]*dt)) * S[t])\n@NLexpression(model, recovery[t=1:T], (1-exp(-γ*dt)) * I[t]);\n@NLexpression(model, vaccination[t=1:T], (1-exp(-υ[t]*dt)) * S[t]);"
      ],
      "metadata": {},
      "execution_count": null
    },
    {
      "cell_type": "markdown",
      "source": [
        "We now add additional constraints corresponding to the function map for `S`, `I`, and `C`. These have to be nonlinear constraints due to the inclusion of nonlinear expressions."
      ],
      "metadata": {}
    },
    {
      "outputs": [],
      "cell_type": "code",
      "source": [
        "@NLconstraint(model, [t=1:T], S[t+1] == S[t] - infection[t] - vaccination[t])\n@NLconstraint(model, [t=1:T], I[t+1] == I[t] + infection[t] - recovery[t])\n@NLconstraint(model, [t=1:T], C[t+1] == C[t] + infection[t]);"
      ],
      "metadata": {},
      "execution_count": null
    },
    {
      "cell_type": "markdown",
      "source": [
        "We declare our objective as minimizing the total number of cases at the final timepoint."
      ],
      "metadata": {}
    },
    {
      "outputs": [],
      "cell_type": "code",
      "source": [
        "@objective(model, Min, C[T+1]);"
      ],
      "metadata": {},
      "execution_count": null
    },
    {
      "cell_type": "markdown",
      "source": [
        "## Running the model\n\nWe optimize the model in-place."
      ],
      "metadata": {}
    },
    {
      "outputs": [],
      "cell_type": "code",
      "source": [
        "if silent\n    set_silent(model)\nend\noptimize!(model)"
      ],
      "metadata": {},
      "execution_count": null
    },
    {
      "cell_type": "markdown",
      "source": [
        "We can check the termination status of the optimizer, to check whether it has converged."
      ],
      "metadata": {}
    },
    {
      "outputs": [],
      "cell_type": "code",
      "source": [
        "termination_status(model)"
      ],
      "metadata": {},
      "execution_count": null
    },
    {
      "cell_type": "markdown",
      "source": [
        "## Post-processing\n\nWe can now extract the optimized values of `S`, `I`, and `C`, as well as the optimal policy, `υ`, as follows."
      ],
      "metadata": {}
    },
    {
      "outputs": [],
      "cell_type": "code",
      "source": [
        "S_opt = value.(S)\nI_opt = value.(I)\nC_opt = value.(C)\nυ_opt = value.(υ)\nts = collect(0:dt:tf);"
      ],
      "metadata": {},
      "execution_count": null
    },
    {
      "cell_type": "markdown",
      "source": [
        "## Plotting"
      ],
      "metadata": {}
    },
    {
      "outputs": [],
      "cell_type": "code",
      "source": [
        "plot(ts, S_opt, label=\"S\", xlabel=\"Time\", ylabel=\"Number\")\nplot!(ts, I_opt, label=\"I\")\nplot!(ts, C_opt, label=\"C\")\nplot!(ts, υ_opt, label=\"Optimized υ\")"
      ],
      "metadata": {},
      "execution_count": null
    },
    {
      "cell_type": "markdown",
      "source": [
        "## An alternative model\n\nRather than having a per-capita rate of vaccination, we can have a vaccination rate that is independent of the density of susceptibles. This may be more realistic if there is a fixed vaccination capacity.\n\n$$\n\\begin{align*}\n\\dfrac{\\mathrm dS}{\\mathrm dt} &= -\\beta S I - \\upsilon(t), \\\\\n\\dfrac{\\mathrm dI}{\\mathrm dt} &= \\beta S I - \\gamma I,\\\\ \n\\dfrac{\\mathrm dC}{\\mathrm dt} &= \\beta S I\\\\\n\\end{align*}\n$$"
      ],
      "metadata": {}
    },
    {
      "outputs": [],
      "cell_type": "code",
      "source": [
        "model = Model(Ipopt.Optimizer)\n@variable(model, S[1:(T+1)])\n@variable(model, I[1:(T+1)])\n@variable(model, C[1:(T+1)])\n@variable(model, υ[1:(T+1)])\n\n# Initial conditions\n@constraint(model, S[1]==S₀)\n@constraint(model, I[1]==I₀)\n@constraint(model, C[1]==C₀)\n\n# Constraints on variables\n@constraint(model, [t=2:(T+1)], 0 ≤  S[t] ≤ 1)\n@constraint(model, [t=2:(T+1)], 0 ≤  I[t] ≤ 1)\n@constraint(model, [t=2:(T+1)], 0 ≤  C[t] ≤ 1)\n\n@constraint(model, [t=1:(T+1)], 0 ≤  υ[t] ≤ υ_max)\n# The below constraint is changed from the per-capita example\n@constraint(model, sum(dt*υ) ≤ υ_total)\n\n@NLexpression(model, infection[t=1:T], (1 - exp(-β*I[t]*dt)) * S[t])\n@NLexpression(model, recovery[t=1:T], (1-exp(-γ*dt)) * I[t])\n# The below constraint is changed from the per-capita example\n@NLexpression(model, vaccination[t=1:T], υ[t]*dt)\n\n@NLconstraint(model, [t=1:T], S[t+1] == S[t] - infection[t] - vaccination[t])\n@NLconstraint(model, [t=1:T], I[t+1] == I[t] + infection[t] - recovery[t])\n@NLconstraint(model, [t=1:T], C[t+1] == C[t] + infection[t])\n\n@objective(model, Min, C[T+1]);"
      ],
      "metadata": {},
      "execution_count": null
    },
    {
      "outputs": [],
      "cell_type": "code",
      "source": [
        "if silent\n    set_silent(model)\nend\noptimize!(model)"
      ],
      "metadata": {},
      "execution_count": null
    },
    {
      "outputs": [],
      "cell_type": "code",
      "source": [
        "S_opt = value.(S)\nI_opt = value.(I)\nC_opt = value.(C)\nυ_opt = value.(υ)\nts = collect(0:dt:tf);"
      ],
      "metadata": {},
      "execution_count": null
    },
    {
      "outputs": [],
      "cell_type": "code",
      "source": [
        "plot(ts, S_opt, label=\"S\", xlabel=\"Time\", ylabel=\"Number\")\nplot!(ts, I_opt, label=\"I\")\nplot!(ts, C_opt, label=\"C\")\nplot!(ts, υ_opt, label=\"Optimized υ\")"
      ],
      "metadata": {},
      "execution_count": null
    },
    {
      "cell_type": "markdown",
      "source": [
        "## Discussion\n\nUnlike the [lockdown example](https://github.com/epirecipes/sir-julia/blob/master/markdown/ode_lockdown_jump/ode_lockdown_jump.md), where the optimal control may be delayed until close to the peak of infections, the optimal policy for a (perfect) vaccine is to vaccinate early and at the maximal levels until the vaccine supply is exhausted."
      ],
      "metadata": {}
    }
  ],
  "nbformat_minor": 2,
  "metadata": {
    "language_info": {
      "file_extension": ".jl",
      "mimetype": "application/julia",
      "name": "julia",
      "version": "1.9.0"
    },
    "kernelspec": {
      "name": "julia-1.9",
      "display_name": "Julia 1.9.0",
      "language": "julia"
    }
  },
  "nbformat": 4
}
