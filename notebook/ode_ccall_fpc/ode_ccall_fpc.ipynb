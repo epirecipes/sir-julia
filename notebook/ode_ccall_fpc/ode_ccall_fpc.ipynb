{
  "cells": [
    {
      "cell_type": "markdown",
      "source": [
        "# Ordinary differential equation model with the vector field defined in FreePascal\nSimon Frost (@sdwfrost), 2024-06-14\n\n## Introduction\n\nWhile Julia is a high-level language, it is possible to define the vector field for an ordinary differential equation (ODE) in a compiled language and call it from Julia. This can be useful for performance reasons (if the calculation of the vector field in Julia happens to be slow for some reason), or if the vector field is already defined, for example, in another codebase. Julia's `ccall` makes it easy to call a compiled function in a shared library, such as one written in FreePascal.\n\n## Libraries"
      ],
      "metadata": {}
    },
    {
      "outputs": [],
      "cell_type": "code",
      "source": [
        "using OrdinaryDiffEq\nusing Libdl\nusing Plots\nusing BenchmarkTools"
      ],
      "metadata": {},
      "execution_count": null
    },
    {
      "cell_type": "markdown",
      "source": [
        "## Transitions\n\nWe define the vector field in FreePascal; it is easiest for this function to be in-place, so that we do not have to do any memory management on the FreePascal side. This approach is also more efficient, as it reduces the number of allocations needed."
      ],
      "metadata": {}
    },
    {
      "outputs": [],
      "cell_type": "code",
      "source": [
        "FPC_code = \"\"\"\nlibrary sir_ode_lib;\n\ntype\n  PDouble = ^Double;\n  TDoubleArray = array[0..2] of Double;\n  PDoubleArray = ^TDoubleArray;\n\nprocedure sir_ode(du, u, p: PDoubleArray; t: PDouble); cdecl; export;\nvar\n  beta, c, gamma, S, I, R, N: Double;\nbegin\n  // Access the elements of the arrays through pointers\n  beta := p^[0];\n  c := p^[1];\n  gamma := p^[2];\n  S := u^[0];\n  I := u^[1];\n  R := u^[2];\n  N := S + I + R;\n  \n  du^[0] := -beta * c * S * I / N;\n  du^[1] := beta * c * S * I / N - gamma * I;\n  du^[2] := gamma * I;\nend;\n\nexports\n  sir_ode;\n\nbegin\nend.\n\"\"\";"
      ],
      "metadata": {},
      "execution_count": null
    },
    {
      "cell_type": "markdown",
      "source": [
        "Note that the `begin` and `end.` are necessary to define the library. Derivatives, states and parameters are passed as pointers to arrays of `Double`, which are then dereferenced to access the values using `^`\n\nWe then compile the code into a shared library."
      ],
      "metadata": {}
    },
    {
      "outputs": [],
      "cell_type": "code",
      "source": [
        "const FPClib = tempname()\nopen(FPClib * \".\" * \"pas\", \"w\") do f\n    write(f, FPC_code)\nend\nrun(`fpc -Cg -XS -o$(FPClib * \".\" * Libdl.dlext) $(FPClib * \".\" * \"pas\")`);"
      ],
      "metadata": {},
      "execution_count": null
    },
    {
      "cell_type": "markdown",
      "source": [
        "We can then define the ODE function in Julia, which calls the FreePascal function using `ccall`. `du`, `u`, `p` are arrays of `Float64`, which are passed using pointers. `t` is passed as a `Ref` pointer to a `Float64` value."
      ],
      "metadata": {}
    },
    {
      "outputs": [],
      "cell_type": "code",
      "source": [
        "function sir_ode_jl!(du,u,p,t)\n    ccall((:sir_ode,FPClib,), Cvoid,\n          (Ptr{Float64}, Ptr{Float64}, Ptr{Float64}, Ptr{Float64}), du, u, p, Ref(t))\nend;"
      ],
      "metadata": {},
      "execution_count": null
    },
    {
      "cell_type": "markdown",
      "source": [
        "## Time domain and parameters"
      ],
      "metadata": {}
    },
    {
      "outputs": [],
      "cell_type": "code",
      "source": [
        "δt = 0.1\ntmax = 40.0\ntspan = (0.0,tmax)\nu0 = [990.0,10.0,0.0] # S,I,R\np = [0.05,10.0,0.25]; # β,c,γ"
      ],
      "metadata": {},
      "execution_count": null
    },
    {
      "cell_type": "markdown",
      "source": [
        "## Solving the ODE"
      ],
      "metadata": {}
    },
    {
      "outputs": [],
      "cell_type": "code",
      "source": [
        "prob_ode = ODEProblem{true}(sir_ode_jl!, u0, tspan, p)\nsol_ode = solve(prob_ode, Tsit5(), dt = δt);"
      ],
      "metadata": {},
      "execution_count": null
    },
    {
      "cell_type": "markdown",
      "source": [
        "## Plotting"
      ],
      "metadata": {}
    },
    {
      "outputs": [],
      "cell_type": "code",
      "source": [
        "plot(sol_ode)"
      ],
      "metadata": {},
      "execution_count": null
    },
    {
      "cell_type": "markdown",
      "source": [
        "## Benchmarking"
      ],
      "metadata": {}
    },
    {
      "outputs": [],
      "cell_type": "code",
      "source": [
        "@benchmark solve(prob_ode, Tsit5(), dt = δt)"
      ],
      "metadata": {},
      "execution_count": null
    },
    {
      "cell_type": "markdown",
      "source": [
        "We can compare the performance of the C-based ODE with the Julia-based ODE."
      ],
      "metadata": {}
    },
    {
      "outputs": [],
      "cell_type": "code",
      "source": [
        "function sir_ode!(du,u,p,t)\n    (S,I,R) = u\n    (β,c,γ) = p\n    N = S+I+R\n    @inbounds begin\n        du[1] = -β*c*I/N*S\n        du[2] = β*c*I/N*S - γ*I\n        du[3] = γ*I\n    end\n    nothing\nend\nprob_ode2 = ODEProblem(sir_ode!, u0, tspan, p)\nsol_ode2 = solve(prob_ode2, Tsit5(), dt = δt)\n@benchmark solve(prob_ode2, Tsit5(), dt = δt)"
      ],
      "metadata": {},
      "execution_count": null
    },
    {
      "cell_type": "markdown",
      "source": [
        "Note that the performance of the FreePascal-based vector field is similar to the one defined in Julia."
      ],
      "metadata": {}
    }
  ],
  "nbformat_minor": 2,
  "metadata": {
    "language_info": {
      "file_extension": ".jl",
      "mimetype": "application/julia",
      "name": "julia",
      "version": "1.9.0"
    },
    "kernelspec": {
      "name": "julia-1.9",
      "display_name": "Julia 1.9.0",
      "language": "julia"
    }
  },
  "nbformat": 4
}
