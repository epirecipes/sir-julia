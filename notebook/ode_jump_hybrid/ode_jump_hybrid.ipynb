{
  "cells": [
    {
      "cell_type": "markdown",
      "source": [
        "# SIR model with a hybrid ODE/jump process\nSimon Frost (@sdwfrost), 2024-08-28\n\n## Introduction\n\nOne way to speed up simulations of large population size models is to switch between a stochastic model at 'low' population sizes, and a fast, deterministic model, such as an ordinary differential equation (ODE), at 'high' population sizes. This example demonstrates how to implement a hybrid ODE/jump process model using the `OrdinaryDiffEq` and `JumpProcesses` packages, based on the discussion [here](https://discourse.julialang.org/t/improving-the-speed-of-large-population-simulations-in-differentialequations-jl/93109/9). It uses callbacks to turn parameters for the jump process on and off.\n\n## Libraries"
      ],
      "metadata": {}
    },
    {
      "outputs": [],
      "cell_type": "code",
      "source": [
        "using OrdinaryDiffEq, JumpProcesses, Plots"
      ],
      "metadata": {},
      "execution_count": null
    },
    {
      "cell_type": "markdown",
      "source": [
        "## Transitions\n\nWe define the transitions for the SIR model in terms of an ODE and a jump process, then switch between them using callbacks.\n\n### ODE"
      ],
      "metadata": {}
    },
    {
      "outputs": [],
      "cell_type": "code",
      "source": [
        "function sir_ode!(du,u,p,t)\n    (S,I) = u\n    (β,γ) = p\n    @inbounds begin\n        du[1] = -β*I*S\n        du[2] = β*I*S - γ*I\n    end\n    nothing\nend;"
      ],
      "metadata": {},
      "execution_count": null
    },
    {
      "cell_type": "markdown",
      "source": [
        "### Jump process"
      ],
      "metadata": {}
    },
    {
      "outputs": [],
      "cell_type": "code",
      "source": [
        "function infection!(integrator)\n    integrator.u[1] = integrator.u[1] - 1\n    integrator.u[2] = integrator.u[2] + 1\n    nothing\nend\ninfection_rate(u, p, t) = p[3]*u[1]*u[2]\ninfection_jump = VariableRateJump(infection_rate, infection!)\n\nfunction recovery!(integrator)\n    integrator.u[2] = integrator.u[2] - 1\nend\nrecovery_rate(u, p, t) = p[4]*u[2]\nrecovery_jump = VariableRateJump(recovery_rate, recovery!);"
      ],
      "metadata": {},
      "execution_count": null
    },
    {
      "cell_type": "markdown",
      "source": [
        "### Callbacks\n\nWe first define a callback to switch from the jump process to the ODE at a given threshold for the number of infectious individuals, `Iswitch`."
      ],
      "metadata": {}
    },
    {
      "outputs": [],
      "cell_type": "code",
      "source": [
        "# Switch from jump -> ODE\ncond_switch1(u, t, integrator) = integrator.u[2] >= Iswitch\n\n# Affect for switching - turn the ODE integrator rates on and jump process rates off. \nfunction switch_1!(integrator)\n    integrator.p[1] = β\n    integrator.p[2] = γ\n    integrator.p[3] = 0.0\n    integrator.p[4] = 0.0\n    nothing\nend\n\ncb_switch1 = DiscreteCallback(cond_switch1, switch_1!, \n                              save_positions = (false, true));"
      ],
      "metadata": {},
      "execution_count": null
    },
    {
      "cell_type": "markdown",
      "source": [
        "We also define a callback to switch from the ODE to the jump process at a given threshold, `Iswitch-1`. An additional complexity here is that the jump process considers population sizes as integers, so we round the ODE solution to the nearest integer."
      ],
      "metadata": {}
    },
    {
      "outputs": [],
      "cell_type": "code",
      "source": [
        "# Switch from ODE -> jump process\ncond_switch2(u, t, integrator) = (u[2] - (Iswitch-1)) # switches when 1 less\n\n# Affect for switching - turning the jump process integrator rates on and ODE rates off. \nfunction switch_2!(integrator)\n    # Round the popoulation size to discrete for the sjm.\n    integrator.u[1] = round(integrator.u[1])\n    integrator.u[2] = round(integrator.u[2])\n    integrator.p[1] = 0.0\n    integrator.p[2] = 0.0\n    integrator.p[3] = β\n    integrator.p[4] = γ\n    nothing\nend\n\ncb_switch2 = ContinuousCallback(cond_switch2, switch_2!,\n                                save_positions = (false, true))\n\n# Turn into a callback set\ncbs = CallbackSet(cb_switch1, cb_switch2);"
      ],
      "metadata": {},
      "execution_count": null
    },
    {
      "cell_type": "markdown",
      "source": [
        "## Parameters and initial conditions"
      ],
      "metadata": {}
    },
    {
      "outputs": [],
      "cell_type": "code",
      "source": [
        "β = 0.5/1000.0\nγ = 0.25\np = [0.0, 0.0, β, γ]\nu0 = [990.0, 10.0]\ntspan = (0.0, 40.0)\nIswitch = 20;"
      ],
      "metadata": {},
      "execution_count": null
    },
    {
      "cell_type": "markdown",
      "source": [
        "## Running the model"
      ],
      "metadata": {}
    },
    {
      "outputs": [],
      "cell_type": "code",
      "source": [
        "prob_ode = ODEProblem(sir_ode!, u0, tspan, p)\nprob_jump = JumpProblem(prob_ode, Direct(), infection_jump, recovery_jump);"
      ],
      "metadata": {},
      "execution_count": null
    },
    {
      "outputs": [],
      "cell_type": "code",
      "source": [
        "sol = solve(prob_jump, Tsit5(), callback = cbs, adaptive=false, dt = 0.1);"
      ],
      "metadata": {},
      "execution_count": null
    },
    {
      "cell_type": "markdown",
      "source": [
        "## Plotting"
      ],
      "metadata": {}
    },
    {
      "outputs": [],
      "cell_type": "code",
      "source": [
        "out = hcat(sol.u...)[1:2,:]\nplot(sol.t, out[1,:], label=\"S\")\nplot!(sol.t, out[2,:], label=\"I\")\nplot!([0.0, 40.0], [Iswitch, Iswitch], label=\"Switching point\")"
      ],
      "metadata": {},
      "execution_count": null
    }
  ],
  "nbformat_minor": 2,
  "metadata": {
    "language_info": {
      "file_extension": ".jl",
      "mimetype": "application/julia",
      "name": "julia",
      "version": "1.10.3"
    },
    "kernelspec": {
      "name": "julia-1.10",
      "display_name": "Julia 1.10.3",
      "language": "julia"
    }
  },
  "nbformat": 4
}
